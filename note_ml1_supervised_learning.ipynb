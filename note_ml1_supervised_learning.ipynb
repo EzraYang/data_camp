{
 "cells": [
  {
   "cell_type": "markdown",
   "metadata": {
    "toc": "true"
   },
   "source": [
    "# Table of Contents\n",
    " <p><div class=\"lev1 toc-item\"><a href=\"#classification-with-knn\" data-toc-modified-id=\"classification-with-knn-1\"><span class=\"toc-item-num\">1&nbsp;&nbsp;</span>classification with knn</a></div><div class=\"lev2 toc-item\"><a href=\"#EDA-on-iris-dataset\" data-toc-modified-id=\"EDA-on-iris-dataset-11\"><span class=\"toc-item-num\">1.1&nbsp;&nbsp;</span>EDA on iris dataset</a></div><div class=\"lev2 toc-item\"><a href=\"#build-a-knn-classifier\" data-toc-modified-id=\"build-a-knn-classifier-12\"><span class=\"toc-item-num\">1.2&nbsp;&nbsp;</span>build a knn classifier</a></div><div class=\"lev2 toc-item\"><a href=\"#split-fit-pred-score-SOP\" data-toc-modified-id=\"split-fit-pred-score-SOP-13\"><span class=\"toc-item-num\">1.3&nbsp;&nbsp;</span>split-fit-pred-score SOP</a></div><div class=\"lev1 toc-item\"><a href=\"#Regression:-linear,-ridge,-lasso\" data-toc-modified-id=\"Regression:-linear,-ridge,-lasso-2\"><span class=\"toc-item-num\">2&nbsp;&nbsp;</span>Regression: linear, ridge, lasso</a></div><div class=\"lev2 toc-item\"><a href=\"#intro-to-regression\" data-toc-modified-id=\"intro-to-regression-21\"><span class=\"toc-item-num\">2.1&nbsp;&nbsp;</span>intro to regression</a></div><div class=\"lev2 toc-item\"><a href=\"#The-basics-of-linear-regression\" data-toc-modified-id=\"The-basics-of-linear-regression-22\"><span class=\"toc-item-num\">2.2&nbsp;&nbsp;</span>The basics of linear regression</a></div><div class=\"lev2 toc-item\"><a href=\"#Cross-validation\" data-toc-modified-id=\"Cross-validation-23\"><span class=\"toc-item-num\">2.3&nbsp;&nbsp;</span>Cross-validation</a></div><div class=\"lev2 toc-item\"><a href=\"#regularized-regression:-ridge-and-lasso\" data-toc-modified-id=\"regularized-regression:-ridge-and-lasso-24\"><span class=\"toc-item-num\">2.4&nbsp;&nbsp;</span>regularized regression: ridge and lasso</a></div><div class=\"lev1 toc-item\"><a href=\"#Fine-tuning-your-model\" data-toc-modified-id=\"Fine-tuning-your-model-3\"><span class=\"toc-item-num\">3&nbsp;&nbsp;</span>Fine-tuning your model</a></div><div class=\"lev2 toc-item\"><a href=\"#classification-specific-problem\" data-toc-modified-id=\"classification-specific-problem-31\"><span class=\"toc-item-num\">3.1&nbsp;&nbsp;</span>classification-specific problem</a></div><div class=\"lev3 toc-item\"><a href=\"#more-metrics:-precision,-recall,-F1-score\" data-toc-modified-id=\"more-metrics:-precision,-recall,-F1-score-311\"><span class=\"toc-item-num\">3.1.1&nbsp;&nbsp;</span>more metrics: precision, recall, F1 score</a></div><div class=\"lev3 toc-item\"><a href=\"#logistic-regression-and-ROC-curve\" data-toc-modified-id=\"logistic-regression-and-ROC-curve-312\"><span class=\"toc-item-num\">3.1.2&nbsp;&nbsp;</span>logistic regression and ROC curve</a></div><div class=\"lev3 toc-item\"><a href=\"#AUC-value:-alone-and-with-CV\" data-toc-modified-id=\"AUC-value:-alone-and-with-CV-313\"><span class=\"toc-item-num\">3.1.3&nbsp;&nbsp;</span>AUC value: alone and with CV</a></div><div class=\"lev2 toc-item\"><a href=\"#hyperparameter-tuning\" data-toc-modified-id=\"hyperparameter-tuning-32\"><span class=\"toc-item-num\">3.2&nbsp;&nbsp;</span>hyperparameter tuning</a></div><div class=\"lev3 toc-item\"><a href=\"#GridSearchCV\" data-toc-modified-id=\"GridSearchCV-321\"><span class=\"toc-item-num\">3.2.1&nbsp;&nbsp;</span>GridSearchCV</a></div><div class=\"lev3 toc-item\"><a href=\"#RandomizedSearchCV,-and--Tree-model\" data-toc-modified-id=\"RandomizedSearchCV,-and--Tree-model-322\"><span class=\"toc-item-num\">3.2.2&nbsp;&nbsp;</span>RandomizedSearchCV, and  Tree model</a></div><div class=\"lev2 toc-item\"><a href=\"#Hold-out-set-for-final-evaluation\" data-toc-modified-id=\"Hold-out-set-for-final-evaluation-33\"><span class=\"toc-item-num\">3.3&nbsp;&nbsp;</span>Hold-out set for final evaluation</a></div><div class=\"lev1 toc-item\"><a href=\"#Preprocessing-and-pipelines\" data-toc-modified-id=\"Preprocessing-and-pipelines-4\"><span class=\"toc-item-num\">4&nbsp;&nbsp;</span>Preprocessing and pipelines</a></div><div class=\"lev2 toc-item\"><a href=\"#dealing-with-categorical-features\" data-toc-modified-id=\"dealing-with-categorical-features-41\"><span class=\"toc-item-num\">4.1&nbsp;&nbsp;</span>dealing with categorical features</a></div><div class=\"lev2 toc-item\"><a href=\"#handling-missing-data,-and-pipeline-obj.\" data-toc-modified-id=\"handling-missing-data,-and-pipeline-obj.-42\"><span class=\"toc-item-num\">4.2&nbsp;&nbsp;</span>handling missing data, and pipeline obj.</a></div><div class=\"lev2 toc-item\"><a href=\"#Centering-and-scaling(normalizing)\" data-toc-modified-id=\"Centering-and-scaling(normalizing)-43\"><span class=\"toc-item-num\">4.3&nbsp;&nbsp;</span>Centering and scaling(normalizing)</a></div><div class=\"lev1 toc-item\"><a href=\"#pipeline\" data-toc-modified-id=\"pipeline-5\"><span class=\"toc-item-num\">5&nbsp;&nbsp;</span>pipeline</a></div><div class=\"lev2 toc-item\"><a href=\"#pipeline-for-classification\" data-toc-modified-id=\"pipeline-for-classification-51\"><span class=\"toc-item-num\">5.1&nbsp;&nbsp;</span>pipeline for classification</a></div><div class=\"lev2 toc-item\"><a href=\"#Pipeline-for-regression\" data-toc-modified-id=\"Pipeline-for-regression-52\"><span class=\"toc-item-num\">5.2&nbsp;&nbsp;</span>Pipeline for regression</a></div>"
   ]
  },
  {
   "cell_type": "markdown",
   "metadata": {},
   "source": [
    "\n",
    "split -->> pipeline{impute/scale-instantiate} -->>\n",
    "hyperparams_tuning{param_grid} -->> fit -->> evaluate\n",
    "\n",
    "* module summarize\n",
    "    * preprocess\n",
    "        * from sklearn.preprocessing import Imputer\n",
    "        * from sklearn.preprocessing import scale\n",
    "        * from sklearn.preprocessing import StandardScaler\n",
    "    * models\n",
    "        * from sklearn.neighbors import KNeighborsClassifier\n",
    "        * from sklearn.linear_model import LogisticRegression \n",
    "        * from sklearn.linear_model import LinearRegression \n",
    "        * from sklearn.tree import DecisionTreeClassifier\n",
    "        * from sklearn.linear_model import Ridge\n",
    "        * from sklearn.linear_model import Lasso\n",
    "        * from sklearn.linear_model import ElasticNet\n",
    "    * others\n",
    "        * from sklearn.pipeline import Pipeline\n",
    "    * model_selection module\n",
    "        * from sklearn.model_selection import train_test_split\n",
    "        * from sklearn.model_selection import cross_val_score\n",
    "        * from sklearn.model_selection import GridSearchCV\n",
    "        * from sklearn.model_selection import RandomizedSearchCV\n",
    "    * eval metrics module\n",
    "        * from sklearn.metrics import mean_squared_error\n",
    "        * from sklearn.metrics import classification_report\n",
    "        * from sklearn.metrics import confusion_matrix\n",
    "        * from sklearn.metrics import accuracy_score\n",
    "        * from sklearn.metrics import roc_curve\n",
    "        * from sklearn.metrics import roc_auc_score"
   ]
  },
  {
   "cell_type": "markdown",
   "metadata": {},
   "source": [
    "# classification with knn"
   ]
  },
  {
   "cell_type": "markdown",
   "metadata": {},
   "source": [
    "## EDA on iris dataset"
   ]
  },
  {
   "cell_type": "code",
   "execution_count": 50,
   "metadata": {
    "collapsed": true
   },
   "outputs": [],
   "source": [
    "from sklearn import datasets\n",
    "import pandas as pd\n",
    "import numpy as np\n",
    "import matplotlib.pyplot as plt\n",
    "\n",
    "plt.style.use('ggplot')"
   ]
  },
  {
   "cell_type": "code",
   "execution_count": 51,
   "metadata": {
    "collapsed": true
   },
   "outputs": [
    {
     "data": {
      "text/plain": [
       "'Iris Plants Database\\n====================\\n\\nNotes\\n-----\\nData Set Characteristics:\\n    :Number of Instances: 150 (50 in each of three classes)\\n    :Number of Attributes: 4 numeric, predictive attributes and the class\\n    :Attribute Information:\\n        - sepal length in cm\\n        - sepal width in cm\\n        - petal length in cm\\n        - petal width in cm\\n        - class:\\n                - Iris-Setosa\\n                - Iris-Versicolour\\n                - Iris-Virginica\\n    :Summary Statistics:\\n\\n    ============== ==== ==== ======= ===== ====================\\n                    Min  Max   Mean    SD   Class Correlation\\n    ============== ==== ==== ======= ===== ====================\\n    sepal length:   4.3  7.9   5.84   0.83    0.7826\\n    sepal width:    2.0  4.4   3.05   0.43   -0.4194\\n    petal length:   1.0  6.9   3.76   1.76    0.9490  (high!)\\n    petal width:    0.1  2.5   1.20  0.76     0.9565  (high!)\\n    ============== ==== ==== ======= ===== ====================\\n\\n    :Missing Attribute Values: None\\n    :Class Distribution: 33.3% for each of 3 classes.\\n    :Creator: R.A. Fisher\\n    :Donor: Michael Marshall (MARSHALL%PLU@io.arc.nasa.gov)\\n    :Date: July, 1988\\n\\nThis is a copy of UCI ML iris datasets.\\nhttp://archive.ics.uci.edu/ml/datasets/Iris\\n\\nThe famous Iris database, first used by Sir R.A Fisher\\n\\nThis is perhaps the best known database to be found in the\\npattern recognition literature.  Fisher\\'s paper is a classic in the field and\\nis referenced frequently to this day.  (See Duda & Hart, for example.)  The\\ndata set contains 3 classes of 50 instances each, where each class refers to a\\ntype of iris plant.  One class is linearly separable from the other 2; the\\nlatter are NOT linearly separable from each other.\\n\\nReferences\\n----------\\n   - Fisher,R.A. \"The use of multiple measurements in taxonomic problems\"\\n     Annual Eugenics, 7, Part II, 179-188 (1936); also in \"Contributions to\\n     Mathematical Statistics\" (John Wiley, NY, 1950).\\n   - Duda,R.O., & Hart,P.E. (1973) Pattern Classification and Scene Analysis.\\n     (Q327.D83) John Wiley & Sons.  ISBN 0-471-22361-1.  See page 218.\\n   - Dasarathy, B.V. (1980) \"Nosing Around the Neighborhood: A New System\\n     Structure and Classification Rule for Recognition in Partially Exposed\\n     Environments\".  IEEE Transactions on Pattern Analysis and Machine\\n     Intelligence, Vol. PAMI-2, No. 1, 67-71.\\n   - Gates, G.W. (1972) \"The Reduced Nearest Neighbor Rule\".  IEEE Transactions\\n     on Information Theory, May 1972, 431-433.\\n   - See also: 1988 MLC Proceedings, 54-64.  Cheeseman et al\"s AUTOCLASS II\\n     conceptual clustering system finds 3 classes in the data.\\n   - Many, many more ...\\n'"
      ]
     },
     "execution_count": 51,
     "metadata": {},
     "output_type": "execute_result"
    }
   ],
   "source": [
    "# load data from sklearn datasets\n",
    "iris = datasets.load_iris()  # load iris dataset from sklearn.datasets\n",
    "\n",
    "type(iris)    # get Bunch, a dict-like obj.\n",
    "\n",
    "iris.keys()   # dict_keys(['target_names', 'DESCR', \n",
    "              #           'feature_names', 'data', 'target'])\n",
    "\n",
    "iris.data     # like all_feature_cols.values, np.ndarray\n",
    "iris.target   # like target_col.values, np.ndarray\n",
    "iris.feature_names   # feature cols names\n",
    "iris.target_names    # like taregt_col.unique(), \n",
    "                     # unique levels in classification probs\n",
    "iris.DESCR    # description for each row"
   ]
  },
  {
   "cell_type": "code",
   "execution_count": 52,
   "metadata": {},
   "outputs": [
    {
     "data": {
      "text/html": [
       "<div>\n",
       "<style>\n",
       "    .dataframe thead tr:only-child th {\n",
       "        text-align: right;\n",
       "    }\n",
       "\n",
       "    .dataframe thead th {\n",
       "        text-align: left;\n",
       "    }\n",
       "\n",
       "    .dataframe tbody tr th {\n",
       "        vertical-align: top;\n",
       "    }\n",
       "</style>\n",
       "<table border=\"1\" class=\"dataframe\">\n",
       "  <thead>\n",
       "    <tr style=\"text-align: right;\">\n",
       "      <th></th>\n",
       "      <th>sepal length (cm)</th>\n",
       "      <th>sepal width (cm)</th>\n",
       "      <th>petal length (cm)</th>\n",
       "      <th>petal width (cm)</th>\n",
       "    </tr>\n",
       "  </thead>\n",
       "  <tbody>\n",
       "    <tr>\n",
       "      <th>0</th>\n",
       "      <td>5.1</td>\n",
       "      <td>3.5</td>\n",
       "      <td>1.4</td>\n",
       "      <td>0.2</td>\n",
       "    </tr>\n",
       "    <tr>\n",
       "      <th>1</th>\n",
       "      <td>4.9</td>\n",
       "      <td>3.0</td>\n",
       "      <td>1.4</td>\n",
       "      <td>0.2</td>\n",
       "    </tr>\n",
       "    <tr>\n",
       "      <th>2</th>\n",
       "      <td>4.7</td>\n",
       "      <td>3.2</td>\n",
       "      <td>1.3</td>\n",
       "      <td>0.2</td>\n",
       "    </tr>\n",
       "    <tr>\n",
       "      <th>3</th>\n",
       "      <td>4.6</td>\n",
       "      <td>3.1</td>\n",
       "      <td>1.5</td>\n",
       "      <td>0.2</td>\n",
       "    </tr>\n",
       "    <tr>\n",
       "      <th>4</th>\n",
       "      <td>5.0</td>\n",
       "      <td>3.6</td>\n",
       "      <td>1.4</td>\n",
       "      <td>0.2</td>\n",
       "    </tr>\n",
       "  </tbody>\n",
       "</table>\n",
       "</div>"
      ],
      "text/plain": [
       "   sepal length (cm)  sepal width (cm)  petal length (cm)  petal width (cm)\n",
       "0                5.1               3.5                1.4               0.2\n",
       "1                4.9               3.0                1.4               0.2\n",
       "2                4.7               3.2                1.3               0.2\n",
       "3                4.6               3.1                1.5               0.2\n",
       "4                5.0               3.6                1.4               0.2"
      ]
     },
     "execution_count": 52,
     "metadata": {},
     "output_type": "execute_result"
    }
   ],
   "source": [
    "# construct df to use pd.scatter_matrix\n",
    "X = iris.data\n",
    "y = iris.target\n",
    "\n",
    "df = pd.DataFrame(X, columns=iris.feature_names)\n",
    "df.head()"
   ]
  },
  {
   "cell_type": "code",
   "execution_count": 53,
   "metadata": {
    "scrolled": false
   },
   "outputs": [
    {
     "data": {
      "image/png": "[encoded data removed]",
      "text/plain": [
       "<matplotlib.figure.Figure at 0x112c4fd30>"
      ]
     },
     "metadata": {},
     "output_type": "display_data"
    }
   ],
   "source": [
    "# EDA\n",
    "_ = pd.plotting.scatter_matrix(df, \n",
    "                               c = y.reshape(-1,1), # color by y vector\n",
    "                               figsize = [8, 8], \n",
    "                               s = 150,             # marker size \n",
    "                               marker = 'D'\n",
    "                              )"
   ]
  },
  {
   "cell_type": "markdown",
   "metadata": {},
   "source": [
    "## build a knn classifier"
   ]
  },
  {
   "cell_type": "code",
   "execution_count": 54,
   "metadata": {},
   "outputs": [
    {
     "data": {
      "text/plain": [
       "KNeighborsClassifier(algorithm='auto', leaf_size=30, metric='minkowski',\n",
       "           metric_params=None, n_jobs=1, n_neighbors=6, p=2,\n",
       "           weights='uniform')"
      ]
     },
     "execution_count": 54,
     "metadata": {},
     "output_type": "execute_result"
    }
   ],
   "source": [
    "from sklearn.neighbors import KNeighborsClassifier\n",
    "\n",
    "knn = KNeighborsClassifier(n_neighbors=6)\n",
    "\n",
    "knn.fit(iris['data'],     # feature: cols for feature, rows for obs.\n",
    "        iris['target']    # target\n",
    "       )\n",
    "    # apply the method 'fit' to the classifier\n",
    "    # knn classifier requires:\n",
    "        # feed numpy ndarray or pandas df\n",
    "        # feed numerical values\n",
    "        # no missing values\n",
    "    # returns the classifier itself with fitted params"
   ]
  },
  {
   "cell_type": "markdown",
   "metadata": {},
   "source": [
    "## split-fit-pred-score SOP"
   ]
  },
  {
   "cell_type": "code",
   "execution_count": 55,
   "metadata": {},
   "outputs": [
    {
     "data": {
      "text/plain": [
       "0.9555555555555556"
      ]
     },
     "execution_count": 55,
     "metadata": {},
     "output_type": "execute_result"
    }
   ],
   "source": [
    "from sklearn.model_selection import train_test_split\n",
    "\n",
    "X_train, X_test, y_train, y_test = train_test_split(X, y,\n",
    "                   test_size=0.3,    # test set proportion\n",
    "                   random_state=21,  # set.seed for later reproduce\n",
    "                   stratify=y        # split base on this target var\n",
    "                   )\n",
    "\n",
    "knn = KNeighborsClassifier(n_neighbors=8)  # instantiate the KNC obj.\n",
    "\n",
    "knn.fit(X_train, y_train)    # fit the model to training set\n",
    "\n",
    "y_pred = knn.predict(X_test) # predict on test set\n",
    "\n",
    "knn.score(X_test, # new data to make prediction on\n",
    "          y_test  # real label of new data\n",
    "         )"
   ]
  },
  {
   "cell_type": "markdown",
   "metadata": {},
   "source": [
    "# Regression: linear, ridge, lasso"
   ]
  },
  {
   "cell_type": "markdown",
   "metadata": {},
   "source": [
    "## intro to regression"
   ]
  },
  {
   "cell_type": "code",
   "execution_count": 64,
   "metadata": {
    "collapsed": true
   },
   "outputs": [],
   "source": [
    "# prepare dataset\n",
    "boston = datasets.load_boston()\n",
    "boston.keys()         # dict_keys(['DESCR', 'feature_names', \n",
    "                      #            'data', 'target'])\n",
    "\n",
    "boston.data.shape     # (506, 13)\n",
    "boston.target.shape   # (506,)\n",
    "\n",
    "X = boston.data\n",
    "y = boston.target.reshape(-1, 1) # get (506, 1)\n",
    "\n",
    "# use only 'RM' feature to predict target(price)\n",
    "list(boston.feature_names).index(\"RM\") # index of 'RM' is 5\n",
    "X_rooms = boston.data[:,5]             # slice only 'RM' feature\n",
    "X_rooms.shape                          # (506,)\n",
    "\n",
    "X_rooms = X_rooms.reshape(-1,1) # keep the 1st dimension\n",
    "                                # add a 2nd dimension of 1\n",
    "                                # now shape (506, 1)"
   ]
  },
  {
   "cell_type": "code",
   "execution_count": 65,
   "metadata": {},
   "outputs": [
    {
     "data": {
      "image/png": "[encoded data removed]",
      "text/plain": [
       "<matplotlib.figure.Figure at 0x114417588>"
      ]
     },
     "metadata": {},
     "output_type": "display_data"
    }
   ],
   "source": [
    "# EDA\n",
    "plt.scatter(X_rooms, y)\n",
    "plt.ylabel('Value of house / 1000 ($)')\n",
    "plt.xlabel('Number of rooms')\n",
    "plt.show()"
   ]
  },
  {
   "cell_type": "code",
   "execution_count": 66,
   "metadata": {},
   "outputs": [
    {
     "data": {
      "image/png": "[encoded data removed]",
      "text/plain": [
       "<matplotlib.figure.Figure at 0x114556438>"
      ]
     },
     "metadata": {},
     "output_type": "display_data"
    }
   ],
   "source": [
    "# regression and plot regression line\n",
    "import numpy as np\n",
    "from sklearn import linear_model\n",
    "\n",
    "reg = linear_model.LinearRegression()   # instantiate model\n",
    "reg.fit(X_rooms, y)                     # fit model\n",
    "\n",
    "pred_space = np.linspace(min(X_rooms), max(X_rooms)).reshape(-1, 1)\n",
    "    # from X_min to X_max, by default 50 splits\n",
    "    # reshape as as column vector, get 50 predicted val\n",
    "    \n",
    "plt.scatter(X_rooms, y,       # scatter plot on whole dataset\n",
    "            color='blue')     \n",
    "plt.plot(pred_space,          # line plot connecting 50 dots\n",
    "         reg.predict(pred_space), \n",
    "         color='black', linewidth=3)\n",
    "plt.show()"
   ]
  },
  {
   "cell_type": "markdown",
   "metadata": {},
   "source": [
    "## The basics of linear regression  \n",
    "\n",
    "Ordinary Least Squares: OLS"
   ]
  },
  {
   "cell_type": "code",
   "execution_count": 67,
   "metadata": {
    "collapsed": true
   },
   "outputs": [],
   "source": [
    "# use all feature to predict target(price)\n",
    "from sklearn.model_selection import train_test_split\n",
    "from sklearn import linear_model\n",
    "\n",
    "X = boston.data\n",
    "y = boston.target.reshape(-1, 1)\n",
    "\n",
    "X_train, X_test, y_train, y_test = train_test_split(X, y,\n",
    "                                               test_size=0.3, \n",
    "                                               random_state=42)\n",
    "reg_all = linear_model.LinearRegression()\n",
    "reg_all.fit(X_train, y_train)\n",
    "\n",
    "y_pred = reg_all.predict(X_test)"
   ]
  },
  {
   "cell_type": "code",
   "execution_count": 68,
   "metadata": {},
   "outputs": [
    {
     "name": "stdout",
     "output_type": "stream",
     "text": [
      "0.710920358633\n",
      "4.64114414169\n"
     ]
    }
   ],
   "source": [
    "# measuring performance\n",
    "    # in classification, use accuracy as metric of measurement\n",
    "    # in LinearRegression, default metric is R^2\n",
    "        # the amount of variance in target var, predicted by feature var\n",
    "reg_all.score(X_test, y_test)\n",
    "\n",
    "    # LinearRegression another metric:RMSE(root mean of standart error)\n",
    "from sklearn.metrics import mean_squared_error\n",
    "\n",
    "y_pred = reg_all.predict(X_test)\n",
    "rmse = np.sqrt(mean_squared_error(y_test, y_pred))\n",
    "\n",
    "print(reg_all.score(X_test, y_test))\n",
    "print(rmse)"
   ]
  },
  {
   "cell_type": "markdown",
   "metadata": {},
   "source": [
    "Note that you will almost never use linear regression like this,  \n",
    "more often, linear regression with regularization. "
   ]
  },
  {
   "cell_type": "markdown",
   "metadata": {},
   "source": [
    "##  Cross-validation\n",
    "  \n",
    "R^2 is a metric for evaluating performance,   \n",
    "however, there's randomness in how the train/test set is split.    \n",
    "\n",
    "为了避免split data into training set and test set时，split的随机性带来的bias,    \n",
    "做多次split交叉验证。"
   ]
  },
  {
   "cell_type": "markdown",
   "metadata": {},
   "source": [
    "下图把dataset切割成五份，  \n",
    "每一次modeling and scoring取其中四份为training set，剩下1份为test set.  \n",
    "below: 5 folds validation  "
   ]
  },
  {
   "cell_type": "markdown",
   "metadata": {},
   "source": [
    "![](http://upload-images.jianshu.io/upload_images/1526845-1b81bf716e23fa31.png?imageMogr2/auto-orient/strip%7CimageView2/2/w/1240)"
   ]
  },
  {
   "cell_type": "code",
   "execution_count": 69,
   "metadata": {},
   "outputs": [
    {
     "name": "stdout",
     "output_type": "stream",
     "text": [
      "[ 0.63861069  0.71334432  0.58645134  0.07842495 -0.26312455]\n"
     ]
    }
   ],
   "source": [
    "from sklearn.model_selection import cross_val_score\n",
    "\n",
    "reg = linear_model.LinearRegression()\n",
    "\n",
    "cv_results = cross_val_score(reg,    # regressor\n",
    "                             X, y,   # data\n",
    "                             cv=5    # num. of folds\n",
    "                            )  # return an array of the len of cv (here 5)\n",
    "                               # linear reg default eval metric is R^2\n",
    "    \n",
    "print(cv_results)  # why a neg val?"
   ]
  },
  {
   "cell_type": "markdown",
   "metadata": {},
   "source": [
    "## regularized regression: ridge and lasso\n"
   ]
  },
  {
   "cell_type": "markdown",
   "metadata": {},
   "source": [
    "* use Lasso Regression to do feature selection\n",
    "    * this will shrink the coefficients of some features to 0, keep only the most important ones \n",
    "* then use Ridge Regression to build a model\n",
    "\n",
    "（并不懂为什么Lasso Regression可以select feature, while ridge cannot）"
   ]
  },
  {
   "cell_type": "markdown",
   "metadata": {},
   "source": [
    "> lasso performs regularization by adding to the loss function a penalty term of the absolute value of each coefficient multiplied by some alpha. This is also known as $L1$ regularization because the regularization term is the $L1$ norm of the coefficients. This is not the only way to regularize, however.\n",
    "\n",
    "> If instead you took the sum of the squared values of the coefficients multiplied by some alpha - like in Ridge regression - you would be computing the $L2$ norm. "
   ]
  },
  {
   "cell_type": "markdown",
   "metadata": {},
   "source": [
    "Regularization to prevent overfitting.  \n",
    "\n",
    "$y = a_1 x_1 + a_2 x_2 + b$  "
   ]
  },
  {
   "cell_type": "markdown",
   "metadata": {},
   "source": [
    "* Ridge regression\n",
    "    * cost function: = OLS loss function + $ \\alpha * \\sum_{i=1}^n {a_i}^2$ \n",
    "    * $\\alpha$ be called $\\lambda$ some elsewhere, controls model variance-bias trade off\n",
    "    * more on 'picking $\\alpha$' in chap 3"
   ]
  },
  {
   "cell_type": "code",
   "execution_count": 70,
   "metadata": {},
   "outputs": [
    {
     "data": {
      "text/plain": [
       "0.69955650271004177"
      ]
     },
     "execution_count": 70,
     "metadata": {},
     "output_type": "execute_result"
    }
   ],
   "source": [
    "# ridge regression\n",
    "from sklearn.linear_model import Ridge\n",
    "from sklearn.model_selection import train_test_split\n",
    "\n",
    "    # split\n",
    "X_train, X_test, y_train, y_test = train_test_split(X, y, \n",
    "                                                   test_size=0.3, \n",
    "                                                   random_state=42)\n",
    "    # instantiate\n",
    "ridge = Ridge(alpha=0.1,       # set alpha, or the regularization term\n",
    "              normalize=True   # set all feature on the same scale, more later\n",
    "             ) # an obj. of Ridge regressor\n",
    "    # fit \n",
    "ridge.fit(X_train, y_train)\n",
    "    # predict\n",
    "ridge_pred = ridge.predict(X_test)\n",
    "    # evaluate\n",
    "ridge.score(X_test, y_test)"
   ]
  },
  {
   "cell_type": "markdown",
   "metadata": {},
   "source": [
    "Lasso regression  \n",
    "\n",
    "* Loss function = OLS loss function +$\\alpha *  \\sum_{i=1}^n \\left| a_i \\right|$\n",
    "* somehow great for feature selection,  \n",
    "for it shrinks the coefficients of less important feature to exactly 0  \n",
    "(how come? can't ridge regression also do the shrinking?)"
   ]
  },
  {
   "cell_type": "code",
   "execution_count": 87,
   "metadata": {},
   "outputs": [
    {
     "data": {
      "image/png": "[encoded data removed]",
      "text/plain": [
       "<matplotlib.figure.Figure at 0x113262278>"
      ]
     },
     "metadata": {},
     "output_type": "display_data"
    }
   ],
   "source": [
    "# lasso regression\n",
    "from sklearn.linear_model import Lasso\n",
    "\n",
    "lasso = Lasso(alpha=0.4)\n",
    "lasso_coef = lasso.fit(X, y).coef_\n",
    "\n",
    "_ = plt.plot(range(X.shape[1]),  # num. of cols of X\n",
    "             lasso_coef          # coefficients of lasso regressor\n",
    "            )\n",
    "_ = plt.xticks(range(X.shape[1]), boston.feature_names, \n",
    "               rotation=60)\n",
    "_ = plt.ylabel('Coefficients')   # coefficient near 0 is not important"
   ]
  },
  {
   "cell_type": "markdown",
   "metadata": {
    "collapsed": true
   },
   "source": [
    "# Fine-tuning your model"
   ]
  },
  {
   "cell_type": "markdown",
   "metadata": {},
   "source": [
    "## classification-specific problem"
   ]
  },
  {
   "cell_type": "markdown",
   "metadata": {},
   "source": [
    "### more metrics: precision, recall, F1 score"
   ]
  },
  {
   "cell_type": "markdown",
   "metadata": {
    "collapsed": true
   },
   "source": [
    "When facing with imbalance classes(eg, 1%spam, 99%non-spam),  \n",
    "a baseline model of predicting all as non-spam gets high accu, but useless.  \n",
    "  \n",
    "Need more nuance eval metrics.  \n"
   ]
  },
  {
   "cell_type": "markdown",
   "metadata": {},
   "source": [
    "\n",
    "confusion matrix:  \n",
    "\n",
    "|        | pred_t | pred_f |\n",
    "|--------|--------|--------|\n",
    "|actual_t|   tp   |   fn   |\n",
    "|actual_f|   fp   |   tn   |  \n",
    "\n",
    "* precision: $$\\frac{tp}{tp + fp}$$  \n",
    "* recall:  $$\\frac{tp}{tp + fn}$$\n",
    "* F1 score:  $$2* \\frac{precision * recall}{precision + recall}$$  \n",
    "\n",
    "High precision:  \n",
    "predicted positive is very likely to be true positive.  \n",
    "  \n",
    "High recall:   \n",
    "true positive is very likely to be predicted as positive."
   ]
  },
  {
   "cell_type": "code",
   "execution_count": 90,
   "metadata": {},
   "outputs": [
    {
     "name": "stdout",
     "output_type": "stream",
     "text": [
      "[[23  0  0]\n",
      " [ 0 19  0]\n",
      " [ 0  1 17]]\n",
      "             precision    recall  f1-score   support\n",
      "\n",
      "          0       1.00      1.00      1.00        23\n",
      "          1       0.95      1.00      0.97        19\n",
      "          2       1.00      0.94      0.97        18\n",
      "\n",
      "avg / total       0.98      0.98      0.98        60\n",
      "\n"
     ]
    }
   ],
   "source": [
    "from sklearn.metrics import classification_report\n",
    "from sklearn.metrics import confusion_matrix\n",
    "\n",
    "X = iris.data\n",
    "y = iris.target\n",
    "\n",
    "knn = KNeighborsClassifier(n_neighbors=8)\n",
    "\n",
    "X_train, X_test, y_train, y_test = train_test_split(X, y, \n",
    "                                                   test_size=0.4, \n",
    "                                                   random_state=42)\n",
    "knn.fit(X_train, y_train)\n",
    "y_pred = knn.predict(X_test)\n",
    "\n",
    "print(confusion_matrix(y_test, y_pred))\n",
    "print(classification_report(y_test, y_pred))"
   ]
  },
  {
   "cell_type": "markdown",
   "metadata": {
    "collapsed": true
   },
   "source": [
    "> The support gives the number of samples of the true response that lie in that class   "
   ]
  },
  {
   "cell_type": "markdown",
   "metadata": {},
   "source": [
    "### logistic regression and ROC curve"
   ]
  },
  {
   "cell_type": "markdown",
   "metadata": {},
   "source": [
    "![](http://upload-images.jianshu.io/upload_images/1526845-1ea712e844a3775b.png?imageMogr2/auto-orient/strip%7CimageView2/2/w/1240)\n",
    "\n",
    "* ROC: tpr(y-axis) vs. fpr(x-aixs)\n",
    "    * baseline1, always pred pos. tpr=1, fpr=1  (thresh = 0)\n",
    "    * baseline2, always pred neg. tpr=0, fpr=1  (thresh = 1)\n",
    "    * so, ROC always pass (0,0) and (1,1) point\n",
    "    * baseline ROC: besides these two extreme, tpr and fpr increase at same rate\n",
    "    * **a good ROC**: tpr increase faster than fpr\n",
    "    * so visually, how good is shown as how close the ROC embrace upper-left corner. and that can be cal as **AUC value**\n",
    "\n",
    "![](http://upload-images.jianshu.io/upload_images/1526845-18643039bbe41ebb.png?imageMogr2/auto-orient/strip%7CimageView2/2/w/1240)"
   ]
  },
  {
   "cell_type": "code",
   "execution_count": 94,
   "metadata": {
    "collapsed": true
   },
   "outputs": [],
   "source": [
    "# logistic regression \n",
    "# (can be applied in multi-cls situation)\n",
    "    # init, spl, fit, pred\n",
    "from sklearn.linear_model import LogisticRegression \n",
    "from sklearn.model_selection import train_test_split\n",
    "\n",
    "logreg = LogisticRegression()\n",
    "\n",
    "X_train, X_test, y_train, y_test = train_test_split(X, y, \n",
    "                                                   test_size=0.4, \n",
    "                                                   random_state=42)\n",
    "logreg.fit(X_train, y_train)\n",
    "y_pred = logreg.predict(X_test)  # get class label output "
   ]
  },
  {
   "cell_type": "code",
   "execution_count": 104,
   "metadata": {},
   "outputs": [
    {
     "name": "stdout",
     "output_type": "stream",
     "text": [
      "[1 0 2 1 1 0 1 2 1 1 2 0 0 0 0 1 2 1 1 2 0 2 0 2 2 2 2 2 0 0 0 0 1 0 0 2 1\n",
      " 0 0 0 2 2 1 0 0 1 2 2 1 2 1 2 2 0 2 1 0 0 0 1]\n",
      "(60,)\n",
      "(60, 3)\n"
     ]
    }
   ],
   "source": [
    "print(y_pred)\n",
    "print(y_pred.shape)\n",
    "\n",
    "print(logreg.predict_proba(X_test).shape)  \n",
    "    # get the prob. of each obs. in test set\n",
    "    # belongs to each certain class"
   ]
  },
  {
   "cell_type": "code",
   "execution_count": null,
   "metadata": {
    "collapsed": true
   },
   "outputs": [],
   "source": [
    "# don't run this cell\n",
    "\n",
    "# ROC curve: tpr vs. fpr at diff thresholds\n",
    "# (for binary classification only)\n",
    "from sklearn.metrics import roc_curve\n",
    "\n",
    "y_pred_prob = logreg.predict_proba(X_test)[:,1] \n",
    "    # choose second col\n",
    "    # that is prob. of being one                                            \n",
    "\n",
    "    # unpack\n",
    "fpr, tpr, thresholds = roc_curve(y_test,      # actual label\n",
    "                                 y_pred_prob  # prediction in *probability,*\n",
    "                                              # used to eval perf at diff thresh\n",
    "                                )\n",
    "\n",
    "plt.plot([0,1], [0,1], 'k--')\n",
    "plt.plot(fpr, tpr, label='Logistic Regression')\n",
    "plt.xlabel('False Positive Rate')\n",
    "plt.ylabel('True Positive Rate')\n",
    "plt.title('Logistic Regression ROC curve')\n",
    "plt.show()"
   ]
  },
  {
   "cell_type": "markdown",
   "metadata": {},
   "source": [
    "most classifiers in scikit-learn have a .predict_proba() method which returns the probability of a given sample being in a particular class. "
   ]
  },
  {
   "cell_type": "markdown",
   "metadata": {},
   "source": [
    "### AUC value: alone and with CV\n"
   ]
  },
  {
   "cell_type": "code",
   "execution_count": null,
   "metadata": {
    "collapsed": true
   },
   "outputs": [],
   "source": [
    "# compute AUC\n",
    "from sklearn.metrics import roc_auc_score\n",
    "\n",
    "logreg = LogisticRegression()\n",
    "\n",
    "X_train, X_test, y_train, y_test = train_test_split(X, y, \n",
    "                                                   test_size=0.4, \n",
    "                                                   random_state=42)\n",
    "logreg.fit(X_train, y_train)\n",
    "\n",
    "    # parse 'pred as true' probability\n",
    "y_pred_prob = logreg.predict_proba(X_test)[:,1]\n",
    "\n",
    "    # compute AUC score\n",
    "roc_auc_score(y_test, y_pred_prob)"
   ]
  },
  {
   "cell_type": "code",
   "execution_count": null,
   "metadata": {
    "collapsed": true
   },
   "outputs": [],
   "source": [
    "# compute AUC using cross-validation\n",
    "from sklearn.model_selection import cross_val_score\n",
    "\n",
    "cv_scores = cross_val_score(logreg, X, y, cv=5, \n",
    "                            scoring='roc_auc')"
   ]
  },
  {
   "cell_type": "markdown",
   "metadata": {},
   "source": [
    "## hyperparameter tuning"
   ]
  },
  {
   "cell_type": "markdown",
   "metadata": {},
   "source": [
    "* hyperparameters:  \n",
    "sth. related to model selection and is *essential* for model performance\n",
    "    * eg:  \n",
    "    ridge/lasso regression : alpha  \n",
    "    knn: n_neighbors  \n",
    "    logistic regression: C (the inverse of alpha)\n",
    "    (logistic regression: threshold )\n",
    "     \n",
    ".\n",
    "* choosing the best hyperparameter\n",
    "    * choose the param that make the model performs best on test set\n",
    "    * essential to use cross-validation to avoid randomness in spl train/test\n",
    " "
   ]
  },
  {
   "cell_type": "markdown",
   "metadata": {},
   "source": [
    "### GridSearchCV"
   ]
  },
  {
   "cell_type": "markdown",
   "metadata": {},
   "source": [
    "     \n",
    ".\n",
    "* grid search cross-validation\n",
    "    * a set of hyperparameters you want to tune, and range for each hyperparameter you want to try\n",
    "    * for each combination of possible hyperparameter, perform cross validation, compute a evaluation metric\n",
    "    * choose the combination that generates the best eval metric"
   ]
  },
  {
   "cell_type": "code",
   "execution_count": null,
   "metadata": {
    "collapsed": true
   },
   "outputs": [],
   "source": [
    "from sklearn.model_selection import GridSearchCV\n",
    "\n",
    "param_grid = {'n_neighbors': np.arange(1, 50)}\n",
    "    # if there's multi key-val pairs \n",
    "    # all possible combination will be tried\n",
    "    \n",
    "knn = KNeighborsClassifier()\n",
    "\n",
    "knn_cv = GridSearchCV(knn,        # the model\n",
    "                      param_grid, # the grid to tune over\n",
    "                      cv=5        # folds of cv\n",
    "                     ) # returns a GridSearch obj.\n",
    "\n",
    "knn_cv.fit(X, y)      # perform the actual grid search\n",
    "\n",
    "knn_cv.best_params_   # retrieve best parameter\n",
    "knn_cv.best_score_    # retrieve best metric"
   ]
  },
  {
   "cell_type": "markdown",
   "metadata": {},
   "source": [
    "### RandomizedSearchCV, and  Tree model"
   ]
  },
  {
   "cell_type": "markdown",
   "metadata": {},
   "source": [
    "GridSearchCV can be computationally expensive, especially if you are searching over a large hyperparameter space and dealing with multiple hyperparameters.  \n",
    "\n",
    "* RandomizedSearchCV\n",
    "    * not all hyperparameter values are tried out. \n",
    "    * Instead, a fixed number of hyperparameter settings is sampled from specified probability distributions.  \n",
    "    \n",
    ".  \n",
    "\n",
    "* Decision Tree\n",
    "    * Decision trees have many parameters that can be tuned, such as `max_features`, `max_depth`, and `min_samples_leaf`\n",
    "    * This makes it an ideal use case for `RandomizedSearchCV`.\n",
    "    \n",
    ".  \n",
    "Note that RandomizedSearchCV will never outperform GridSearchCV. Instead, it is valuable because it saves on computation time."
   ]
  },
  {
   "cell_type": "code",
   "execution_count": null,
   "metadata": {
    "collapsed": true
   },
   "outputs": [],
   "source": [
    "# DecisionTreeClassifier and RandomizedSearchCV\n",
    "from scipy.stats import randint\n",
    "from sklearn.tree import DecisionTreeClassifier\n",
    "from sklearn.model_selection import RandomizedSearchCV\n",
    "\n",
    "    # Setup the parameters and distributions to sample from: param_dist\n",
    "param_dist = {\"max_depth\": [3, None],\n",
    "              \"max_features\": randint(1, 9),\n",
    "              \"min_samples_leaf\": randint(1, 9),\n",
    "              \"criterion\": [\"gini\", \"entropy\"]}\n",
    "\n",
    "    # Instantiate a Decision Tree classifier: tree\n",
    "tree = DecisionTreeClassifier()\n",
    "\n",
    "    # Instantiate the RandomizedSearchCV object: tree_cv\n",
    "tree_cv = RandomizedSearchCV(tree, param_dist, cv=5)\n",
    "\n",
    "    # Fit it to the data\n",
    "tree_cv.fit(X, y)\n",
    "\n",
    "    # Print the tuned parameters and score\n",
    "print(\"Tuned Decision Tree Parameters: {}\".format(tree_cv.best_params_))\n",
    "print(\"Best score is {}\".format(tree_cv.best_score_))\n"
   ]
  },
  {
   "cell_type": "markdown",
   "metadata": {},
   "source": [
    "## Hold-out set for final evaluation"
   ]
  },
  {
   "cell_type": "markdown",
   "metadata": {},
   "source": [
    "* split data into training and hold-out set at the beginning\n",
    "* perform grid search cross-validataion on training set\n",
    "* choose best hyperparameter and evaluate on hold-out set\n"
   ]
  },
  {
   "cell_type": "code",
   "execution_count": null,
   "metadata": {
    "collapsed": true
   },
   "outputs": [],
   "source": [
    "# split - init - GridSearchCV fit - best params on classification\n",
    "from sklearn.model_selection import train_test_split\n",
    "from sklearn.linear_model import LogisticRegression\n",
    "from sklearn.model_selection import GridSearchCV\n",
    "\n",
    "    # Create the hyperparameter grid\n",
    "c_space = np.logspace(-5, 8, 15)\n",
    "param_grid = {'C': c_space, 'penalty': ['l1', 'l2']}\n",
    "\n",
    "    # Instantiate the logistic regression classifier: logreg\n",
    "logreg = LogisticRegression()\n",
    "\n",
    "    # Create train and test sets\n",
    "X_train, X_test, y_train, y_test = train_test_split(X, y, test_size=0.4, random_state=42)\n",
    "\n",
    "    # Instantiate the GridSearchCV object: logreg_cv\n",
    "logreg_cv = GridSearchCV(logreg, param_grid, cv=5)\n",
    "\n",
    "    # Fit it to the training data\n",
    "logreg_cv.fit(X_train, y_train)\n",
    "\n",
    "    # Print the optimal parameters and best score\n",
    "print(\"Tuned Logistic Regression Parameter: {}\".format(logreg_cv.best_params_))\n",
    "print(\"Tuned Logistic Regression Accuracy: {}\".format(logreg_cv.best_score_))\n"
   ]
  },
  {
   "cell_type": "markdown",
   "metadata": {},
   "source": [
    "Remember lasso and ridge regression from the previous chapter? Lasso used the 'L1' penalty to regularize, while ridge used the 'L2' penalty.   \n",
    "There is another type of regularized regression known as the 'elastic net'. In elastic net regularization, the penalty term is a linear combination of the 'L1' and 'L2' penalties:  \n",
    "$$a∗L1+b∗L2$$  \n",
    "\n",
    "In scikit-learn, this term is represented by the 'l1_ratio' parameter: An 'l1_ratio' of 1 corresponds to an L1 penalty, and anything lower is a combination of L1 and L2.\n",
    "\n",
    "In this exercise, you will GridSearchCV to tune the 'l1_ratio' of an elastic net model trained on the Gapminder data. As in the previous exercise, use a hold-out set to evaluate your model's performance."
   ]
  },
  {
   "cell_type": "code",
   "execution_count": null,
   "metadata": {
    "collapsed": true
   },
   "outputs": [],
   "source": [
    "# split - init - GridSearchCV fit - best params - predict - eval \n",
    "# on regression\n",
    "from sklearn.linear_model import ElasticNet\n",
    "from sklearn.metrics import mean_squared_error\n",
    "from sklearn.model_selection import train_test_split\n",
    "from sklearn.model_selection import GridSearchCV\n",
    "\n",
    "    # Create train and test sets\n",
    "X_train, X_test, y_train, y_test = train_test_split(X, y, test_size=0.4, random_state=42)\n",
    "\n",
    "    # Create the hyperparameter grid\n",
    "l1_space = np.linspace(0, 1, 30)\n",
    "param_grid = {'l1_ratio': l1_space}\n",
    "\n",
    "    # Instantiate the ElasticNet regressor: elastic_net\n",
    "elastic_net = ElasticNet()\n",
    "\n",
    "    # Setup the GridSearchCV object: gm_cv\n",
    "gm_cv = GridSearchCV(elastic_net, param_grid, cv=5)\n",
    "\n",
    "    # Fit it to the training data\n",
    "gm_cv.fit(X_train, y_train)\n",
    "\n",
    "    # Predict on the test set and compute metrics\n",
    "y_pred = gm_cv.predict(X_test)\n",
    "r2 = gm_cv.score(X_test, y_test)\n",
    "mse = mean_squared_error(y_test, y_pred)\n",
    "print(\"Tuned ElasticNet l1 ratio: {}\".format(gm_cv.best_params_))\n",
    "print(\"Tuned ElasticNet R squared: {}\".format(r2))\n",
    "print(\"Tuned ElasticNet MSE: {}\".format(mse))\n"
   ]
  },
  {
   "cell_type": "markdown",
   "metadata": {},
   "source": [
    "# Preprocessing and pipelines"
   ]
  },
  {
   "cell_type": "markdown",
   "metadata": {},
   "source": [
    "## dealing with categorical features"
   ]
  },
  {
   "cell_type": "markdown",
   "metadata": {},
   "source": [
    "* dealing with categorical features\n",
    "    * by default sikit-learn will not accept categorical features\n",
    "    * need to encode categorical features numerically\n",
    "    * convert to 'dummy variables', one for each category\n",
    "        * 0: obs. was not that category\n",
    "        * 1: obs. was that category\n",
    "    * how to do it\n",
    "        * scikit-learn: OneHotEncoder()\n",
    "        * pandas: get_dummies()\n",
    "        "
   ]
  },
  {
   "cell_type": "markdown",
   "metadata": {},
   "source": [
    "![](http://upload-images.jianshu.io/upload_images/1526845-df33c23f644a5c6b.png?imageMogr2/auto-orient/strip%7CimageView2/2/w/1240)"
   ]
  },
  {
   "cell_type": "code",
   "execution_count": null,
   "metadata": {
    "collapsed": true
   },
   "outputs": [],
   "source": [
    "import pandas as pd\n",
    "\n",
    "df = pd.read_csv('auto.csv')\n",
    "\n",
    "{\n",
    "df_origin = pd.get_dummies(df)  \n",
    "    # converts one col of categorical feature \n",
    "    # to several binary cols, one level for one new col    \n",
    "df_origin = df_origin.drop('origin_Asia', axis=1)\n",
    "    # drop redundant col\n",
    "    # origin categorical col has n levels\n",
    "    # then n-1 new binary cols are necessary\n",
    "} or {\n",
    "    pd.get_dummies(df, \n",
    "                   drop_first=True  # drop first new col\n",
    "                  )  \n",
    "}"
   ]
  },
  {
   "cell_type": "markdown",
   "metadata": {},
   "source": [
    "## handling missing data, and pipeline obj."
   ]
  },
  {
   "cell_type": "code",
   "execution_count": null,
   "metadata": {
    "collapsed": true
   },
   "outputs": [],
   "source": [
    "# re-encode missing val representation\n",
    "    # missing value can be encoded in varias ways \n",
    "    # like: 0, -1, 999, ?\n",
    "    # explore to find pattern that might indicates missing val\n",
    "df.head()\n",
    "df.tail()\n",
    "df.info()\n",
    "df.descirbe()\n",
    "    \n",
    "    # re-encode them to np.nan\n",
    "df.sus_colA.replace(0, np.nan, inplace=True)\n",
    "df.sus_colB.replace('?', np.nan, inplace=True)\n",
    "df.sus_colC.replace('999', np.nan, inpace=True)"
   ]
  },
  {
   "cell_type": "code",
   "execution_count": null,
   "metadata": {
    "collapsed": true
   },
   "outputs": [],
   "source": [
    "# stratigy one: drop row/col that contains missing val\n",
    "    # dropping rows when too many missing val may cause dicisive shrink in data size\n",
    "    # which is not desirable\n",
    "df = df.dropna()\n",
    "df = df.dropna(axis=1)"
   ]
  },
  {
   "cell_type": "code",
   "execution_count": null,
   "metadata": {
    "collapsed": true
   },
   "outputs": [],
   "source": [
    "# strategy two: impute missing data(with Imputer)\n",
    "    # eg. fill na with mean of that col\n",
    "from sklearn.preprocessing import Imputer\n",
    "\n",
    "imp = Imputer(missing_values='NaN', # missing val representation\n",
    "              strategy='mean',      # impute method\n",
    "              axis=0                # impute along column\n",
    "             )  # init an Imputer obj. \n",
    "\n",
    "imp.fit(X)            # tune the Imputer\n",
    "\n",
    "X = imp.transform(X)  # do the actual imputing\n"
   ]
  },
  {
   "cell_type": "code",
   "execution_count": null,
   "metadata": {
    "collapsed": true
   },
   "outputs": [],
   "source": [
    "# strategy two: impute missing data(with Pipeline)\n",
    "    # do impute and fit model in one shot using Pipeline obj.\n",
    "from sklearn.pipeline import Pipeline\n",
    "from sklearn.preprocessing import Imputer\n",
    "\n",
    "    # imputer also known as 'transformer'\n",
    "imp = Imputer(missing_values='NaN', strategy='mean', axis=0)\n",
    "\n",
    "logreg = LigisticRegression()\n",
    "\n",
    "    # a list of steps, \n",
    "    # can have more than two steps\n",
    "steps = [('imputation', imp),      # (name_of_step, estimator)\n",
    "                                   # must be a transformer\n",
    "         ('logistic_regression', logreg) # the last one can be \n",
    "                                         # a classifier, a regressor, or another transformer\n",
    "        ]\n",
    "\n",
    "    # pass list of steps to pipeline constructor\n",
    "pipeline = Pipeline(steps)\n",
    "\n",
    "X_train, X_test, y_train, y_test = train_test_split(X, y, \n",
    "                                                   test_size=0.3, \n",
    "                                                   random_state=42)\n",
    "    # fit the pipeline obj. to training data\n",
    "pipeline.fit(X_train, y_train)\n",
    "    # use the pipeline obj. to predict\n",
    "y_pred = pipeline.predict(X_test)\n",
    "    # use pipeline obj. to compute accuracy\n",
    "pipeline.score(X_test, y_test)"
   ]
  },
  {
   "cell_type": "markdown",
   "metadata": {},
   "source": [
    "## Centering and scaling(normalizing)"
   ]
  },
  {
   "cell_type": "markdown",
   "metadata": {},
   "source": [
    "* reasons\n",
    "    * many models use some form of distance (eg. knn, hierarchical clustering)\n",
    "    * feature scaling, avoid some long-spanning feature dominate the model  \n",
    ".    \n",
    "      \n",
    "* ways to normalize\n",
    "    * subtract mean and divide by std -->> Gausian distribution  (focus of this chap)\n",
    "    * subtract the min and divide by range -->> min=0 and max=1\n",
    "    * make data range from -1 to +1"
   ]
  },
  {
   "cell_type": "code",
   "execution_count": null,
   "metadata": {
    "collapsed": true
   },
   "outputs": [],
   "source": [
    "# do the scaling alone\n",
    "from sklearn.preprocessing import scale\n",
    "\n",
    "X_scaled = scale(X)\n",
    "\n",
    "np.mean(X), np.std(X) # stats of original data\n",
    "\n",
    "np.mean(X_scaled), np.std(X_scaled)  # stats of scaled data\n",
    "                                     # get (close_to_0, 1)"
   ]
  },
  {
   "cell_type": "code",
   "execution_count": null,
   "metadata": {
    "collapsed": true
   },
   "outputs": [],
   "source": [
    "# scaling in a pipeline\n",
    "from sklearn.preprocessing import StandardScaler\n",
    "\n",
    "steps = [('scaler', StandardScaler()), \n",
    "         ('knn', KNeighborsClassifier())]  # when n_neighbors not specified,\n",
    "                                           # default value n_neighbors=5\n",
    "\n",
    "pipeline = Pipeline(steps)\n",
    "\n",
    "X_train, X_test, y_train, y_test = train_test_split(X, y, \n",
    "                                                   test_size = 0.2,\n",
    "                                                   random_state=42)\n",
    "knn_scaled = pipeline.fit(X_train, y_train)\n",
    "\n",
    "y_pred = pipeline.predict(X_test)\n",
    "\n",
    "accuracy_score(y_test, y_pred)"
   ]
  },
  {
   "cell_type": "code",
   "execution_count": null,
   "metadata": {
    "collapsed": true
   },
   "outputs": [],
   "source": [
    "# CV and scaling in a pipeline\n",
    "steps = [('scaler', StandardScaler()), \n",
    "         ('knn', KNeighborsClassifier())]\n",
    "\n",
    "pipeline = Pipeline(steps)\n",
    "\n",
    "parameters = {knn__n_neighbors = np.arange(1, 50)}\n",
    "\n",
    "X_train, X_test, y_train, y_test = train_test_split(X, y, \n",
    "                                                   test_size=0.2, \n",
    "                                                   random_state=42)\n",
    "\n",
    "cv = GridSearchCV(pipeline, param_grid=parameters) \n",
    "    # cv not specified, default 3\n",
    "    # now cv is a model-like obj.\n",
    "    \n",
    "cv.fit(X_train, y_train)\n",
    "y_pred = cv.predict(X_test)\n",
    "\n",
    "print(cv.best_params_)\n",
    "print(cv.score(X_test, y_test))\n",
    "print(classification_report(y_test, y_pred))"
   ]
  },
  {
   "cell_type": "markdown",
   "metadata": {},
   "source": [
    "# pipeline"
   ]
  },
  {
   "cell_type": "markdown",
   "metadata": {},
   "source": [
    "## pipeline for classification"
   ]
  },
  {
   "cell_type": "code",
   "execution_count": null,
   "metadata": {
    "collapsed": true
   },
   "outputs": [],
   "source": [
    "# ...categorical features, missing values\n",
    "\n",
    "# Setup the pipeline\n",
    "steps = [('scaler', StandardScaler()),   # scale \n",
    "         ('SVM', SVC())]                 # instantiate\n",
    "\n",
    "pipeline = Pipeline(steps)\n",
    "\n",
    "# Specify the hyperparameter space\n",
    "parameters = {'SVM__C':[1, 10, 100],\n",
    "              'SVM__gamma':[0.1, 0.01]}  # keys follows this notation:\n",
    "                                         # 'step_name__parameter_name'\n",
    "\n",
    "# Create train and test sets\n",
    "X_train, X_test, y_train, y_test = train_test_split(X, y, test_size=0.2, random_state=21)\n",
    "\n",
    "# Instantiate the GridSearchCV object: cv\n",
    "cv = GridSearchCV(pipeline, param_grid=parameters, cv=3)\n",
    "\n",
    "# Fit to the training set\n",
    "cv.fit(X_train, y_train)\n",
    "\n",
    "# Predict the labels of the test set: y_pred\n",
    "y_pred = cv.predict(X_test)\n",
    "\n",
    "# Compute and print metrics\n",
    "print(\"Accuracy: {}\".format(cv.score(X_test, y_test)))\n",
    "print(classification_report(y_test, y_pred))\n",
    "print(\"Tuned Model Parameters: {}\".format(cv.best_params_))\n"
   ]
  },
  {
   "cell_type": "markdown",
   "metadata": {},
   "source": [
    "## Pipeline for regression"
   ]
  },
  {
   "cell_type": "code",
   "execution_count": null,
   "metadata": {
    "collapsed": true
   },
   "outputs": [],
   "source": [
    "# Setup the pipeline steps: steps\n",
    "steps = [('imputation', Imputer(missing_values='NaN', strategy='mean', axis=0)),\n",
    "         ('scaler',StandardScaler()),\n",
    "         ('elasticnet', ElasticNet())]\n",
    "\n",
    "# Create the pipeline: pipeline \n",
    "pipeline = Pipeline(steps)\n",
    "\n",
    "# Specify the hyperparameter space\n",
    "parameters = {'elasticnet__l1_ratio':np.linspace(0,1,30)}\n",
    "\n",
    "# Create train and test sets\n",
    "X_train, X_test, y_train, y_test = train_test_split(X, y, test_size=0.4, random_state=42)\n",
    "\n",
    "# Create the GridSearchCV object: gm_cv\n",
    "gm_cv = GridSearchCV(pipeline, parameters, cv=3)\n",
    "\n",
    "# Fit to the training set\n",
    "gm_cv.fit(X_train, y_train)\n",
    "\n",
    "# Compute and print the metrics\n",
    "r2 = gm_cv.score(X_test, y_test)\n",
    "print(\"Tuned ElasticNet Alpha: {}\".format(gm_cv.best_params_))\n",
    "print(\"Tuned ElasticNet R squared: {}\".format(r2))\n"
   ]
  },
  {
   "cell_type": "code",
   "execution_count": null,
   "metadata": {
    "collapsed": true
   },
   "outputs": [],
   "source": []
  },
  {
   "cell_type": "code",
   "execution_count": null,
   "metadata": {
    "collapsed": true
   },
   "outputs": [],
   "source": []
  },
  {
   "cell_type": "code",
   "execution_count": null,
   "metadata": {
    "collapsed": true
   },
   "outputs": [],
   "source": []
  },
  {
   "cell_type": "code",
   "execution_count": null,
   "metadata": {
    "collapsed": true
   },
   "outputs": [],
   "source": []
  },
  {
   "cell_type": "code",
   "execution_count": null,
   "metadata": {
    "collapsed": true
   },
   "outputs": [],
   "source": []
  }
 ],
 "metadata": {
  "anaconda-cloud": {},
  "kernelspec": {
   "display_name": "Python [default]",
   "language": "python",
   "name": "python3"
  },
  "language_info": {
   "codemirror_mode": {
    "name": "ipython",
    "version": 3
   },
   "file_extension": ".py",
   "mimetype": "text/x-python",
   "name": "python",
   "nbconvert_exporter": "python",
   "pygments_lexer": "ipython3",
   "version": "3.5.4"
  },
  "toc": {
   "colors": {
    "hover_highlight": "#DAA520",
    "navigate_num": "#000000",
    "navigate_text": "#333333",
    "running_highlight": "#FF0000",
    "selected_highlight": "#FFD700",
    "sidebar_border": "#EEEEEE",
    "wrapper_background": "#FFFFFF"
   },
   "moveMenuLeft": true,
   "nav_menu": {
    "height": "207px",
    "width": "252px"
   },
   "navigate_menu": true,
   "number_sections": true,
   "sideBar": false,
   "threshold": 4,
   "toc_cell": true,
   "toc_position": {
    "height": "328px",
    "left": "3px",
    "right": "20px",
    "top": "93px",
    "width": "204px"
   },
   "toc_section_display": "block",
   "toc_window_display": true,
   "widenNotebook": false
  }
 },
 "nbformat": 4,
 "nbformat_minor": 1
}
