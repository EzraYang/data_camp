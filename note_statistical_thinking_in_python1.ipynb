{
 "cells": [
  {
   "cell_type": "markdown",
   "metadata": {},
   "source": [
    "# statistical thinking in python  \n",
    "* 1 Graphical exploratory data analysis\n",
    "    * 1.1 plotting a histogram\n",
    "\t* 1.2 (to avoid binning bias) plotting all of your data\n",
    "\t* 1.3 (当数据点多到密恐时) Plot all of your data:ECDFs\n",
    "* 2 Quantitative exploratory data analysis\n",
    "\t* 2.1 sample mean and median\n",
    "\t* 2.2 percentile, outliers, and boxplot\n",
    "\t* 2.3 Variance and standard deviation¶\n",
    "\t* 2.4 Covariance and Pearson correlation coefficient\n",
    "* 3 Thinking probabilistically-- Discrete variables\n",
    "\t* 3.1 Random number generators and hacker statistics\n",
    "\t* 3.2 Probability distributions and stories: The Binomial distribution\n",
    "\t* 3.3 Poisson processes and the Poisson distribution\n",
    "* 4 Thinking probabilistically-- Continuous variables\n",
    "\t* 4.1 Probability density functions\n",
    "\t* 4.2 Introduction to the Normal distribution\n",
    "\t* 4.3 The Normal distribution: Properties and warnings\n",
    "\t* 4.4 The Exponential distribution"
   ]
  },
  {
   "cell_type": "code",
   "execution_count": 6,
   "metadata": {
    "collapsed": true
   },
   "outputs": [],
   "source": [
    "import numpy as np\n",
    "import matplotlib.pyplot as plt\n",
    "import seaborn as sns"
   ]
  },
  {
   "cell_type": "markdown",
   "metadata": {},
   "source": [
    "## 1 Graphical exploratory data analysis\n",
    "you can observe a lot by looking at data  \n",
    "\n",
    "EDA: the process of organizing, plotting, and summarizing a data set  \n",
    "\n",
    "“Exploratory data analysis can never be the whole story, but nothing else can serve as the foundation stone.”\n",
    "—John Tukey"
   ]
  },
  {
   "cell_type": "markdown",
   "metadata": {},
   "source": [
    "###  1.1 plotting a histogram"
   ]
  },
  {
   "cell_type": "code",
   "execution_count": null,
   "metadata": {
    "collapsed": true
   },
   "outputs": [],
   "source": [
    "# 一堆投票数据(discrete)很难看出什么结论，plot a histogram\n",
    "\n",
    "    # matplotlib style\n",
    "import matplotlib.pyplot as plt\n",
    "\n",
    "_ = plt.hist(df_swing['dem_share'])  # can take in series and np.array\n",
    "\n",
    "_ = plt.xlabel('percent of vote for Obama')\n",
    "_ = plt.ylabel('number of counties')\n",
    "\n",
    "plt.show()\n",
    "\n",
    "\n",
    "     # seaborn style\n",
    "import matplotlib.pyplot as plt\n",
    "import seaborn as sns\n",
    "\n",
    "sns.set()  # Set default Seaborn style\n",
    "\n",
    "_ = plt.hist(versicolor_petal_length)\n",
    "\n",
    "plt.show()\n"
   ]
  },
  {
   "cell_type": "code",
   "execution_count": null,
   "metadata": {
    "collapsed": true
   },
   "outputs": [],
   "source": [
    "# Setting the bins of a histogram\n",
    "bin_edges = [0, 10, 20, 30, 40, 50,\n",
    "             60, 70, 80, 90, 100]\n",
    "\n",
    "    # one way: set every bin edges\n",
    "_ = plt.hist(df_swing['dem_share'], bins=bin_edges)\n",
    "    \n",
    "    # another: set num of bins\n",
    "_ = plt.hist(df_swing['dem_share'], bins=20)"
   ]
  },
  {
   "cell_type": "markdown",
   "metadata": {},
   "source": [
    "### 1.2 (to avoid binning bias) plotting all of your data\n",
    "把每个数据点都画出来)"
   ]
  },
  {
   "cell_type": "code",
   "execution_count": null,
   "metadata": {
    "collapsed": true
   },
   "outputs": [],
   "source": [
    "_ = sns.swarmplot(data=df, x='species', y='petal length (cm)')\n",
    "    # x轴是个categorical var,\n",
    "    # 这个图相当于画了n个histogram, n=data.species.nunique()\n",
    "    \n",
    "_ = plt.xlabel('species')\n",
    "_ = plt.ylabel('petal length (cm)')\n",
    "\n",
    "plt.show()"
   ]
  },
  {
   "cell_type": "markdown",
   "metadata": {},
   "source": [
    "### 1.3 (当数据点多到密恐时) Plot all of your data:ECDFs\n",
    "ECDF: Empirical cumulative distribution function   \n",
    "it plots all the data and show their distribution in a consice way"
   ]
  },
  {
   "cell_type": "code",
   "execution_count": 14,
   "metadata": {
    "collapsed": true
   },
   "outputs": [],
   "source": [
    "def ecdf(data):\n",
    "    \"\"\"Compute ECDF for a one-dimensional array of measurements.\"\"\"\n",
    "    n = len(data)  # Number of data points: n\n",
    "\n",
    "    x = np.sort(data)    # 从小到大把series of interest排序\n",
    "\n",
    "    y = np.arange(1, n + 1) / n   # 生成一系列normed编号\n",
    "\n",
    "    return x, y  # 作为画图的横纵坐标"
   ]
  },
  {
   "cell_type": "code",
   "execution_count": null,
   "metadata": {
    "collapsed": true
   },
   "outputs": [],
   "source": [
    "# 画单个seires/np.array的ECDF\n",
    "x_vers, y_vers = ecdf(versicolor_petal_length)\n",
    "\n",
    "_ = plt.plot(x_vers, y_vers, marker='.', linestyle='none')\n",
    "\n",
    "plt.margins(0.02)  # Make the margins nice\n",
    "\n",
    "_ = plt.ylabel('ECDF')\n",
    "_ = plt.xlabel('petal lengths of Iris versicolor flowers(cm)')\n",
    "\n",
    "plt.show()"
   ]
  },
  {
   "cell_type": "code",
   "execution_count": null,
   "metadata": {
    "collapsed": true
   },
   "outputs": [],
   "source": [
    "# 画多个ECDF在一张图上，matplotlib自动用不同颜色区分\n",
    "x_set, y_set = ecdf(setosa_petal_length)\n",
    "x_vers, y_vers = ecdf(versicolor_petal_length)\n",
    "x_virg, y_virg = ecdf(virginica_petal_length)\n",
    "\n",
    "    # Plot all ECDFs on the same plot\n",
    "_ = plt.plot(x_set, y_set, marker='.', linestyle='none')\n",
    "_ = plt.plot(x_vers, y_vers, marker='.', linestyle='none')\n",
    "_ = plt.plot(x_virg, y_virg, marker='.', linestyle='none')\n",
    "\n",
    "    # Make nice margins\n",
    "plt.margins(0.02)   \n",
    "\n",
    "    # Annotate the plot\n",
    "plt.legend(('setosa', 'versicolor', 'virginica'), loc='lower right')\n",
    "_ = plt.xlabel('petal length (cm)')\n",
    "_ = plt.ylabel('ECDF')\n",
    "\n",
    "plt.show()"
   ]
  },
  {
   "cell_type": "markdown",
   "metadata": {},
   "source": [
    "## 2 Quantitative exploratory data analysis\n",
    "用几个数字来总结data"
   ]
  },
  {
   "cell_type": "markdown",
   "metadata": {},
   "source": [
    "### 2.1 sample mean and median"
   ]
  },
  {
   "cell_type": "code",
   "execution_count": null,
   "metadata": {
    "collapsed": false
   },
   "outputs": [],
   "source": [
    "import numpy as np\n",
    "\n",
    "np.mean(data)\n",
    "\n",
    "np.median(data)"
   ]
  },
  {
   "cell_type": "markdown",
   "metadata": {},
   "source": [
    "### 2.2 percentile, outliers, and boxplot  \n",
    "median是特殊的percentile  \n",
    "boxplot is one of the alternatives of bee swarmplot"
   ]
  },
  {
   "cell_type": "code",
   "execution_count": null,
   "metadata": {
    "collapsed": true
   },
   "outputs": [],
   "source": [
    "# plot several percentiles\n",
    "percentiles = np.array([2.5, 25, 50, 75, 97.5])\n",
    "\n",
    "ptiles_vers = np.percentile(versicolor_petal_length, percentiles)  # 注意percentile不是fraction\n",
    "\n",
    "print(ptiles_vers)"
   ]
  },
  {
   "cell_type": "code",
   "execution_count": null,
   "metadata": {
    "collapsed": true
   },
   "outputs": [],
   "source": [
    "# 在ECDF上叠加percentile点\n",
    "_ = plt.plot(x_vers, y_vers, '.')\n",
    "plt.margins(0.02)\n",
    "_ = plt.xlabel('petal length (cm)')\n",
    "_ = plt.ylabel('ECDF')\n",
    "\n",
    "_ = plt.plot(ptiles_vers, percentiles/100, marker='D', color='red',\n",
    "         linestyle='none')   # Overlay percentiles as red diamonds.\n",
    "\n",
    "plt.show()"
   ]
  },
  {
   "cell_type": "code",
   "execution_count": null,
   "metadata": {
    "collapsed": true
   },
   "outputs": [],
   "source": [
    "# Create box plot with Seaborn's default settings\n",
    "_ = sns.boxplot(x='species', y='petal length (cm)', data=df)\n",
    "\n",
    "_ = plt.xlabel('species')\n",
    "_ = plt.ylabel('petal length (cm)')\n",
    "\n",
    "plt.show()"
   ]
  },
  {
   "cell_type": "markdown",
   "metadata": {},
   "source": [
    "### 2.3 Variance and standard deviation\n",
    "（就单个sample来说，而不是在推断Population params的语境里）"
   ]
  },
  {
   "cell_type": "markdown",
   "metadata": {},
   "source": [
    "* variance: the mean squared distance of the data from their mean; informally a measure of the spread of data$$variance = \\frac{1}{n} * \\sum_{i=1}^n (x_i - \\bar x)^2$$\n",
    "* standard deviation: dimensionless measurement of spread of data $$std = \\sqrt{\\frac{\\sum_{i=1}^n (x_i - \\bar x)^2}{n}} = \\sqrt{variance}$$"
   ]
  },
  {
   "cell_type": "code",
   "execution_count": null,
   "metadata": {
    "collapsed": true
   },
   "outputs": [],
   "source": [
    "np.var(data)\n",
    "\n",
    "np.std(data)"
   ]
  },
  {
   "cell_type": "markdown",
   "metadata": {},
   "source": [
    "### 2.4 Covariance and Pearson correlation coefficient"
   ]
  },
  {
   "cell_type": "markdown",
   "metadata": {},
   "source": [
    "![](http://upload-images.jianshu.io/upload_images/1526845-d4c49911586344d6.png?imageMogr2/auto-orient/strip%7CimageView2/2/w/1240)"
   ]
  },
  {
   "cell_type": "markdown",
   "metadata": {},
   "source": [
    "in order to be dimensionless:  \n",
    "![](http://upload-images.jianshu.io/upload_images/1526845-9c437813a915633b.png?imageMogr2/auto-orient/strip%7CimageView2/2/w/1240)"
   ]
  },
  {
   "cell_type": "code",
   "execution_count": null,
   "metadata": {
    "collapsed": true
   },
   "outputs": [],
   "source": [
    "# computing the covariance\n",
    "    # Compute the covariance matrix\n",
    "covariance_matrix = np.cov(versicolor_petal_length, versicolor_petal_width)\n",
    "\n",
    "print(covariance_matrix)  # get a 2*2 matrix\n",
    "\n",
    "    # Extract covariance of length and width of petals\n",
    "petal_cov = covariance_matrix[0, 1]  \n",
    "\n",
    "print(petal_cov)\n"
   ]
  },
  {
   "cell_type": "code",
   "execution_count": null,
   "metadata": {
    "collapsed": true
   },
   "outputs": [],
   "source": [
    "# compute teh Pearson correlation coefficient\n",
    "def pearson_r(x, y):\n",
    "    \"\"\"Compute Pearson correlation coefficient between two arrays.\"\"\"\n",
    "    # Compute correlation matrix: corr_mat\n",
    "    corr_mat = np.corrcoef(x, y)\n",
    "\n",
    "    # Return entry [0,1]\n",
    "    return corr_mat[0,1]\n",
    "\n",
    "# Compute Pearson correlation coefficient for I. versicolor: r\n",
    "r = pearson_r(versicolor_petal_length, versicolor_petal_width)\n",
    "\n",
    "# Print the result\n",
    "print(r)\n"
   ]
  },
  {
   "cell_type": "markdown",
   "metadata": {},
   "source": [
    "## 3 Thinking probabilistically-- Discrete variables \n",
    "test & measurement -->> outcome  \n",
    "another test & measurement  -->> what is the outcome likely to be?  \n",
    "\n",
    "Hacker statistics：  \n",
    "Uses simulated repeated measurements to compute probabilities."
   ]
  },
  {
   "cell_type": "markdown",
   "metadata": {},
   "source": [
    "### 3.1 Random number generators and hacker statistics"
   ]
  },
  {
   "cell_type": "markdown",
   "metadata": {},
   "source": [
    "The np.random module\n",
    "* Suite of functions based on random number generation\n",
    "* np.random.random():\n",
    "    * draw a number between 0 and 1\n",
    "    * 在0-1区间内任意一个值取值的概率均等"
   ]
  },
  {
   "cell_type": "code",
   "execution_count": 7,
   "metadata": {
    "collapsed": true
   },
   "outputs": [],
   "source": [
    "# Bernoulli trial： \n",
    "# An experiment that has two options, \n",
    "# \"success\" (True) and \"failure\" (False).\n",
    "\n",
    "# 一次伯努利实验of size n\n",
    "\n",
    "def perform_bernoulli_trials(n, p):\n",
    "    \"\"\"\n",
    "    Perform n Bernoulli trials with success probability p\n",
    "    and return number of successes.\n",
    "    \"\"\"\n",
    "    # Initialize number of successes: n_success\n",
    "    n_success = 0\n",
    "\n",
    "    # Perform trials\n",
    "    for i in range(n):\n",
    "        # Choose random number between zero and one: random_number\n",
    "        random_number = np.random.random()\n",
    "\n",
    "        # If less than p, it's a success so add one to n_success\n",
    "        if random_number < p:\n",
    "            n_success += 1\n",
    "\n",
    "    return n_success\n"
   ]
  },
  {
   "cell_type": "code",
   "execution_count": 12,
   "metadata": {
    "collapsed": true
   },
   "outputs": [
    {
     "data": {
      "image/png": "[encoded data removed]",
      "text/plain": [
       "<matplotlib.figure.Figure at 0x117d16c50>"
      ]
     },
     "metadata": {},
     "output_type": "display_data"
    }
   ],
   "source": [
    "# N次（伯努利实验of size n）\n",
    "N = 1000000\n",
    "\n",
    "n_defaults = np.empty(N)   # Initialize the container array\n",
    "\n",
    "    # Compute the number of defaults\n",
    "for i in range(N):\n",
    "    n_defaults[i] = perform_bernoulli_trials(100, 0.05)\n",
    "\n",
    "\n",
    "    # Plot the histogram with default number of bins; label your axes\n",
    "_ = plt.hist(n_defaults, normed=True)\n",
    "_ = plt.xlabel('number of defaults out of 100 loans')\n",
    "_ = plt.ylabel('probability')\n",
    "\n",
    "    # Show the plot\n",
    "plt.show()\n"
   ]
  },
  {
   "cell_type": "code",
   "execution_count": 15,
   "metadata": {
    "collapsed": true
   },
   "outputs": [
    {
     "data": {
      "image/png": "[encoded data removed]",
      "text/plain": [
       "<matplotlib.figure.Figure at 0x1181f86d8>"
      ]
     },
     "metadata": {},
     "output_type": "display_data"
    },
    {
     "name": "stdout",
     "output_type": "stream",
     "text": [
      "Probability of losing money = 0.028176\n"
     ]
    }
   ],
   "source": [
    "# ECDF of (N次（伯努利实验of size n）)\n",
    "\n",
    "    # Compute ECDF: x, y\n",
    "x, y = ecdf(n_defaults)\n",
    "\n",
    "    # Plot the ECDF with labeled axes\n",
    "_ = plt.plot(x, y, marker='.', linestyle='none')\n",
    "_ = plt.xlabel('number of default loans')\n",
    "_ = plt.ylabel('ECDF')\n",
    "\n",
    "    # Show the plot\n",
    "plt.show()\n",
    "\n",
    "    # Compute the number of 100-loan simulations with 10 or more defaults: n_lose_money\n",
    "n_lose_money = sum(n_defaults >= 10)\n",
    "\n",
    "    # Compute and print probability of losing money\n",
    "print('Probability of losing money =', n_lose_money / len(n_defaults))\n"
   ]
  },
  {
   "cell_type": "markdown",
   "metadata": {},
   "source": [
    "### 3.2 Probability distributions and stories: The Binomial distribution  \n",
    "Binomial distribution: the story  \n",
    "* The number r of successes in n Bernoulli trials with probability p of success, is Binomially distributed\n",
    "* eg. The number r of heads in 4 coin flips with probability 0.5 of heads, is Binomially distributed"
   ]
  },
  {
   "cell_type": "code",
   "execution_count": null,
   "metadata": {
    "collapsed": true
   },
   "outputs": [],
   "source": [
    "# 其实就是上一节的东西封装到np.random.binomial里\n",
    "# 当然，代码要有效率得多\n",
    "\n",
    "    # Take 10,000 samples out of the binomial distribution: n_defaults\n",
    "n_defaults = np.random.binomial(n=100, p=0.05, size=10000)\n",
    "\n",
    "    # Compute CDF: x, y\n",
    "x, y = ecdf(n_defaults)\n",
    "\n",
    "    # Plot the CDF with axis labels\n",
    "_ = plt.plot(x, y, marker='.', linestyle='none')\n",
    "_ = plt.xlabel('number of success')\n",
    "_ = plt.ylabel('cdf')\n",
    "\n",
    "    # Show the plot\n",
    "plt.show()\n"
   ]
  },
  {
   "cell_type": "markdown",
   "metadata": {},
   "source": [
    "### 3.3 Poisson processes and the Poisson distribution  \n",
    "Poisson process：  \n",
    "* The timing of the next event is completely independent of when the previous event happened  \n",
    "\n",
    "Poisson distribution：  \n",
    "* The number r of arrivals of a Poisson process in a given time interval with average rate of λ arrivals per interval is Poisson distributed.\n",
    "* eg. The number r of hits on a website in one hour with an average hit rate of 6 hits per hour is Poisson distributed.  \n",
    "* （这点没有理解）Poisson Dis. 是Binomial Dis.的一种特殊情况。Binomial distribution for low probability of success and large number of trials. That is, for rare events."
   ]
  },
  {
   "cell_type": "code",
   "execution_count": 16,
   "metadata": {
    "collapsed": false
   },
   "outputs": [
    {
     "name": "stdout",
     "output_type": "stream",
     "text": [
      "Poisson:      10.012 3.15313431366\n",
      "n = 20 Binom: 10.0021 2.25146520959\n",
      "n = 100 Binom: 9.9594 2.97579428725\n",
      "n = 1000 Binom: 9.9844 3.14826247953\n"
     ]
    }
   ],
   "source": [
    "# 同样均值的一个poisson dis.和多个binomial dis. with diff p，\n",
    "# binomial dis. 的p越小，binomial dis. 的std越接近poisson dis. 的std\n",
    "\n",
    "\n",
    "# Draw 10,000 samples out of Poisson distribution: samples_poisson\n",
    "samples_poisson = np.random.poisson(10, size=10000)\n",
    "\n",
    "# Print the mean and standard deviation\n",
    "print('Poisson:     ', np.mean(samples_poisson),\n",
    "                       np.std(samples_poisson))\n",
    "\n",
    "# Specify values of n and p to consider for Binomial: n, p\n",
    "n = [20, 100, 1000]\n",
    "p = [0.5, 0.1, 0.01]\n",
    "\n",
    "\n",
    "# Draw 10,000 samples for each n,p pair: samples_binomial\n",
    "for i in range(3):\n",
    "    samples_binomial = np.random.binomial(n[i], p[i], 10000)\n",
    "\n",
    "    # Print results\n",
    "    print('n =', n[i], 'Binom:', np.mean(samples_binomial),\n",
    "                                 np.std(samples_binomial))\n"
   ]
  },
  {
   "cell_type": "markdown",
   "metadata": {},
   "source": [
    "## 4 Thinking probabilistically-- Continuous variables "
   ]
  },
  {
   "cell_type": "markdown",
   "metadata": {},
   "source": [
    "### 4.1 Probability density functions\n",
    "* Continuous analog to the PMF\n",
    "* Mathematical description of the relative likelihood of observing a value of a continuous variable"
   ]
  },
  {
   "cell_type": "markdown",
   "metadata": {},
   "source": [
    "### 4.2 Introduction to the Normal distribution\n",
    "* Describes a continuous variable whose PDF has a single symmetric peak.  \n",
    "* 看一个data是不是normal dis.可以用它的CDF和（用np.random.normal生成的一个size很大的）CDF比较"
   ]
  },
  {
   "cell_type": "code",
   "execution_count": 17,
   "metadata": {
    "collapsed": true
   },
   "outputs": [
    {
     "data": {
      "image/png": "[encoded data removed]",
      "text/plain": [
       "<matplotlib.figure.Figure at 0x11a99f198>"
      ]
     },
     "metadata": {},
     "output_type": "display_data"
    }
   ],
   "source": [
    "# Draw 100000 samples from Normal distribution with stds of interest: samples_std1, samples_std3, samples_std10\n",
    "samples_std1 = np.random.normal(20, 1, 100000)\n",
    "samples_std3 = np.random.normal(20, 3, 100000)\n",
    "samples_std10 = np.random.normal(20, 10, 100000)\n",
    "\n",
    "\n",
    "\n",
    "# Make histograms\n",
    "plt.hist(samples_std1, normed=True, histtype='step', bins=100)\n",
    "plt.hist(samples_std3, normed=True, histtype='step', bins=100)\n",
    "plt.hist(samples_std10, normed=True, histtype='step', bins=100)\n",
    "\n",
    "\n",
    "\n",
    "# Make a legend, set limits and show plot\n",
    "_ = plt.legend(('std = 1', 'std = 3', 'std = 10'))\n",
    "plt.ylim(-0.01, 0.42)\n",
    "plt.show()\n"
   ]
  },
  {
   "cell_type": "code",
   "execution_count": 18,
   "metadata": {
    "collapsed": true
   },
   "outputs": [
    {
     "data": {
      "image/png": "[encoded data removed]",
      "text/plain": [
       "<matplotlib.figure.Figure at 0x11cfdc320>"
      ]
     },
     "metadata": {},
     "output_type": "display_data"
    }
   ],
   "source": [
    "# Generate CDFs\n",
    "x_std1, y_std1 = ecdf(samples_std1)\n",
    "x_std3, y_std3 = ecdf(samples_std3)\n",
    "x_std10, y_std10 = ecdf(samples_std10)\n",
    "\n",
    "# Plot CDFs\n",
    "plt.plot(x_std1, y_std1, marker='.', linestyle='none')\n",
    "plt.plot(x_std3, y_std3, marker='.', linestyle='none')\n",
    "plt.plot(x_std10, y_std10, marker='.', linestyle='none')\n",
    "\n",
    "# Make 2% margin\n",
    "plt.margins(0.02)\n",
    "\n",
    "# Make a legend and show the plot\n",
    "_ = plt.legend(('std = 1', 'std = 3', 'std = 10'), loc='lower right')\n",
    "plt.show()\n"
   ]
  },
  {
   "cell_type": "markdown",
   "metadata": {},
   "source": [
    "### 4.3 The Normal distribution: Properties and warnings  \n",
    "* 无处不在\n",
    "    * in practice, used to describe most symmetric data you will encounter\n",
    "    * many stats process require normality assumption\n",
    "* 可能误用，caveat(warnings)\n",
    "    * 看着像正态分布其实不是 —— check with ECDF\n",
    "    * normal dis.微乎其微的概率产生outlier(eg. 4 stdev away from mean)  \n",
    "    -->> 有outlier的数据可能不适合套用normal dis. to modeling"
   ]
  },
  {
   "cell_type": "code",
   "execution_count": null,
   "metadata": {
    "collapsed": true
   },
   "outputs": [],
   "source": [
    "# check normality with ECDF\n",
    "\n",
    "    # Compute mean and standard deviation: mu, sigma\n",
    "mu = np.mean(belmont_no_outliers)\n",
    "sigma = np.std(belmont_no_outliers)\n",
    "\n",
    "    # Sample out of a normal distribution with this mu and sigma: samples\n",
    "samples = np.random.normal(mu, sigma, 10000)\n",
    "\n",
    "    # Get the CDF of the samples and of the data\n",
    "x_theor, y_theor = ecdf(samples)\n",
    "x, y = ecdf(belmont_no_outliers)\n",
    "\n",
    "    # Plot the CDFs and show the plot\n",
    "_ = plt.plot(x_theor, y_theor)\n",
    "_ = plt.plot(x, y, marker='.', linestyle='none')\n",
    "plt.margins(0.02)\n",
    "_ = plt.xlabel('Belmont winning time (sec.)')\n",
    "_ = plt.ylabel('CDF')\n",
    "plt.show()\n"
   ]
  },
  {
   "cell_type": "markdown",
   "metadata": {},
   "source": [
    "### 4.4 The Exponential distribution\n",
    "* The waiting time between arrivals of a Poisson process is Exponentially distributed\n",
    "* single param: the mean"
   ]
  },
  {
   "cell_type": "code",
   "execution_count": null,
   "metadata": {
    "collapsed": true
   },
   "outputs": [],
   "source": [
    "# check exponentiality with ECDF\n",
    "mean = np.mean(data)\n",
    "\n",
    "samples = np.random.exponential(mean, size = 100000)\n",
    "\n",
    "x, y = ecdf(inter_times)\n",
    "\n",
    "x_theor, y_theor = ecdf(samples)\n",
    "\n",
    "_ = plt.plot(x, y, marker='.', linestyle='none')\n",
    "_ = plt.plot(x_theor, y_theor, marker='.', linestyle='none')\n",
    "\n",
    "_ = plt.xlabel('xlabel')\n",
    "_ = plt.ylabel('ylabel')\n",
    "\n",
    "plt.show()"
   ]
  },
  {
   "cell_type": "code",
   "execution_count": null,
   "metadata": {
    "collapsed": true
   },
   "outputs": [],
   "source": []
  },
  {
   "cell_type": "code",
   "execution_count": null,
   "metadata": {
    "collapsed": true
   },
   "outputs": [],
   "source": []
  },
  {
   "cell_type": "code",
   "execution_count": null,
   "metadata": {
    "collapsed": true
   },
   "outputs": [],
   "source": []
  },
  {
   "cell_type": "code",
   "execution_count": null,
   "metadata": {
    "collapsed": true
   },
   "outputs": [],
   "source": []
  },
  {
   "cell_type": "code",
   "execution_count": null,
   "metadata": {
    "collapsed": true
   },
   "outputs": [],
   "source": []
  }
 ],
 "metadata": {
  "kernelspec": {
   "display_name": "Python [default]",
   "language": "python",
   "name": "python3"
  },
  "language_info": {
   "codemirror_mode": {
    "name": "ipython",
    "version": 3
   },
   "file_extension": ".py",
   "mimetype": "text/x-python",
   "name": "python",
   "nbconvert_exporter": "python",
   "pygments_lexer": "ipython3",
   "version": "3.5.2"
  }
 },
 "nbformat": 4,
 "nbformat_minor": 1
}
