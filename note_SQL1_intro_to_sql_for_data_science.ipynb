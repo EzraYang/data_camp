{
 "cells": [
  {
   "cell_type": "markdown",
   "metadata": {
    "toc": "true"
   },
   "source": [
    "# Table of Contents\n",
    " <p><div class=\"lev1 toc-item\"><a href=\"#Selecting-columns\" data-toc-modified-id=\"Selecting-columns-1\"><span class=\"toc-item-num\">1&nbsp;&nbsp;</span>Selecting columns</a></div><div class=\"lev1 toc-item\"><a href=\"#Filtering-rows\" data-toc-modified-id=\"Filtering-rows-2\"><span class=\"toc-item-num\">2&nbsp;&nbsp;</span>Filtering rows</a></div>"
   ]
  },
  {
   "cell_type": "markdown",
   "metadata": {},
   "source": [
    "# Selecting columns"
   ]
  },
  {
   "cell_type": "code",
   "execution_count": null,
   "metadata": {
    "collapsed": true
   },
   "outputs": [],
   "source": [
    "# basic select\n",
    "\n",
    "SELECT name \n",
    "FROM people;\n",
    "\n",
    "SELECT name, birthdate\n",
    "FROM people;\n",
    "    # select multiple columns\n",
    "\n",
    "SELECT *\n",
    "FROM people;\n",
    "    # select all columns from a table\n",
    "\n",
    "SELECT *\n",
    "FROM people\n",
    "LIMIT 10;  \n",
    "    # limit the number of rows returned"
   ]
  },
  {
   "cell_type": "code",
   "execution_count": null,
   "metadata": {
    "collapsed": true
   },
   "outputs": [],
   "source": [
    "# select, distinct, and count\n",
    "\n",
    "SELECT DISTINCT language\n",
    "FROM films;\n",
    "    # select all the unique values from a column\n",
    "    \n",
    "SELECT COUNT(*)\n",
    "FROM people;\n",
    "    # count the number of rows in your employees table\n",
    "    \n",
    "SELECT COUNT(birthdate)\n",
    "FROM people;\n",
    "    # count the num. of non-missing values \n",
    "    # in a particular column\n",
    "    \n",
    "SELECT COUNT(DISTINCT birthdate)\n",
    "FROM people;\n",
    "    # It's also common to combine COUNT with DISTINCT \n",
    "    # to count the number of distinct values in a column."
   ]
  },
  {
   "cell_type": "markdown",
   "metadata": {},
   "source": [
    "# Filtering rows"
   ]
  },
  {
   "cell_type": "markdown",
   "metadata": {},
   "source": [
    "In SQL, the WHERE keyword allows you to filter based on both text and numeric values in a table. There are a few different comparison operators you can use:\n",
    "\n",
    "* = equal\n",
    "* <> not equal\n",
    "* < less than\n",
    "* \\> greater than\n",
    "* <= less than or equal to\n",
    "* \\>= greater than or equal to"
   ]
  },
  {
   "cell_type": "code",
   "execution_count": null,
   "metadata": {
    "collapsed": true
   },
   "outputs": [],
   "source": [
    "SELECT *\n",
    "FROM films\n",
    "WHERE budget > 10000;\n",
    "    # Simple filtering of numeric values\n",
    "    \n",
    "SELECT title\n",
    "FROM films\n",
    "WHERE country = 'China';\n",
    "    # Simple filtering of text"
   ]
  },
  {
   "cell_type": "code",
   "execution_count": null,
   "metadata": {
    "collapsed": true
   },
   "outputs": [],
   "source": [
    "# select data based on multiple conditions\n",
    "\n",
    "SELECT title\n",
    "FROM films\n",
    "WHERE release_year > 1994\n",
    "AND release_year < 2000;\n",
    "    # or\n",
    "SELECT title\n",
    "FROM films\n",
    "WHERE release_year > 1994 AND < 2000;"
   ]
  },
  {
   "cell_type": "code",
   "execution_count": null,
   "metadata": {
    "collapsed": true
   },
   "outputs": [],
   "source": []
  },
  {
   "cell_type": "code",
   "execution_count": null,
   "metadata": {
    "collapsed": true
   },
   "outputs": [],
   "source": []
  },
  {
   "cell_type": "code",
   "execution_count": null,
   "metadata": {
    "collapsed": true
   },
   "outputs": [],
   "source": []
  },
  {
   "cell_type": "code",
   "execution_count": null,
   "metadata": {
    "collapsed": true
   },
   "outputs": [],
   "source": []
  },
  {
   "cell_type": "code",
   "execution_count": null,
   "metadata": {
    "collapsed": true
   },
   "outputs": [],
   "source": []
  },
  {
   "cell_type": "code",
   "execution_count": null,
   "metadata": {
    "collapsed": true
   },
   "outputs": [],
   "source": []
  }
 ],
 "metadata": {
  "kernelspec": {
   "display_name": "Python [conda root]",
   "language": "python",
   "name": "conda-root-py"
  },
  "language_info": {
   "codemirror_mode": {
    "name": "ipython",
    "version": 3
   },
   "file_extension": ".py",
   "mimetype": "text/x-python",
   "name": "python",
   "nbconvert_exporter": "python",
   "pygments_lexer": "ipython3",
   "version": "3.5.4"
  },
  "toc": {
   "colors": {
    "hover_highlight": "#DAA520",
    "navigate_num": "#000000",
    "navigate_text": "#333333",
    "running_highlight": "#FF0000",
    "selected_highlight": "#FFD700",
    "sidebar_border": "#EEEEEE",
    "wrapper_background": "#FFFFFF"
   },
   "moveMenuLeft": true,
   "nav_menu": {
    "height": "48px",
    "width": "252px"
   },
   "navigate_menu": true,
   "number_sections": true,
   "sideBar": false,
   "threshold": 4,
   "toc_cell": true,
   "toc_position": {
    "height": "84px",
    "left": "46px",
    "right": "20px",
    "top": "516px",
    "width": "128px"
   },
   "toc_section_display": "none",
   "toc_window_display": true,
   "widenNotebook": false
  }
 },
 "nbformat": 4,
 "nbformat_minor": 2
}
