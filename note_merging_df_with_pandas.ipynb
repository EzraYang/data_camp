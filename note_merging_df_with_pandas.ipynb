{
 "cells": [
  {
   "cell_type": "markdown",
   "metadata": {},
   "source": [
    "* combine, or 'merge' multiple DataFrames\n",
    "* perform database-style joins between DataFrames\n",
    "* organize, reshape, and aggregate multiple datasets"
   ]
  },
  {
   "cell_type": "markdown",
   "metadata": {},
   "source": [
    "# 1 combine, or 'merge' multiple DataFrames"
   ]
  },
  {
   "cell_type": "markdown",
   "metadata": {},
   "source": [
    "## 1.1 reading multiple data files"
   ]
  },
  {
   "cell_type": "code",
   "execution_count": null,
   "metadata": {
    "collapsed": true
   },
   "outputs": [],
   "source": [
    "# pd.read_系列\n",
    "pd.read_csv(filepath)\n",
    "pd.read_excel(filepath)\n",
    "pd.read_html(filepath)\n",
    "pd.read_json(filepath)"
   ]
  },
  {
   "cell_type": "code",
   "execution_count": null,
   "metadata": {
    "collapsed": true
   },
   "outputs": [],
   "source": [
    "# load files seperatly\n",
    "df0 = pd.read_csv(filepath0)\n",
    "df1 = pd.read_csv(filepath1)\n",
    "\n",
    "# use a loop (1)\n",
    "files = [filepath0, filepath1]\n",
    "\n",
    "dataframes = []\n",
    "\n",
    "for f in files:\n",
    "    dataframes.append(pd.read_csv(f))\n",
    "    \n",
    "# use a loop (2)\n",
    "files = [filepath0, filepath1]\n",
    "\n",
    "dataframes = [pd.read_csv(f) for f in files]\n",
    "\n",
    "# import glob to use wildcard\n",
    "from glob import glob\n",
    "\n",
    "filenames = glob('sales*.csv')\n",
    "dataframes = [pd.read_csv(f) for f in filenames]"
   ]
  },
  {
   "cell_type": "markdown",
   "metadata": {},
   "source": [
    "## 1.2 reindex dataframes"
   ]
  },
  {
   "cell_type": "code",
   "execution_count": 120,
   "metadata": {
    "collapsed": false
   },
   "outputs": [
    {
     "data": {
      "text/plain": [
       "Index(['Apr', 'Jan', 'Jul', 'Oct'], dtype='object', name='Month')"
      ]
     },
     "execution_count": 120,
     "metadata": {},
     "output_type": "execute_result"
    }
   ],
   "source": [
    "# two dataframes\n",
    "w_mean = pd.DataFrame({'Mean TemperatureF':[61.956044, \n",
    "                                            32.133333, \n",
    "                                            68.934783, \n",
    "                                            43.434783],\n",
    "                       'Month':['Apr', 'Jan', 'Jul', 'Oct']}).set_index('Month')\n",
    "\n",
    "w_mean.index    # index is in alphabetical order"
   ]
  },
  {
   "cell_type": "code",
   "execution_count": 121,
   "metadata": {
    "collapsed": false
   },
   "outputs": [
    {
     "data": {
      "text/plain": [
       "Index(['Jan', 'Apr', 'Jul', 'Oct'], dtype='object', name='Month')"
      ]
     },
     "execution_count": 121,
     "metadata": {},
     "output_type": "execute_result"
    }
   ],
   "source": [
    "# two dataframes\n",
    "w_max = pd.DataFrame({'Max TemperatureF':[68, \n",
    "                                            89, \n",
    "                                            91, \n",
    "                                            84],\n",
    "                       'Month':['Jan', 'Apr',  'Jul', 'Oct']}).set_index('Month')\n",
    "\n",
    "w_max.index    # index is in chronological order"
   ]
  },
  {
   "cell_type": "code",
   "execution_count": null,
   "metadata": {
    "collapsed": false
   },
   "outputs": [],
   "source": [
    "# using .reindex() to change order into one you desire\n",
    "ordered = ['Jan', 'Apr', 'Jul', 'Oct']\n",
    "\n",
    "w_mean.reindex(ordered) == w_mean.reindex(w_max.index)  # get element-wise true\n",
    "                                                        # both chronological order\n",
    "    \n",
    "w_mean2 = w_mean.reindex(ordered)    # get chronological order\n",
    "\n",
    "w_mean2.sort_index()    # .sort_index() sorts back in alphabetical order"
   ]
  },
  {
   "cell_type": "code",
   "execution_count": 123,
   "metadata": {
    "collapsed": false
   },
   "outputs": [
    {
     "data": {
      "text/html": [
       "<div>\n",
       "<table border=\"1\" class=\"dataframe\">\n",
       "  <thead>\n",
       "    <tr style=\"text-align: right;\">\n",
       "      <th></th>\n",
       "      <th>Mean TemperatureF</th>\n",
       "    </tr>\n",
       "    <tr>\n",
       "      <th>Month</th>\n",
       "      <th></th>\n",
       "    </tr>\n",
       "  </thead>\n",
       "  <tbody>\n",
       "    <tr>\n",
       "      <th>Jan</th>\n",
       "      <td>32.133333</td>\n",
       "    </tr>\n",
       "    <tr>\n",
       "      <th>Apr</th>\n",
       "      <td>61.956044</td>\n",
       "    </tr>\n",
       "    <tr>\n",
       "      <th>Dec</th>\n",
       "      <td>NaN</td>\n",
       "    </tr>\n",
       "  </tbody>\n",
       "</table>\n",
       "</div>"
      ],
      "text/plain": [
       "       Mean TemperatureF\n",
       "Month                   \n",
       "Jan            32.133333\n",
       "Apr            61.956044\n",
       "Dec                  NaN"
      ]
     },
     "execution_count": 123,
     "metadata": {},
     "output_type": "execute_result"
    }
   ],
   "source": [
    "# reindex with missing labels\n",
    "w_mean3 = w_mean.reindex(['Jan', 'Apr', 'Dec'])\n",
    "w_mean3\n",
    "\n",
    "w_mean3.dropna()    # then can call .dropna() to drop the NaN row"
   ]
  },
  {
   "cell_type": "markdown",
   "metadata": {},
   "source": [
    "## 1.3 arithmetic between series & dataframes"
   ]
  },
  {
   "cell_type": "markdown",
   "metadata": {},
   "source": [
    "* .divide offers more flexibility   \n",
    "虽然不是很能理解 .divide(..., axis='row')\n",
    "\n",
    "![](http://note.youdao.com/yws/public/resource/5875cbf527e0463ea3b90059c233b97c/xmlnote/WEBRESOURCE2dfb28312d535a10bde0b6db1b0025be/30112)"
   ]
  },
  {
   "cell_type": "markdown",
   "metadata": {},
   "source": [
    "* .add() offers more flexibility\n",
    "\n",
    "![](http://note.youdao.com/yws/public/resource/5875cbf527e0463ea3b90059c233b97c/xmlnote/WEBRESOURCE96206822adaa77c19bdf150b3eb2fbad/30114)"
   ]
  },
  {
   "cell_type": "markdown",
   "metadata": {
    "collapsed": true
   },
   "source": [
    "# 2"
   ]
  },
  {
   "cell_type": "markdown",
   "metadata": {
    "collapsed": true
   },
   "source": [
    "## 2.1 appending  &concatenating series"
   ]
  },
  {
   "cell_type": "code",
   "execution_count": null,
   "metadata": {
    "collapsed": true
   },
   "outputs": [],
   "source": [
    "# .append()  stacking rows vertically\n",
    "s1.append(s2)\n",
    "\n",
    "# pd.concat()  can stack vertically or horizontally\n",
    "pd.concat([s1, s2, s3])\n",
    "\n",
    "# by default, these two method keep index of all original series\n",
    "# so there will be occasions where the same one index responding to two vals\n",
    "# to drop index when appending & concatenating\n",
    "s1.append(s2).reset_index(drop=True)\n",
    "\n",
    "pd.concat([s1, s2], ignore_index=True)"
   ]
  },
  {
   "cell_type": "markdown",
   "metadata": {},
   "source": [
    "## 2.2 appending & concatenating dataframes"
   ]
  },
  {
   "cell_type": "code",
   "execution_count": null,
   "metadata": {
    "collapsed": true
   },
   "outputs": [],
   "source": [
    "# .append()  stack vertically\n",
    "df1.append(df2)  # when diff cols, fill missing val with NaN\n",
    "\n",
    "# pd.concat()  can stack both direction, fill missing val with NaN \n",
    "pd.concat([s1, s2], axis=0)  # stack horizontally/concat by rows\n",
    "pd.concat([s1, s2], axis=1)  # stack vertically/concat by columns"
   ]
  },
  {
   "cell_type": "markdown",
   "metadata": {},
   "source": [
    "## 2.3 concatenation, keys, multiIndexes"
   ]
  },
  {
   "cell_type": "code",
   "execution_count": null,
   "metadata": {
    "collapsed": true
   },
   "outputs": [],
   "source": [
    "# keys=[] specifying the source df, generating multi level indx\n",
    "rain1314 = pd.concat([rain2013, rain2014], keys=[2013, 2014], axis=0)\n",
    "\n",
    "# generating multi level columns\n",
    "rain1314 = pd.concat([rain2013, rain2014], keys=[2013, 2014], axis='columns')\n",
    "\n",
    "# source-df pairs as key-value pais\n",
    "rain_dict = {2013: rain2013, 2014: rain2014}\n",
    "rain1314 = pd.concat(rain_dict, axis='columns')\n"
   ]
  },
  {
   "cell_type": "markdown",
   "metadata": {},
   "source": [
    "## 2.4 outer & inner joins"
   ]
  },
  {
   "cell_type": "code",
   "execution_count": null,
   "metadata": {
    "collapsed": true
   },
   "outputs": [],
   "source": [
    "# pd.concat() by default do an outer join\n",
    "pd.concat([df1, df2], axis=1, join='inner')\n",
    "\n",
    "pd.concat([df1, df2], axis=1, join='outer')"
   ]
  },
  {
   "cell_type": "markdown",
   "metadata": {},
   "source": [
    "# 3 joining and merging dataframes"
   ]
  },
  {
   "cell_type": "code",
   "execution_count": null,
   "metadata": {
    "collapsed": true
   },
   "outputs": [],
   "source": [
    "# .join and pd.merge() both concat by columns/stack horiontally\n",
    "\n",
    "# .join\n",
    "df1.join(df2)    # by default left join (how='left')\n",
    "                 # join on index\n",
    "    \n",
    "df1.join(df2, how='right')\n",
    "df1.join(df2, how='outer')\n",
    "df1.join(df2, how='inner')\n",
    "\n",
    "\n",
    "# pd.merge()\n",
    "pd.merge(df1, df2)   # by default an inner join\n",
    "                     # by default merge on same-name-cols as many as possible\n",
    "\n",
    "pd.merge(bronze, gold, on='NOC')\n",
    "\n",
    "pd.merge(bronze, gold, \n",
    "         on=['NOC', 'Country'])  # vals of the cols have to be \n",
    "                                 # the same to join other cols\n",
    "\n",
    "pd.merge(bronze, gold, \n",
    "         on=['NOC', 'Country'], \n",
    "         suffixes=['_bronze', '_gold'])  # specify the source\n",
    "\n",
    "pd.merge(cities, counties, \n",
    "         left_on='City', right_on='CITY NAME') # diff colname with same content\n",
    "\n",
    "pd.merge(bronze, gold, on=['NOC', 'Country'],\n",
    "         suffixes=['_bronze', '_gold'], \n",
    "         how='inner')"
   ]
  },
  {
   "cell_type": "markdown",
   "metadata": {},
   "source": [
    "(插入图片which should you use)\n"
   ]
  },
  {
   "cell_type": "code",
   "execution_count": null,
   "metadata": {
    "collapsed": true
   },
   "outputs": [],
   "source": []
  },
  {
   "cell_type": "code",
   "execution_count": null,
   "metadata": {
    "collapsed": true
   },
   "outputs": [],
   "source": []
  },
  {
   "cell_type": "code",
   "execution_count": null,
   "metadata": {
    "collapsed": true
   },
   "outputs": [],
   "source": []
  },
  {
   "cell_type": "code",
   "execution_count": null,
   "metadata": {
    "collapsed": true
   },
   "outputs": [],
   "source": []
  },
  {
   "cell_type": "code",
   "execution_count": null,
   "metadata": {
    "collapsed": true
   },
   "outputs": [],
   "source": []
  },
  {
   "cell_type": "code",
   "execution_count": null,
   "metadata": {
    "collapsed": true
   },
   "outputs": [],
   "source": []
  },
  {
   "cell_type": "code",
   "execution_count": null,
   "metadata": {
    "collapsed": true
   },
   "outputs": [],
   "source": []
  },
  {
   "cell_type": "code",
   "execution_count": null,
   "metadata": {
    "collapsed": true
   },
   "outputs": [],
   "source": []
  },
  {
   "cell_type": "code",
   "execution_count": null,
   "metadata": {
    "collapsed": true
   },
   "outputs": [],
   "source": []
  },
  {
   "cell_type": "code",
   "execution_count": null,
   "metadata": {
    "collapsed": true
   },
   "outputs": [],
   "source": []
  },
  {
   "cell_type": "code",
   "execution_count": null,
   "metadata": {
    "collapsed": true
   },
   "outputs": [],
   "source": []
  },
  {
   "cell_type": "code",
   "execution_count": null,
   "metadata": {
    "collapsed": true
   },
   "outputs": [],
   "source": []
  },
  {
   "cell_type": "code",
   "execution_count": null,
   "metadata": {
    "collapsed": true
   },
   "outputs": [],
   "source": []
  }
 ],
 "metadata": {
  "anaconda-cloud": {},
  "kernelspec": {
   "display_name": "Python [default]",
   "language": "python",
   "name": "python3"
  },
  "language_info": {
   "codemirror_mode": {
    "name": "ipython",
    "version": 3
   },
   "file_extension": ".py",
   "mimetype": "text/x-python",
   "name": "python",
   "nbconvert_exporter": "python",
   "pygments_lexer": "ipython3",
   "version": "3.5.2"
  }
 },
 "nbformat": 4,
 "nbformat_minor": 1
}
