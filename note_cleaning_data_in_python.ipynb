{
 "cells": [
  {
   "cell_type": "markdown",
   "metadata": {},
   "source": [
    "# Cleaning Data in Python\n",
    "* 感觉这个课更多是讲清理的思路，where to clean, what to clean\n",
    "* 而pandas系列课程偏重学会各种function\n",
    "\n",
    "content  \n",
    "* Exploring your data\n",
    "  * Diagnose data for cleaning\n",
    "  * Exploratory data analysis\n",
    "  * Visual exploratory data analysis\n",
    "* Tidying data for analysis ----------------- ☆\n",
    "\t* Tidy data\n",
    "\t* Pivoting data\n",
    "\t* Beyond melt and pivot\n",
    "* Combining data for analysis\n",
    "\t* Concatenating data\n",
    "\t* Finding and concatenating data ---- ☆\n",
    "\t* Merge data\n",
    "* Cleaning data for analysis\n",
    "\t* Data types\n",
    "\t* Using regular expressions to clean strings\n",
    "\t* Using functions to clean data ---------- ☆☆\n",
    "\t* Duplicate and missing data -------------- ☆\n",
    "\t* Testing with asserts\n",
    "* Case study\n",
    "\t* Putting it all together\n",
    "\t* Initial impressions of the data\n",
    "\t* Final thoughts"
   ]
  },
  {
   "cell_type": "markdown",
   "metadata": {},
   "source": [
    "## 1 exploring your data\n"
   ]
  },
  {
   "cell_type": "markdown",
   "metadata": {},
   "source": [
    "### 1.1 diagnose data for cleaning"
   ]
  },
  {
   "cell_type": "markdown",
   "metadata": {},
   "source": [
    "common data problems\n",
    "* inconsistent column names \n",
    "* missing data \n",
    "* outliers\n",
    "* duplicate rows\n",
    "* untidy\n",
    "* need to process columns \n",
    "* column types can signal unexpected data values"
   ]
  },
  {
   "cell_type": "code",
   "execution_count": null,
   "metadata": {
    "collapsed": true
   },
   "outputs": [],
   "source": [
    "# think about column names and missing vals \n",
    "df.head()\n",
    "df.tail()\n",
    "df.columns()\n",
    "df.shape\n",
    "df.info()"
   ]
  },
  {
   "cell_type": "markdown",
   "metadata": {},
   "source": [
    "### 1.2 exploratory data analysis\n",
    "* to help identify data that needs further investigation\n",
    "    * count the number of unique vals "
   ]
  },
  {
   "cell_type": "code",
   "execution_count": null,
   "metadata": {
    "collapsed": true
   },
   "outputs": [],
   "source": [
    "# non-numeric cols: frequency count to spot NaN\n",
    "df.continent.value_counts(dropna=False)   # count also the missing vals\n",
    "\n",
    "# numeric cols: summary stats to spot outlier\n",
    "df.describe()  # only results of num cols returned"
   ]
  },
  {
   "cell_type": "markdown",
   "metadata": {},
   "source": [
    "### 1.3 Visual exploratory data analysis\n",
    "when there's too many cols, summary stats alone can be overwhelming  \n",
    "use visual aid to :  \n",
    "   * spot outliers and obvious errors\n",
    "   * look for pattern"
   ]
  },
  {
   "cell_type": "code",
   "execution_count": null,
   "metadata": {
    "collapsed": false
   },
   "outputs": [],
   "source": [
    "# bar plots and histograms\n",
    "    # bar plots for deicrete data counts\n",
    "    # hist for continuous data counts\n",
    "        * df.colA.plot(kind='hist')\n",
    "        * df[df.population > 1000000000]   # select a subset to see if some error\n",
    "    # is there any unexpected freq of vals?\n",
    "    \n",
    "# boxplots\n",
    "    # outliers, percentiles\n",
    "    # when you have a numeric column that you want to compare across different categories\n",
    "    * df.boxplot(column='population', by'continent')\n",
    "    \n",
    "# scatter plots\n",
    "    # relationship between 2 numeric vals\n",
    "    # potentially bad data\n",
    "        # eg. errors not found by looking at 1 val\n",
    "        # select a subset to see if some error"
   ]
  },
  {
   "cell_type": "markdown",
   "metadata": {},
   "source": [
    "## 2 Tidying data for analysis\n",
    "### 2.1 Tidy data  \n",
    "* Principles of tidy data\n",
    "    * Columns represent separate variables \n",
    "    * Rows represent individual observations \n",
    "    * Observational units form tables（won't cover in this chap)\n",
    "* tidy data  \n",
    "    * better for analysis\n",
    "    * easier to fix common data problems  \n",
    "    * able to transfer data into diff shapes needed  \n",
    "* problem when tidying data\n",
    "    * columns containing values other than variables\n",
    "    * solution: pd.melt()  \n",
    "    \n",
    " (可是，为什么tidy data is a better format for analysis呢？)  \n",
    " 现在能想到的点是：方便groupby，方便画图(x=category_col, y=value, 加上一个aggregation func)  "
   ]
  },
  {
   "cell_type": "code",
   "execution_count": null,
   "metadata": {
    "collapsed": true
   },
   "outputs": [],
   "source": [
    "# imagine this df\n",
    "df.columns = ['name', 'treatmentA', 'treatmentB']\n",
    "df.values[0] = [some_name, result_of_treA, result_of_treB] # this is vals in a row in df \n",
    "\n",
    "# 'treatmentA' and 'treatmentB' should be the value of 'treatment' col\n",
    "# pd.melt()\n",
    "pd.melt(df, \n",
    "        id_vars='name',          # the col to remain the same(idntical for other cols) \n",
    "        value_vars=['treatmentA', 'treatmentB'],   # the cols to melt\n",
    "                                                   # by default all cols other than id_vars\n",
    "        var_name='treatment',    # 'trA','trB'两栏被合并到一栏后，new col name\n",
    "        value_name='result'      # 从cell中释放出的vals成为新的一栏后，new col name\n",
    "       )"
   ]
  },
  {
   "cell_type": "markdown",
   "metadata": {},
   "source": [
    "### 2.2 Pivoting data  \n",
    "* melt和pivot方向相反\n",
    "    * melting: turn cols into rows\n",
    "    * pivoting: turn unique vals into seperate cols \n",
    "* pivot用处\n",
    "    * analysis-friendly shape to reporing-friendly shape\n",
    "    * multiple vars stored in the same col ->> reshape into tidy\n",
    "* 我理解  \n",
    "    一个光谱，最左边<<-是最长的long format，最右->>是最宽的wide format  \n",
    "    tidy shape and data in hand both lies somewhere in between  \n",
    "    要向long form挪，<<-pd.melt()  \n",
    "    要向wide form挪，->>df.pivot() / df.pivot_table()"
   ]
  },
  {
   "cell_type": "code",
   "execution_count": null,
   "metadata": {
    "collapsed": true
   },
   "outputs": [],
   "source": [
    "# in df.pivot, each index-columns pair should be unique\n",
    "df.pivot(index = cols_you_dont_want_to_reform, \n",
    "         columns= cols_you_want_each_unique_vals_has_a_sep_col,\n",
    "         values= col_you_want_to_pivot_in_cell  # each index-col pair responds one value\n",
    "        )\n",
    "\n",
    "# in df.pivot_table(), each index-columns pair can have multi vals\n",
    "df.pivot_table(index= ,\n",
    "               columns= ,\n",
    "               values= ,\n",
    "               aggfunc=    # to aggregate multi vals of one index-col pair\n",
    "                           # default mean\n",
    "              )\n",
    "\n",
    "# if there's multi-level index after .pivot() / .pivot_table() and you don't want it\n",
    "df.pivot(...).reset_index()"
   ]
  },
  {
   "cell_type": "markdown",
   "metadata": {},
   "source": [
    "### 2.3 beyond melt and pivot\n",
    "这节只讲了一种情况"
   ]
  },
  {
   "cell_type": "code",
   "execution_count": null,
   "metadata": {
    "collapsed": true
   },
   "outputs": [],
   "source": [
    "# using the **str attribute** of columns of type object.\n",
    "\n",
    "tb_melt['gender'] = tb_melt.variable.str[0]  # create a new col \n",
    "                                             # pandas' vectorized string slicing  "
   ]
  },
  {
   "cell_type": "markdown",
   "metadata": {},
   "source": [
    "## 3 Combining data for analysis\n",
    "### 3.1 concatenating data"
   ]
  },
  {
   "cell_type": "code",
   "execution_count": null,
   "metadata": {
    "collapsed": true
   },
   "outputs": [],
   "source": [
    "# stack data vertically\n",
    "pd.concat([df1, df2])  # keep original index in both df\n",
    "\n",
    "pd.concat([df1, df2], \n",
    "          ignore_index=True  # discard origin index, reindex with a rangeIndex\n",
    "         )"
   ]
  },
  {
   "cell_type": "markdown",
   "metadata": {},
   "source": [
    "### 3.2 finding and concatenating data\n",
    "deals with the situation where you want to load too many files  \n",
    "and there's a pattern in file names."
   ]
  },
  {
   "cell_type": "code",
   "execution_count": null,
   "metadata": {
    "collapsed": true
   },
   "outputs": [],
   "source": [
    "# globbing\n",
    "    # wildcards: * ?\n",
    "        # zero or more time of any char: *\n",
    "        # exactly one time of any char: ?\n",
    "import glob\n",
    "\n",
    "csv_files = glob.glob('*.csv')\n",
    "\n",
    "csv_files  # get a list of all files with name match the pattern\n",
    "\n",
    "lst_data = []\n",
    "\n",
    "for file_name in csv_files:\n",
    "    data = pd.read_csv(filename)\n",
    "    lst_data.append(data)       # will finally get a list of dataframes\n",
    "    \n",
    "pd.concat(lst_data)     # concat the list of dataframe into a single one"
   ]
  },
  {
   "cell_type": "code",
   "execution_count": 11,
   "metadata": {
    "collapsed": false
   },
   "outputs": [
    {
     "name": "stdout",
     "output_type": "stream",
     "text": [
      "['ch1_slides.pdf', 'ch2_slides.pdf', 'ch3_slides.pdf', 'ch4_slides.pdf', 'ch5_slides.pdf'] \n",
      " ['note_pd1_pandas_foundations_note.ipynb', 'note_pd2_merging_df_with_pandas.ipynb', 'note_pd3_manipulating_df_with_pandas.ipynb']\n"
     ]
    }
   ],
   "source": [
    "# test\n",
    "import glob \n",
    "pdf_files = glob.glob('*.pdf')\n",
    "jnb_files = glob.glob('note_*')\n",
    "print(pdf_files, '\\n', jnb_files)"
   ]
  },
  {
   "cell_type": "markdown",
   "metadata": {},
   "source": [
    "### 3.3 merge data\n",
    "详细内容见merging df with pandas course"
   ]
  },
  {
   "cell_type": "code",
   "execution_count": null,
   "metadata": {
    "collapsed": true
   },
   "outputs": [],
   "source": [
    "pd.merge(left=state_populations, right=state_codes,  \n",
    "          on=None, \n",
    "          left_on='state', right_on='name')  # by default an outer merge"
   ]
  },
  {
   "cell_type": "markdown",
   "metadata": {},
   "source": [
    "## 4 cleaning data for analysis"
   ]
  },
  {
   "cell_type": "markdown",
   "metadata": {},
   "source": [
    "### 4.1 data type"
   ]
  },
  {
   "cell_type": "code",
   "execution_count": null,
   "metadata": {
    "collapsed": true
   },
   "outputs": [],
   "source": [
    "# in df['treatment b'], want object, get int\n",
    "type(df['treatment b']) # get int\n",
    "\n",
    "df['treatment b'] = df['treatment b'].astype(str)   # object dtype is encoded as strings\n",
    "                                                    # now df['treatment b'] should be of type object"
   ]
  },
  {
   "cell_type": "code",
   "execution_count": null,
   "metadata": {
    "collapsed": true
   },
   "outputs": [],
   "source": [
    "# cols with limited unique levels, category dtype can save memory & make other operations faster\n",
    "df['sex'] = df['sex'].astype('category')"
   ]
  },
  {
   "cell_type": "code",
   "execution_count": null,
   "metadata": {
    "collapsed": true
   },
   "outputs": [],
   "source": [
    "# want int, get string\n",
    "df['treatemnt a'].values  # get (['-', '12', '24'], dtype=object)\n",
    "\n",
    "# If you expect the data type of a column to be numeric (int or float), \n",
    "# but instead it is of type object, \n",
    "# this typically means that there is a non numeric value in the column, \n",
    "# which also signifies bad data.\n",
    "\n",
    "df['treatment a'] = pd.to_numeric(df['treatment a'],\n",
    "                                  errors='coerce' # converting '-' to num will cause error\n",
    "                                                  # tell pandas not to stop at error but use NaN\n",
    "                                 )"
   ]
  },
  {
   "cell_type": "markdown",
   "metadata": {},
   "source": [
    "### 4.2 Using regular expressions to clean strings  \n",
    "pattern matching similiar to globbing"
   ]
  },
  {
   "cell_type": "code",
   "execution_count": null,
   "metadata": {
    "collapsed": true
   },
   "outputs": [],
   "source": [
    "# 12345678901 \n",
    "\\d*   # decimal digits one or more times\n",
    "\n",
    "# $12345678901\n",
    "\\$\\d*   # literally a dollar sign and decimal digits one or more times\n",
    "\n",
    "# $12345678901.42 \n",
    "\\$\\d*\\.\\d*   # add a literally period sign .\n",
    "\n",
    "# $12345678901.42 \n",
    "\\$\\d*\\.\\d{2}   # specifying there's 2 decimal digits after period\n",
    "\n",
    "# $12345678901.99\n",
    "^\\$\\d*\\.\\d{2}$  # ^ indicates start of the str\n",
    "                # $ indicates end of the string"
   ]
  },
  {
   "cell_type": "code",
   "execution_count": null,
   "metadata": {
    "collapsed": true
   },
   "outputs": [],
   "source": [
    "# *: zero or more time\n",
    "# +: one or more time "
   ]
  },
  {
   "cell_type": "code",
   "execution_count": 23,
   "metadata": {
    "collapsed": false
   },
   "outputs": [
    {
     "name": "stdout",
     "output_type": "stream",
     "text": [
      "<_sre.SRE_Match object; span=(0, 6), match='$17.89'> \n",
      " True\n",
      "\n",
      "\n",
      "['$17.89', '$12345678901.99']\n"
     ]
    }
   ],
   "source": [
    "import re\n",
    "\n",
    "pattern = re.compile('\\$\\d*\\.\\d{2}')\n",
    "\n",
    "result = pattern.match('$17.89')\n",
    "\n",
    "print(result, '\\n',bool(result))\n",
    "print('\\n')\n",
    "\n",
    "result2 = re.findall('\\$\\d*\\.\\d{2}',     # get a list of all matching string\n",
    "                     '$17.89 lalalla $12345678901.99 heyhey $1234')\n",
    "print(result2)"
   ]
  },
  {
   "cell_type": "markdown",
   "metadata": {},
   "source": [
    "### 4.3 using functions to clean data"
   ]
  },
  {
   "cell_type": "code",
   "execution_count": null,
   "metadata": {
    "collapsed": true
   },
   "outputs": [],
   "source": [
    "# define function along with .apply()\n",
    "\n",
    "# example code:\n",
    "\n",
    "# Define recode_sex()\n",
    "def recode_sex(sex_value):\n",
    "\n",
    "    # Return 1 if sex_value is 'Male'\n",
    "    if sex_value == 'Male':\n",
    "        return 1\n",
    "    \n",
    "    # Return 0 if sex_value is 'Female'    \n",
    "    elif sex_value == 'Female':\n",
    "        return 0\n",
    "    \n",
    "    # Return np.nan    \n",
    "    else:\n",
    "    \n",
    "        return np.nan\n",
    "\n",
    "# Apply the function to the sex column\n",
    "tips['sex_recode'] = tips.sex.apply(recode_sex)\n"
   ]
  },
  {
   "cell_type": "markdown",
   "metadata": {},
   "source": [
    "### 4.4 duplicate and missing data"
   ]
  },
  {
   "cell_type": "code",
   "execution_count": null,
   "metadata": {
    "collapsed": true
   },
   "outputs": [],
   "source": [
    "# duplicate data\n",
    "df.drop_duplicate()  # drop exact same rows"
   ]
  },
  {
   "cell_type": "code",
   "execution_count": null,
   "metadata": {
    "collapsed": true
   },
   "outputs": [],
   "source": [
    "# missing data NaN\n",
    "    # leave as-is\n",
    "    # drop them\n",
    "    # fill missing vals\n",
    "    \n",
    "    # drop them\n",
    "df.info()  # only count non-null vals \n",
    "df.dropna()  # drop any row contain NaN\n",
    "\n",
    "    # fill missing vals\n",
    "tips_nan['sex'].fillna('missing')            # fill with a 'missing' indicator\n",
    "tips_nan[['total_bill', 'size']].fillna(0)   # fill with 0\n",
    "\n",
    "tips_nan['tip'].fillna(tips_nan['tip'].mean())  # fill with mean of the series"
   ]
  },
  {
   "cell_type": "markdown",
   "metadata": {},
   "source": [
    "### 4.5 testing with asserts  \n",
    "* programmatically checking if sth wrong\n",
    "* if we drop or fill NaNs, we expect 0 missing vals  \n",
    "write assert to verify this  \n",
    "  \n",
    "(不过没太懂assert有毛用，不加assert不一样有True | False 的return value吗）"
   ]
  },
  {
   "cell_type": "code",
   "execution_count": 24,
   "metadata": {
    "collapsed": true
   },
   "outputs": [],
   "source": [
    "# if the assertions evals True, nothing will happen\n",
    "assert 1 == 1"
   ]
  },
  {
   "cell_type": "code",
   "execution_count": 25,
   "metadata": {
    "collapsed": false
   },
   "outputs": [
    {
     "ename": "AssertionError",
     "evalue": "",
     "output_type": "error",
     "traceback": [
      "\u001b[0;31m---------------------------------------------------------------------------\u001b[0m",
      "\u001b[0;31mAssertionError\u001b[0m                            Traceback (most recent call last)",
      "\u001b[0;32m<ipython-input-25-7f0558622fe7>\u001b[0m in \u001b[0;36m<module>\u001b[0;34m()\u001b[0m\n\u001b[1;32m      1\u001b[0m \u001b[0;31m# if the assertion evals False, AssertionError\u001b[0m\u001b[0;34m\u001b[0m\u001b[0;34m\u001b[0m\u001b[0m\n\u001b[0;32m----> 2\u001b[0;31m \u001b[0;32massert\u001b[0m \u001b[0;36m1\u001b[0m \u001b[0;34m==\u001b[0m \u001b[0;36m2\u001b[0m\u001b[0;34m\u001b[0m\u001b[0m\n\u001b[0m",
      "\u001b[0;31mAssertionError\u001b[0m: "
     ]
    }
   ],
   "source": [
    "# if the assertion evals False, AssertionError\n",
    "assert 1 == 2"
   ]
  },
  {
   "cell_type": "code",
   "execution_count": null,
   "metadata": {
    "collapsed": true
   },
   "outputs": [],
   "source": []
  },
  {
   "cell_type": "code",
   "execution_count": null,
   "metadata": {
    "collapsed": true
   },
   "outputs": [],
   "source": []
  },
  {
   "cell_type": "code",
   "execution_count": null,
   "metadata": {
    "collapsed": true
   },
   "outputs": [],
   "source": []
  }
 ],
 "metadata": {
  "anaconda-cloud": {},
  "kernelspec": {
   "display_name": "Python [default]",
   "language": "python",
   "name": "python3"
  },
  "language_info": {
   "codemirror_mode": {
    "name": "ipython",
    "version": 3
   },
   "file_extension": ".py",
   "mimetype": "text/x-python",
   "name": "python",
   "nbconvert_exporter": "python",
   "pygments_lexer": "ipython3",
   "version": "3.5.2"
  }
 },
 "nbformat": 4,
 "nbformat_minor": 1
}
