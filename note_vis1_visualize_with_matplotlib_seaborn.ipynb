{
 "cells": [
  {
   "cell_type": "markdown",
   "metadata": {
    "toc": "true"
   },
   "source": [
    "# Table of Contents\n",
    " <p><div class=\"lev2 toc-item\"><a href=\"#1-Customizing-plots\" data-toc-modified-id=\"1-Customizing-plots-01\"><span class=\"toc-item-num\">0.1&nbsp;&nbsp;</span>1 Customizing plots</a></div><div class=\"lev3 toc-item\"><a href=\"#1.1-Plotting-multiple-graphs\" data-toc-modified-id=\"1.1-Plotting-multiple-graphs-011\"><span class=\"toc-item-num\">0.1.1&nbsp;&nbsp;</span>1.1 Plotting multiple graphs</a></div><div class=\"lev3 toc-item\"><a href=\"#1.2-Customizing-axes\" data-toc-modified-id=\"1.2-Customizing-axes-012\"><span class=\"toc-item-num\">0.1.2&nbsp;&nbsp;</span>1.2 Customizing axes</a></div><div class=\"lev3 toc-item\"><a href=\"#1.3-Legends,-annotations,-and-styles\" data-toc-modified-id=\"1.3-Legends,-annotations,-and-styles-013\"><span class=\"toc-item-num\">0.1.3&nbsp;&nbsp;</span>1.3 Legends, annotations, and styles</a></div><div class=\"lev2 toc-item\"><a href=\"#2-Plotting-2D-arrays\" data-toc-modified-id=\"2-Plotting-2D-arrays-02\"><span class=\"toc-item-num\">0.2&nbsp;&nbsp;</span>2 Plotting 2D arrays</a></div><div class=\"lev3 toc-item\"><a href=\"#2.1-Working-with-2D-arrays\" data-toc-modified-id=\"2.1-Working-with-2D-arrays-021\"><span class=\"toc-item-num\">0.2.1&nbsp;&nbsp;</span>2.1 Working with 2D arrays</a></div><div class=\"lev3 toc-item\"><a href=\"#2.2-Visualizing-bivariate-functions\" data-toc-modified-id=\"2.2-Visualizing-bivariate-functions-022\"><span class=\"toc-item-num\">0.2.2&nbsp;&nbsp;</span>2.2 Visualizing bivariate functions</a></div><div class=\"lev3 toc-item\"><a href=\"#2.3-Visualizing-bivariate-distributions\" data-toc-modified-id=\"2.3-Visualizing-bivariate-distributions-023\"><span class=\"toc-item-num\">0.2.3&nbsp;&nbsp;</span>2.3 Visualizing bivariate distributions</a></div><div class=\"lev3 toc-item\"><a href=\"#2.4-Working-with-images-（略）\" data-toc-modified-id=\"2.4-Working-with-images-（略）-024\"><span class=\"toc-item-num\">0.2.4&nbsp;&nbsp;</span>2.4 Working with images （略）</a></div><div class=\"lev2 toc-item\"><a href=\"#3-Statistical-plots-with-Seaborn\" data-toc-modified-id=\"3-Statistical-plots-with-Seaborn-03\"><span class=\"toc-item-num\">0.3&nbsp;&nbsp;</span>3 Statistical plots with Seaborn</a></div><div class=\"lev3 toc-item\"><a href=\"#3.1-Visualizing-regressions\" data-toc-modified-id=\"3.1-Visualizing-regressions-031\"><span class=\"toc-item-num\">0.3.1&nbsp;&nbsp;</span>3.1 Visualizing regressions</a></div><div class=\"lev3 toc-item\"><a href=\"#3.2-Visualizing-univariate-distributions\" data-toc-modified-id=\"3.2-Visualizing-univariate-distributions-032\"><span class=\"toc-item-num\">0.3.2&nbsp;&nbsp;</span>3.2 Visualizing univariate distributions</a></div><div class=\"lev3 toc-item\"><a href=\"#3.3-Visualizing-multivariate-distributions\" data-toc-modified-id=\"3.3-Visualizing-multivariate-distributions-033\"><span class=\"toc-item-num\">0.3.3&nbsp;&nbsp;</span>3.3 Visualizing multivariate distributions</a></div><div class=\"lev2 toc-item\"><a href=\"#4-Analyzing-time-series-and-images（略）\" data-toc-modified-id=\"4-Analyzing-time-series-and-images（略）-04\"><span class=\"toc-item-num\">0.4&nbsp;&nbsp;</span>4 Analyzing time series and images（略）</a></div>"
   ]
  },
  {
   "cell_type": "markdown",
   "metadata": {},
   "source": [
    "## 1 Customizing plots"
   ]
  },
  {
   "cell_type": "markdown",
   "metadata": {},
   "source": [
    "### 1.1 Plotting multiple graphs"
   ]
  },
  {
   "cell_type": "code",
   "execution_count": null,
   "metadata": {
    "collapsed": true
   },
   "outputs": [],
   "source": [
    "# Multiple lines in a sinlge plot\n",
    "\n",
    "import matplotlib.pyplot as plt\n",
    "\n",
    "plt.plot(year, physical_sciences, color='blue')\n",
    "\n",
    "plt.plot(year, computer_science, color='red')\n",
    "\n",
    "plt.show()\n"
   ]
  },
  {
   "cell_type": "code",
   "execution_count": null,
   "metadata": {
    "collapsed": true
   },
   "outputs": [],
   "source": [
    "# Using axes() 手动调整subplot位置\n",
    "\n",
    "plt.axes([0.05, 0.05, 0.425, 0.9])   # [xlow, ylow, width, height]\n",
    "\n",
    "plt.plot(year, physical_sciences, color='blue')\n",
    "\n",
    "plt.axes([0.525, 0.05, 0.425, 0.9])\n",
    "\n",
    "plt.plot(year, computer_science, color='red')\n",
    "\n",
    "plt.show()\n"
   ]
  },
  {
   "cell_type": "code",
   "execution_count": null,
   "metadata": {
    "collapsed": true
   },
   "outputs": [],
   "source": [
    "# Using subplot() 自动生成subplot\n",
    "\n",
    "# Create a figure with 1x2 subplot and make the left subplot active\n",
    "plt.subplot(1, 2, 1)\n",
    "\n",
    "plt.plot(year, physical_sciences, color='blue')\n",
    "plt.title('Physical Sciences')\n",
    "\n",
    "# Make the right subplot active in the current 1x2 subplot grid\n",
    "plt.subplot(1, 2, 2)\n",
    "\n",
    "plt.plot(year, computer_science, color='red')\n",
    "plt.title('Computer Science')\n",
    "\n",
    "# Use plt.tight_layout() to improve the spacing between subplots\n",
    "plt.tight_layout()\n",
    "plt.show()\n"
   ]
  },
  {
   "cell_type": "markdown",
   "metadata": {},
   "source": [
    "### 1.2 Customizing axes"
   ]
  },
  {
   "cell_type": "code",
   "execution_count": null,
   "metadata": {
    "collapsed": true
   },
   "outputs": [],
   "source": [
    "# Using xlim(), ylim()\n",
    "\n",
    "plt.plot(year,computer_science, color='red') \n",
    "plt.plot(year, physical_sciences, color='blue')\n",
    "\n",
    "plt.xlabel('Year')\n",
    "plt.ylabel('Degrees awarded to women (%)')\n",
    "\n",
    "# Set the x-axis range\n",
    "plt.xlim([1990, 2010])\n",
    "\n",
    "# Set the y-axis range\n",
    "plt.ylim([0, 50])\n",
    "\n",
    "plt.title('Degrees awarded to women (1990-2010)\\nComputer Science (red)\\nPhysical Sciences (blue)')\n",
    "plt.show()\n",
    "\n",
    "plt.savefig('xlim_and_ylim.png')"
   ]
  },
  {
   "cell_type": "code",
   "execution_count": null,
   "metadata": {
    "collapsed": true
   },
   "outputs": [],
   "source": [
    "# Using axis() to set x and y limit in one shot\n",
    "\n",
    "plt.plot(year,computer_science, color='blue')\n",
    "\n",
    "plt.plot(year, physical_sciences,color='red')\n",
    "\n",
    "# Set the x-axis and y-axis limits\n",
    "plt.axis((1990, 2010, 0, 50))\n",
    "\n",
    "plt.show()\n",
    "\n",
    "plt.savefig('axis_limits.png')"
   ]
  },
  {
   "cell_type": "code",
   "execution_count": null,
   "metadata": {
    "collapsed": true
   },
   "outputs": [],
   "source": [
    "# Other options of axis\n",
    "\n",
    "# plt.axis('off')      turns off axis lines, labels\n",
    "# plt.axis('equal')    equal scaling on x, y axes\n",
    "# plt.axis('square')   forces square plot\n",
    "# plt.axis('tight')    sets xlim(), ylim() to show all data"
   ]
  },
  {
   "cell_type": "markdown",
   "metadata": {},
   "source": [
    "### 1.3 Legends, annotations, and styles"
   ]
  },
  {
   "cell_type": "code",
   "execution_count": null,
   "metadata": {
    "collapsed": true
   },
   "outputs": [],
   "source": [
    "# Using legend()\n",
    "\n",
    "plt.plot(year, computer_science, color='red', label='Computer Science') \n",
    "\n",
    "plt.plot(year, physical_sciences, color='blue', label='Physical Sciences')\n",
    "\n",
    "# Add a legend at the lower center\n",
    "plt.legend(loc='lower center')\n",
    "            # upper left, upper center, upper right\n",
    "            # center left, center, center right\n",
    "            # lower left, lower center, lower right\n",
    "            # best, right\n",
    "\n",
    "plt.xlabel('Year')\n",
    "plt.ylabel('Enrollment (%)')\n",
    "plt.title('Undergraduate enrollment of women')\n",
    "plt.show()\n"
   ]
  },
  {
   "cell_type": "code",
   "execution_count": null,
   "metadata": {
    "collapsed": true
   },
   "outputs": [],
   "source": [
    "# Using annotate()\n",
    "\n",
    "# To enable an arrow, set arrowprops=dict(facecolor='black'). \n",
    "# The arrow will point to the location given by xy \n",
    "# and the text will appear at the location given by xytext.\n",
    "\n",
    "# Compute the maximum enrollment of women in Computer Science: cs_max\n",
    "cs_max = computer_science.max()\n",
    "\n",
    "# Calculate the year in which there was maximum enrollment of women in Computer Science: yr_max\n",
    "yr_max = year[computer_science.argmax()]\n",
    "\n",
    "# Add a black arrow annotation\n",
    "plt.annotate('Maximum', xy = ([yr_max, cs_max]), xytext=([yr_max + 5, cs_max + 5]), \n",
    "                              arrowprops=dict(facecolor='black'))\n",
    "\n",
    "plt.xlabel('Year')\n",
    "plt.ylabel('Enrollment (%)')\n",
    "plt.title('Undergraduate enrollment of women')\n",
    "plt.show()\n"
   ]
  },
  {
   "cell_type": "code",
   "execution_count": null,
   "metadata": {
    "collapsed": true
   },
   "outputs": [],
   "source": [
    "# Modifying styles\n",
    "\n",
    "import matplotlib.pyplot as plt\n",
    "\n",
    "plt.style.available   # To list all the available style sheets \n",
    "\n",
    "plt.style.use('ggplot')   # Set the style to 'ggplot'"
   ]
  },
  {
   "cell_type": "markdown",
   "metadata": {},
   "source": [
    "## 2 Plotting 2D arrays\n",
    "完全不知道这一章有毛用"
   ]
  },
  {
   "cell_type": "markdown",
   "metadata": {},
   "source": [
    "### 2.1 Working with 2D arrays"
   ]
  },
  {
   "cell_type": "code",
   "execution_count": null,
   "metadata": {
    "collapsed": true
   },
   "outputs": [],
   "source": [
    "# Generating meshes\n",
    "\n",
    "import numpy as np\n",
    "import matplotlib.pyplot as plt\n",
    "\n",
    "# Generate two 1-D arrays: u, v\n",
    "u = np.linspace(-2, 2, 41)\n",
    "v = np.linspace(-1, 1, 21)\n",
    "\n",
    "# Generate 2-D arrays from u and v: X, Y\n",
    "X,Y = np.meshgrid(u, v)\n",
    "\n",
    "# Compute Z based on X and Y\n",
    "Z = np.sin(3*np.sqrt(X**2 + Y**2)) \n",
    "\n",
    "plt.pcolor(Z)\n",
    "plt.show()\n",
    "\n",
    "plt.savefig('sine_mesh.png')\n"
   ]
  },
  {
   "cell_type": "markdown",
   "metadata": {},
   "source": [
    "### 2.2 Visualizing bivariate functions\n"
   ]
  },
  {
   "cell_type": "code",
   "execution_count": null,
   "metadata": {
    "collapsed": true
   },
   "outputs": [],
   "source": [
    "# Contour & filled contour plots  类似地理等高线\n",
    "\n",
    "    # plt.contour() displays the contours as lines\n",
    "    # plt.contourf() displayed filled areas between contours. \n",
    "\n",
    "plt.subplot(2,2,1)\n",
    "plt.contour(X,Y,Z)   # X,Y as axis, Z as value to be displayed\n",
    "\n",
    "plt.subplot(2,2,2)\n",
    "plt.contour(X,Y,Z, 20)\n",
    "\n",
    "plt.subplot(2,2,3)\n",
    "plt.contourf(X,Y,Z)\n",
    "\n",
    "plt.subplot(2,2,4)\n",
    "plt.contourf(X,Y,Z, 20)\n",
    "\n",
    "plt.tight_layout()\n",
    "\n",
    "plt.show()"
   ]
  },
  {
   "cell_type": "code",
   "execution_count": null,
   "metadata": {
    "collapsed": true
   },
   "outputs": [],
   "source": [
    "# Modifying colormaps\n",
    "\n",
    "# Create a filled contour plot with a color map of 'viridis'\n",
    "plt.subplot(2,1,1)\n",
    "plt.contourf(X,Y,Z,20, cmap='viridis')\n",
    "plt.colorbar()\n",
    "plt.title('Viridis')\n",
    "\n",
    "# Create a filled contour plot with a color map of 'gray'\n",
    "plt.subplot(2,1,2)\n",
    "plt.contourf(X,Y,Z,20, cmap='gray')\n",
    "plt.colorbar()\n",
    "plt.title('Gray')\n",
    "\n",
    "# Improve the spacing between subplots and display them\n",
    "plt.tight_layout()\n",
    "plt.show()\n"
   ]
  },
  {
   "cell_type": "markdown",
   "metadata": {},
   "source": [
    "### 2.3 Visualizing bivariate distributions"
   ]
  },
  {
   "cell_type": "code",
   "execution_count": null,
   "metadata": {
    "collapsed": true
   },
   "outputs": [],
   "source": [
    "# Using hist2d()\n",
    "\n",
    "plt.hist2d(hp, mpg,\n",
    "           bins=(20, 20),   # bins=(nx, ny) \n",
    "                            # nx: number of bins to use in the horizontal direction \n",
    "                            # ny: number of bins to use in the vertical direction.\n",
    "           range=((40, 235), (8, 48))    # range=((xmin, xmax), (ymin, ymax))\n",
    "          )\n",
    "\n",
    "# Add a color bar to the histogram\n",
    "plt.colorbar()\n",
    "\n",
    "plt.xlabel('Horse power [hp]')\n",
    "plt.ylabel('Miles per gallon [mpg]')\n",
    "plt.title('hist2d() plot')\n",
    "plt.show()\n"
   ]
  },
  {
   "cell_type": "code",
   "execution_count": null,
   "metadata": {
    "collapsed": true
   },
   "outputs": [],
   "source": [
    "# Using hexbin()\n",
    "\n",
    "# Generate a 2d histogram with hexagonal bins\n",
    "plt.hexbin(hp, mpg, \n",
    "           gridsize=(15, 12),  # gridsize fixes the number of hexagon in the x- and y-directions\n",
    "           extent=(40, 235, 8, 48)   # extent=(xmin, xmax, ymin, ymax)\n",
    "          )\n",
    "\n",
    "\n",
    "# Add a color bar to the histogram\n",
    "plt.colorbar()\n",
    "\n",
    "plt.xlabel('Horse power [hp]')\n",
    "plt.ylabel('Miles per gallon [mpg]')\n",
    "plt.title('hexbin() plot')\n",
    "plt.show()\n"
   ]
  },
  {
   "cell_type": "markdown",
   "metadata": {},
   "source": [
    "### 2.4 Working with images （略）"
   ]
  },
  {
   "cell_type": "markdown",
   "metadata": {},
   "source": [
    "## 3 Statistical plots with Seaborn"
   ]
  },
  {
   "cell_type": "markdown",
   "metadata": {},
   "source": [
    "###  3.1 Visualizing regressions"
   ]
  },
  {
   "cell_type": "code",
   "execution_count": null,
   "metadata": {
    "collapsed": true
   },
   "outputs": [],
   "source": [
    "# Simple linear regressions\n",
    "\n",
    "import matplotlib.pyplot as plt\n",
    "import seaborn as sns\n",
    "\n",
    "# Plot a linear regression between 'weight' and 'hp'\n",
    "sns.lmplot(x='weight', y='hp', data=auto)\n",
    "\n",
    "plt.show()\n"
   ]
  },
  {
   "cell_type": "code",
   "execution_count": null,
   "metadata": {
    "collapsed": true
   },
   "outputs": [],
   "source": [
    "# Plotting residuals of a regression\n",
    "\n",
    "import matplotlib.pyplot as plt\n",
    "import seaborn as sns\n",
    "\n",
    "# Generate a green residual plot of the regression between 'hp' and 'mpg'\n",
    "sns.residplot(x='hp', y='mpg', data=auto, color='green')\n",
    "\n",
    "plt.show()\n"
   ]
  },
  {
   "cell_type": "code",
   "execution_count": null,
   "metadata": {
    "collapsed": true
   },
   "outputs": [],
   "source": [
    "# Higher-order regressions using sns.regplot()\n",
    "\n",
    "# For both sns.lmplot() and sns.regplot(), \n",
    "# the keyword order is used to control the order of polynomial regression.\n",
    "\n",
    "# Generate a scatter plot of 'weight' and 'mpg' using red circles\n",
    "plt.scatter(auto['weight'], auto['mpg'], label='data', color='red', marker='o')\n",
    "\n",
    "# Plot in blue a linear regression of order 1 between 'weight' and 'mpg'\n",
    "sns.regplot(x='weight', y='mpg', data=auto, scatter=None, color='blue', label='order 1')\n",
    "\n",
    "# Plot in green a linear regression of order 2 between 'weight' and 'mpg'\n",
    "sns.regplot(x='weight', y='mpg', data=auto, scatter=None, color='green', label='order 2', order=2)\n",
    "\n",
    "plt.legend(loc='upper right')\n",
    "plt.show()\n"
   ]
  },
  {
   "cell_type": "code",
   "execution_count": null,
   "metadata": {
    "collapsed": true
   },
   "outputs": [],
   "source": [
    "# Grouping linear regressions by hue\n",
    "\n",
    "sns.lmplot(x='weight', y='hp', data=auto, hue='origin', palette='Set1')\n",
    "\n",
    "plt.show()\n"
   ]
  },
  {
   "cell_type": "code",
   "execution_count": null,
   "metadata": {
    "collapsed": true
   },
   "outputs": [],
   "source": [
    "# Grouping linear regressions by row or column\n",
    "\n",
    "sns.lmplot(x='weight', y='hp', data=auto, row='origin')\n",
    "\n",
    "plt.show()\n",
    "\n"
   ]
  },
  {
   "cell_type": "markdown",
   "metadata": {},
   "source": [
    "### 3.2 Visualizing univariate distributions"
   ]
  },
  {
   "cell_type": "code",
   "execution_count": null,
   "metadata": {
    "collapsed": true
   },
   "outputs": [],
   "source": [
    "# Constructing strip plots\n",
    "\n",
    "# Make a strip plot of 'hp' grouped by 'cyl'\n",
    "plt.subplot(2,1,1)\n",
    "sns.stripplot(x='cyl', y='hp', data=auto)\n",
    "\n",
    "# Make the strip plot again using jitter and a smaller point size\n",
    "plt.subplot(2,1,2)\n",
    "sns.stripplot(x='cyl', y='hp', data=auto, jitter=True, size=3)\n",
    "\n",
    "plt.show()\n"
   ]
  },
  {
   "cell_type": "code",
   "execution_count": null,
   "metadata": {
    "collapsed": true
   },
   "outputs": [],
   "source": [
    "# Constructing swarm plots\n",
    "\n",
    "# Generate a swarm plot of 'hp' grouped horizontally by 'cyl'  \n",
    "plt.subplot(2,1,1)\n",
    "sns.swarmplot(x='cyl', y='hp', data=auto)\n",
    "\n",
    "# Generate a swarm plot of 'hp' grouped vertically by 'cyl' with a hue of 'origin'\n",
    "plt.subplot(2,1,2)\n",
    "sns.swarmplot(x='hp', y='cyl', data=auto, hue='origin', orient='h')\n",
    "\n",
    "plt.show()\n"
   ]
  },
  {
   "cell_type": "code",
   "execution_count": null,
   "metadata": {
    "collapsed": true
   },
   "outputs": [],
   "source": [
    "# Constructing violin plots\n",
    "\n",
    "# Generate a violin plot of 'hp' grouped horizontally by 'cyl'\n",
    "plt.subplot(2,1,1)\n",
    "sns.violinplot(x='cyl', y='hp', data=auto)\n",
    "\n",
    "# Generate the same violin plot again with a color of 'lightgray' and without inner annotations\n",
    "plt.subplot(2,1,2)\n",
    "sns.violinplot(x='cyl', y='hp', data=auto, inner=None, color='lightgray')\n",
    "\n",
    "# Overlay a strip plot on the violin plot\n",
    "sns.stripplot(x='cyl', y='hp', data=auto, jitter=True, size=1.5)\n",
    "\n",
    "# Display the plot\n",
    "plt.show()"
   ]
  },
  {
   "cell_type": "markdown",
   "metadata": {},
   "source": [
    "### 3.3 Visualizing multivariate distributions"
   ]
  },
  {
   "cell_type": "code",
   "execution_count": null,
   "metadata": {
    "collapsed": true
   },
   "outputs": [],
   "source": [
    "# Plotting joint distributions (1)\n",
    "\n",
    "sns.jointplot(x='hp', y='mpg', data=auto)\n",
    "\n",
    "plt.show()\n"
   ]
  },
  {
   "cell_type": "code",
   "execution_count": null,
   "metadata": {
    "collapsed": true
   },
   "outputs": [],
   "source": [
    "# Plotting joint distributions (2)\n",
    "\n",
    "# Generate a joint plot of 'hp' and 'mpg' using a hexbin plot\n",
    "sns.jointplot(x='hp', y='mpg', data=auto, kind='hex')\n",
    "\n",
    "plt.show()\n",
    "\n",
    "'''\n",
    "options:\n",
    "kind='scatter' uses a scatter plot of the data points\n",
    "kind='reg' uses a regression plot (default order 1)\n",
    "kind='resid' uses a residual plot\n",
    "kind='kde' uses a kernel density estimate of the joint distribution\n",
    "kind='hex' uses a hexbin plot of the joint distribution\n",
    "'''\n"
   ]
  },
  {
   "cell_type": "code",
   "execution_count": null,
   "metadata": {
    "collapsed": true
   },
   "outputs": [],
   "source": [
    "# Plotting distributions pairwise (1)\n",
    "\n",
    "print(auto.head())\n",
    "\n",
    "sns.pairplot(auto)\n",
    "\n",
    "plt.show()\n",
    "\n"
   ]
  },
  {
   "cell_type": "code",
   "execution_count": null,
   "metadata": {
    "collapsed": true
   },
   "outputs": [],
   "source": [
    "# Plotting distributions pairwise (2)\n",
    "\n",
    "print(auto.head())\n",
    "\n",
    "sns.pairplot(auto, kind='reg', hue='origin')\n",
    "\n",
    "plt.show()\n"
   ]
  },
  {
   "cell_type": "code",
   "execution_count": null,
   "metadata": {
    "collapsed": true
   },
   "outputs": [],
   "source": [
    "# Visualizing correlations with a heatmap\n",
    "\n",
    "print(cov_matrix)\n",
    "\n",
    "sns.heatmap(cov_matrix)\n",
    "\n",
    "plt.show()\n",
    "\n"
   ]
  },
  {
   "cell_type": "markdown",
   "metadata": {},
   "source": [
    "## 4 Analyzing time series and images（略）"
   ]
  },
  {
   "cell_type": "code",
   "execution_count": null,
   "metadata": {
    "collapsed": true
   },
   "outputs": [],
   "source": []
  },
  {
   "cell_type": "code",
   "execution_count": null,
   "metadata": {
    "collapsed": true
   },
   "outputs": [],
   "source": []
  },
  {
   "cell_type": "code",
   "execution_count": null,
   "metadata": {
    "collapsed": true
   },
   "outputs": [],
   "source": []
  },
  {
   "cell_type": "code",
   "execution_count": null,
   "metadata": {
    "collapsed": true
   },
   "outputs": [],
   "source": []
  },
  {
   "cell_type": "code",
   "execution_count": null,
   "metadata": {
    "collapsed": true
   },
   "outputs": [],
   "source": []
  },
  {
   "cell_type": "code",
   "execution_count": null,
   "metadata": {
    "collapsed": true
   },
   "outputs": [],
   "source": []
  },
  {
   "cell_type": "code",
   "execution_count": null,
   "metadata": {
    "collapsed": true
   },
   "outputs": [],
   "source": []
  },
  {
   "cell_type": "code",
   "execution_count": null,
   "metadata": {
    "collapsed": true
   },
   "outputs": [],
   "source": []
  },
  {
   "cell_type": "code",
   "execution_count": null,
   "metadata": {
    "collapsed": true
   },
   "outputs": [],
   "source": []
  }
 ],
 "metadata": {
  "anaconda-cloud": {},
  "kernelspec": {
   "display_name": "Python [default]",
   "language": "python",
   "name": "python3"
  },
  "language_info": {
   "codemirror_mode": {
    "name": "ipython",
    "version": 3
   },
   "file_extension": ".py",
   "mimetype": "text/x-python",
   "name": "python",
   "nbconvert_exporter": "python",
   "pygments_lexer": "ipython3",
   "version": "3.5.4"
  },
  "toc": {
   "colors": {
    "hover_highlight": "#DAA520",
    "navigate_num": "#000000",
    "navigate_text": "#333333",
    "running_highlight": "#FF0000",
    "selected_highlight": "#FFD700",
    "sidebar_border": "#EEEEEE",
    "wrapper_background": "#FFFFFF"
   },
   "moveMenuLeft": true,
   "nav_menu": {
    "height": "297px",
    "width": "252px"
   },
   "navigate_menu": true,
   "number_sections": false,
   "sideBar": false,
   "threshold": 4,
   "toc_cell": true,
   "toc_position": {
    "height": "309px",
    "left": "13px",
    "right": "20px",
    "top": "110px",
    "width": "203px"
   },
   "toc_section_display": "block",
   "toc_window_display": true,
   "widenNotebook": false
  }
 },
 "nbformat": 4,
 "nbformat_minor": 1
}
