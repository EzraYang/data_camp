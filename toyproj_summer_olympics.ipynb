{
 "cells": [
  {
   "cell_type": "markdown",
   "metadata": {},
   "source": [
    "## Preparing data"
   ]
  },
  {
   "cell_type": "code",
   "execution_count": 2,
   "metadata": {
    "collapsed": false
   },
   "outputs": [
    {
     "name": "stdout",
     "output_type": "stream",
     "text": [
      "Untitled.ipynb  medals.tsv\r\n"
     ]
    }
   ],
   "source": [
    "ls"
   ]
  },
  {
   "cell_type": "code",
   "execution_count": 174,
   "metadata": {
    "collapsed": true
   },
   "outputs": [],
   "source": [
    "import pandas as pd\n",
    "import matplotlib.pyplot as plt\n",
    "import numpy as np"
   ]
  },
  {
   "cell_type": "code",
   "execution_count": 4,
   "metadata": {
    "collapsed": false
   },
   "outputs": [],
   "source": [
    "medals = pd.read_csv('medals.tsv', sep='\\t')"
   ]
  },
  {
   "cell_type": "code",
   "execution_count": 5,
   "metadata": {
    "collapsed": false
   },
   "outputs": [
    {
     "data": {
      "text/html": [
       "<div>\n",
       "<table border=\"1\" class=\"dataframe\">\n",
       "  <thead>\n",
       "    <tr style=\"text-align: right;\">\n",
       "      <th></th>\n",
       "      <th>List of medallists at the Games of the Olympiad per edition, sport, discipline, gender and event</th>\n",
       "      <th>Unnamed: 1</th>\n",
       "      <th>Unnamed: 2</th>\n",
       "      <th>Unnamed: 3</th>\n",
       "      <th>Unnamed: 4</th>\n",
       "      <th>Unnamed: 5</th>\n",
       "      <th>Unnamed: 6</th>\n",
       "      <th>Unnamed: 7</th>\n",
       "      <th>Unnamed: 8</th>\n",
       "      <th>Unnamed: 9</th>\n",
       "    </tr>\n",
       "  </thead>\n",
       "  <tbody>\n",
       "    <tr>\n",
       "      <th>0</th>\n",
       "      <td>NaN</td>\n",
       "      <td>NaN</td>\n",
       "      <td>NaN</td>\n",
       "      <td>NaN</td>\n",
       "      <td>NaN</td>\n",
       "      <td>NaN</td>\n",
       "      <td>NaN</td>\n",
       "      <td>NaN</td>\n",
       "      <td>NaN</td>\n",
       "      <td>NaN</td>\n",
       "    </tr>\n",
       "    <tr>\n",
       "      <th>1</th>\n",
       "      <td>DISCLAIMER: The IOC Research and Reference Ser...</td>\n",
       "      <td>NaN</td>\n",
       "      <td>NaN</td>\n",
       "      <td>NaN</td>\n",
       "      <td>NaN</td>\n",
       "      <td>NaN</td>\n",
       "      <td>NaN</td>\n",
       "      <td>NaN</td>\n",
       "      <td>NaN</td>\n",
       "      <td>NaN</td>\n",
       "    </tr>\n",
       "    <tr>\n",
       "      <th>2</th>\n",
       "      <td>NaN</td>\n",
       "      <td>NaN</td>\n",
       "      <td>NaN</td>\n",
       "      <td>NaN</td>\n",
       "      <td>NaN</td>\n",
       "      <td>NaN</td>\n",
       "      <td>NaN</td>\n",
       "      <td>NaN</td>\n",
       "      <td>NaN</td>\n",
       "      <td>NaN</td>\n",
       "    </tr>\n",
       "    <tr>\n",
       "      <th>3</th>\n",
       "      <td>City</td>\n",
       "      <td>Edition</td>\n",
       "      <td>Sport</td>\n",
       "      <td>Discipline</td>\n",
       "      <td>Athlete</td>\n",
       "      <td>NOC</td>\n",
       "      <td>Gender</td>\n",
       "      <td>Event</td>\n",
       "      <td>Event_gender</td>\n",
       "      <td>Medal</td>\n",
       "    </tr>\n",
       "    <tr>\n",
       "      <th>4</th>\n",
       "      <td>Athens</td>\n",
       "      <td>1896</td>\n",
       "      <td>Aquatics</td>\n",
       "      <td>Swimming</td>\n",
       "      <td>HAJOS, Alfred</td>\n",
       "      <td>HUN</td>\n",
       "      <td>Men</td>\n",
       "      <td>100m freestyle</td>\n",
       "      <td>M</td>\n",
       "      <td>Gold</td>\n",
       "    </tr>\n",
       "  </tbody>\n",
       "</table>\n",
       "</div>"
      ],
      "text/plain": [
       "  List of medallists at the Games of the Olympiad per edition, sport, discipline, gender and event  \\\n",
       "0                                                NaN                                                 \n",
       "1  DISCLAIMER: The IOC Research and Reference Ser...                                                 \n",
       "2                                                NaN                                                 \n",
       "3                                               City                                                 \n",
       "4                                             Athens                                                 \n",
       "\n",
       "  Unnamed: 1 Unnamed: 2  Unnamed: 3     Unnamed: 4 Unnamed: 5 Unnamed: 6  \\\n",
       "0        NaN        NaN         NaN            NaN        NaN        NaN   \n",
       "1        NaN        NaN         NaN            NaN        NaN        NaN   \n",
       "2        NaN        NaN         NaN            NaN        NaN        NaN   \n",
       "3    Edition      Sport  Discipline        Athlete        NOC     Gender   \n",
       "4       1896   Aquatics    Swimming  HAJOS, Alfred        HUN        Men   \n",
       "\n",
       "       Unnamed: 7    Unnamed: 8 Unnamed: 9  \n",
       "0             NaN           NaN        NaN  \n",
       "1             NaN           NaN        NaN  \n",
       "2             NaN           NaN        NaN  \n",
       "3           Event  Event_gender      Medal  \n",
       "4  100m freestyle             M       Gold  "
      ]
     },
     "execution_count": 5,
     "metadata": {},
     "output_type": "execute_result"
    }
   ],
   "source": [
    "medals.head()"
   ]
  },
  {
   "cell_type": "markdown",
   "metadata": {},
   "source": [
    "The first four rows are not relevant, we'll re-read the tsv file and skip them."
   ]
  },
  {
   "cell_type": "code",
   "execution_count": 237,
   "metadata": {
    "collapsed": false
   },
   "outputs": [
    {
     "data": {
      "text/html": [
       "<div>\n",
       "<table border=\"1\" class=\"dataframe\">\n",
       "  <thead>\n",
       "    <tr style=\"text-align: right;\">\n",
       "      <th></th>\n",
       "      <th>City</th>\n",
       "      <th>Edition</th>\n",
       "      <th>Sport</th>\n",
       "      <th>Discipline</th>\n",
       "      <th>Athlete</th>\n",
       "      <th>NOC</th>\n",
       "      <th>Gender</th>\n",
       "      <th>Event</th>\n",
       "      <th>Event_gender</th>\n",
       "      <th>Medal</th>\n",
       "    </tr>\n",
       "  </thead>\n",
       "  <tbody>\n",
       "    <tr>\n",
       "      <th>0</th>\n",
       "      <td>Athens</td>\n",
       "      <td>1896</td>\n",
       "      <td>Aquatics</td>\n",
       "      <td>Swimming</td>\n",
       "      <td>HAJOS, Alfred</td>\n",
       "      <td>HUN</td>\n",
       "      <td>Men</td>\n",
       "      <td>100m freestyle</td>\n",
       "      <td>M</td>\n",
       "      <td>Gold</td>\n",
       "    </tr>\n",
       "    <tr>\n",
       "      <th>1</th>\n",
       "      <td>Athens</td>\n",
       "      <td>1896</td>\n",
       "      <td>Aquatics</td>\n",
       "      <td>Swimming</td>\n",
       "      <td>HERSCHMANN, Otto</td>\n",
       "      <td>AUT</td>\n",
       "      <td>Men</td>\n",
       "      <td>100m freestyle</td>\n",
       "      <td>M</td>\n",
       "      <td>Silver</td>\n",
       "    </tr>\n",
       "    <tr>\n",
       "      <th>2</th>\n",
       "      <td>Athens</td>\n",
       "      <td>1896</td>\n",
       "      <td>Aquatics</td>\n",
       "      <td>Swimming</td>\n",
       "      <td>DRIVAS, Dimitrios</td>\n",
       "      <td>GRE</td>\n",
       "      <td>Men</td>\n",
       "      <td>100m freestyle for sailors</td>\n",
       "      <td>M</td>\n",
       "      <td>Bronze</td>\n",
       "    </tr>\n",
       "    <tr>\n",
       "      <th>3</th>\n",
       "      <td>Athens</td>\n",
       "      <td>1896</td>\n",
       "      <td>Aquatics</td>\n",
       "      <td>Swimming</td>\n",
       "      <td>MALOKINIS, Ioannis</td>\n",
       "      <td>GRE</td>\n",
       "      <td>Men</td>\n",
       "      <td>100m freestyle for sailors</td>\n",
       "      <td>M</td>\n",
       "      <td>Gold</td>\n",
       "    </tr>\n",
       "    <tr>\n",
       "      <th>4</th>\n",
       "      <td>Athens</td>\n",
       "      <td>1896</td>\n",
       "      <td>Aquatics</td>\n",
       "      <td>Swimming</td>\n",
       "      <td>CHASAPIS, Spiridon</td>\n",
       "      <td>GRE</td>\n",
       "      <td>Men</td>\n",
       "      <td>100m freestyle for sailors</td>\n",
       "      <td>M</td>\n",
       "      <td>Silver</td>\n",
       "    </tr>\n",
       "  </tbody>\n",
       "</table>\n",
       "</div>"
      ],
      "text/plain": [
       "     City  Edition     Sport Discipline             Athlete  NOC Gender  \\\n",
       "0  Athens     1896  Aquatics   Swimming       HAJOS, Alfred  HUN    Men   \n",
       "1  Athens     1896  Aquatics   Swimming    HERSCHMANN, Otto  AUT    Men   \n",
       "2  Athens     1896  Aquatics   Swimming   DRIVAS, Dimitrios  GRE    Men   \n",
       "3  Athens     1896  Aquatics   Swimming  MALOKINIS, Ioannis  GRE    Men   \n",
       "4  Athens     1896  Aquatics   Swimming  CHASAPIS, Spiridon  GRE    Men   \n",
       "\n",
       "                        Event Event_gender   Medal  \n",
       "0              100m freestyle            M    Gold  \n",
       "1              100m freestyle            M  Silver  \n",
       "2  100m freestyle for sailors            M  Bronze  \n",
       "3  100m freestyle for sailors            M    Gold  \n",
       "4  100m freestyle for sailors            M  Silver  "
      ]
     },
     "execution_count": 237,
     "metadata": {},
     "output_type": "execute_result"
    }
   ],
   "source": [
    "medals = pd.read_csv('medals.tsv', sep='\\t', \n",
    "                     skiprows=[0, 1, 2, 3])\n",
    "medals.head()"
   ]
  },
  {
   "cell_type": "code",
   "execution_count": 64,
   "metadata": {
    "collapsed": true
   },
   "outputs": [
    {
     "data": {
      "text/html": [
       "<div>\n",
       "<table border=\"1\" class=\"dataframe\">\n",
       "  <thead>\n",
       "    <tr style=\"text-align: right;\">\n",
       "      <th></th>\n",
       "      <th>City</th>\n",
       "      <th>Edition</th>\n",
       "      <th>Sport</th>\n",
       "      <th>Discipline</th>\n",
       "      <th>Athlete</th>\n",
       "      <th>NOC</th>\n",
       "      <th>Gender</th>\n",
       "      <th>Event</th>\n",
       "      <th>Event_gender</th>\n",
       "      <th>Medal</th>\n",
       "    </tr>\n",
       "  </thead>\n",
       "  <tbody>\n",
       "    <tr>\n",
       "      <th>29211</th>\n",
       "      <td>Beijing</td>\n",
       "      <td>2008</td>\n",
       "      <td>Wrestling</td>\n",
       "      <td>Wrestling Gre-R</td>\n",
       "      <td>ENGLICH, Mirko</td>\n",
       "      <td>GER</td>\n",
       "      <td>Men</td>\n",
       "      <td>84 - 96kg</td>\n",
       "      <td>M</td>\n",
       "      <td>Silver</td>\n",
       "    </tr>\n",
       "    <tr>\n",
       "      <th>29212</th>\n",
       "      <td>Beijing</td>\n",
       "      <td>2008</td>\n",
       "      <td>Wrestling</td>\n",
       "      <td>Wrestling Gre-R</td>\n",
       "      <td>MIZGAITIS, Mindaugas</td>\n",
       "      <td>LTU</td>\n",
       "      <td>Men</td>\n",
       "      <td>96 - 120kg</td>\n",
       "      <td>M</td>\n",
       "      <td>Bronze</td>\n",
       "    </tr>\n",
       "    <tr>\n",
       "      <th>29213</th>\n",
       "      <td>Beijing</td>\n",
       "      <td>2008</td>\n",
       "      <td>Wrestling</td>\n",
       "      <td>Wrestling Gre-R</td>\n",
       "      <td>PATRIKEEV, Yuri</td>\n",
       "      <td>ARM</td>\n",
       "      <td>Men</td>\n",
       "      <td>96 - 120kg</td>\n",
       "      <td>M</td>\n",
       "      <td>Bronze</td>\n",
       "    </tr>\n",
       "    <tr>\n",
       "      <th>29214</th>\n",
       "      <td>Beijing</td>\n",
       "      <td>2008</td>\n",
       "      <td>Wrestling</td>\n",
       "      <td>Wrestling Gre-R</td>\n",
       "      <td>LOPEZ, Mijain</td>\n",
       "      <td>CUB</td>\n",
       "      <td>Men</td>\n",
       "      <td>96 - 120kg</td>\n",
       "      <td>M</td>\n",
       "      <td>Gold</td>\n",
       "    </tr>\n",
       "    <tr>\n",
       "      <th>29215</th>\n",
       "      <td>Beijing</td>\n",
       "      <td>2008</td>\n",
       "      <td>Wrestling</td>\n",
       "      <td>Wrestling Gre-R</td>\n",
       "      <td>BAROEV, Khasan</td>\n",
       "      <td>RUS</td>\n",
       "      <td>Men</td>\n",
       "      <td>96 - 120kg</td>\n",
       "      <td>M</td>\n",
       "      <td>Silver</td>\n",
       "    </tr>\n",
       "  </tbody>\n",
       "</table>\n",
       "</div>"
      ],
      "text/plain": [
       "          City  Edition      Sport       Discipline               Athlete  \\\n",
       "29211  Beijing     2008  Wrestling  Wrestling Gre-R        ENGLICH, Mirko   \n",
       "29212  Beijing     2008  Wrestling  Wrestling Gre-R  MIZGAITIS, Mindaugas   \n",
       "29213  Beijing     2008  Wrestling  Wrestling Gre-R       PATRIKEEV, Yuri   \n",
       "29214  Beijing     2008  Wrestling  Wrestling Gre-R         LOPEZ, Mijain   \n",
       "29215  Beijing     2008  Wrestling  Wrestling Gre-R        BAROEV, Khasan   \n",
       "\n",
       "       NOC Gender       Event Event_gender   Medal  \n",
       "29211  GER    Men   84 - 96kg            M  Silver  \n",
       "29212  LTU    Men  96 - 120kg            M  Bronze  \n",
       "29213  ARM    Men  96 - 120kg            M  Bronze  \n",
       "29214  CUB    Men  96 - 120kg            M    Gold  \n",
       "29215  RUS    Men  96 - 120kg            M  Silver  "
      ]
     },
     "execution_count": 64,
     "metadata": {},
     "output_type": "execute_result"
    }
   ],
   "source": [
    "medals.tail()"
   ]
  },
  {
   "cell_type": "markdown",
   "metadata": {},
   "source": [
    "Now the data is correctly loaded. From its columns we can see it's already in tidy shape. Let's see if there is any missing values."
   ]
  },
  {
   "cell_type": "code",
   "execution_count": 7,
   "metadata": {
    "collapsed": false
   },
   "outputs": [
    {
     "name": "stdout",
     "output_type": "stream",
     "text": [
      "<class 'pandas.core.frame.DataFrame'>\n",
      "RangeIndex: 29216 entries, 0 to 29215\n",
      "Data columns (total 10 columns):\n",
      "City            29216 non-null object\n",
      "Edition         29216 non-null int64\n",
      "Sport           29216 non-null object\n",
      "Discipline      29216 non-null object\n",
      "Athlete         29216 non-null object\n",
      "NOC             29216 non-null object\n",
      "Gender          29216 non-null object\n",
      "Event           29216 non-null object\n",
      "Event_gender    29216 non-null object\n",
      "Medal           29216 non-null object\n",
      "dtypes: int64(1), object(9)\n",
      "memory usage: 2.2+ MB\n"
     ]
    }
   ],
   "source": [
    "medals.info()"
   ]
  },
  {
   "cell_type": "markdown",
   "metadata": {},
   "source": [
    "There's no missing values indicated by np.nan.   \n",
    "However all columns are of \"object\" type, which might be unnecessary if there's limited levels in that column. Let's check it."
   ]
  },
  {
   "cell_type": "code",
   "execution_count": 8,
   "metadata": {
    "collapsed": false
   },
   "outputs": [
    {
     "name": "stdout",
     "output_type": "stream",
     "text": [
      "City      22\n",
      "Edition      26\n",
      "Sport      42\n",
      "Discipline      56\n",
      "Athlete      21413\n",
      "NOC      138\n",
      "Gender      2\n",
      "Event      577\n",
      "Event_gender      3\n",
      "Medal      3\n"
     ]
    }
   ],
   "source": [
    "for col in medals.columns:\n",
    "    print(col, '    ', medals[col].nunique())"
   ]
  },
  {
   "cell_type": "markdown",
   "metadata": {},
   "source": [
    "We can cast some of the columns into \"category\" dtype. This can save us memory and allow some pandas operations to run faster."
   ]
  },
  {
   "cell_type": "code",
   "execution_count": 238,
   "metadata": {
    "collapsed": false
   },
   "outputs": [
    {
     "name": "stdout",
     "output_type": "stream",
     "text": [
      "<class 'pandas.core.frame.DataFrame'>\n",
      "RangeIndex: 29216 entries, 0 to 29215\n",
      "Data columns (total 10 columns):\n",
      "City            29216 non-null category\n",
      "Edition         29216 non-null int64\n",
      "Sport           29216 non-null category\n",
      "Discipline      29216 non-null category\n",
      "Athlete         29216 non-null object\n",
      "NOC             29216 non-null category\n",
      "Gender          29216 non-null category\n",
      "Event           29216 non-null object\n",
      "Event_gender    29216 non-null category\n",
      "Medal           29216 non-null category\n",
      "dtypes: category(7), int64(1), object(2)\n",
      "memory usage: 915.2+ KB\n"
     ]
    }
   ],
   "source": [
    "to_convert = ['City', 'Sport','Discipline', \n",
    "              'NOC', 'Gender','Event_gender', 'Medal']\n",
    "\n",
    "for col in to_convert:\n",
    "    medals[col] = medals[col].astype('category')\n",
    "    \n",
    "medals.info()"
   ]
  },
  {
   "cell_type": "markdown",
   "metadata": {
    "collapsed": true
   },
   "source": [
    "We can see that the memory usage is reduced by more than a half. Nice!"
   ]
  },
  {
   "cell_type": "markdown",
   "metadata": {},
   "source": [
    "From the number of unique level of each column we can tell some more interesting information:  \n",
    "* There's 26 editions of Summer Olympics, held by 22 cities. At most 4 cities held the big game more than one time.  \n",
    "* There are 42 kinds of sport, 56 kinds of discipline, and 577 kinds of event. The number is increasing because the latter one is one form of the former one.  \n",
    "* 21413 athletes are sharing 29216 medals, there are many who won multiple medals.  \n",
    "* 22 cities but 138 NOC? It confuses me at first, but later I realize NOC might be representing the nationality of the athlete who won the medal, rather than the country held the game.   \n",
    "\n",
    "I have thought of some questions we can look into:  \n",
    "* Which city(cities) held Summer Olympic more than once?  \n",
    "* Which NOC has the most medals in total? And by medal type?\n",
    "* How's the distribution of number of athletes who won different amounts of medals looks like?\n",
    "* Event_gender has 3 different values, is it a typo? Or some case where event_gender cannot be represented in male or female?\n",
    "* What are the countries that won medals in most sports?\n",
    "* During the Cold War(1952 - 1988), how did USA and USSR perform compared to each other?\n",
    "* What is the general trend of number of medals each edition?\n",
    "* Would the host country win more medals than the times it isn't hosting?"
   ]
  },
  {
   "cell_type": "markdown",
   "metadata": {},
   "source": [
    "## Which city(cities) held Summer Olympic more than once?"
   ]
  },
  {
   "cell_type": "code",
   "execution_count": 10,
   "metadata": {
    "collapsed": false
   },
   "outputs": [
    {
     "data": {
      "text/plain": [
       "Athens         2149\n",
       "Los Angeles    2074\n",
       "Beijing        2042\n",
       "Sydney         2015\n",
       "Atlanta        1859\n",
       "Barcelona      1705\n",
       "London         1618\n",
       "Seoul          1546\n",
       "Paris          1396\n",
       "Moscow         1387\n",
       "Name: City, dtype: int64"
      ]
     },
     "execution_count": 10,
     "metadata": {},
     "output_type": "execute_result"
    }
   ],
   "source": [
    "md_by_city = medals.City.value_counts()\n",
    "\n",
    "md_by_city.head(10)"
   ]
  },
  {
   "cell_type": "code",
   "execution_count": 12,
   "metadata": {
    "collapsed": false
   },
   "outputs": [
    {
     "data": {
      "text/plain": [
       "<matplotlib.axes._subplots.AxesSubplot at 0x112e74c50>"
      ]
     },
     "execution_count": 12,
     "metadata": {},
     "output_type": "execute_result"
    },
    {
     "data": {
      "image/png": "[encoded data removed]",
      "text/plain": [
       "<matplotlib.figure.Figure at 0x1132a07b8>"
      ]
     },
     "metadata": {},
     "output_type": "display_data"
    }
   ],
   "source": [
    "md_by_city.plot(kind='bar', alpha=0.5)"
   ]
  },
  {
   "cell_type": "code",
   "execution_count": 217,
   "metadata": {
    "collapsed": false
   },
   "outputs": [],
   "source": [
    "host_cities = medals[['City', 'Edition']].drop_duplicates().set_index('Edition')"
   ]
  },
  {
   "cell_type": "code",
   "execution_count": 223,
   "metadata": {
    "collapsed": false
   },
   "outputs": [
    {
     "data": {
      "text/plain": [
       "Los Angeles    2\n",
       "Athens         2\n",
       "Paris          2\n",
       "London         2\n",
       "Tokyo          1\n",
       "Name: City, dtype: int64"
      ]
     },
     "execution_count": 223,
     "metadata": {},
     "output_type": "execute_result"
    }
   ],
   "source": [
    "host_cities['City'].value_counts().head()"
   ]
  },
  {
   "cell_type": "markdown",
   "metadata": {
    "collapsed": true
   },
   "source": [
    "4 cities held Summer Olympics more than once, they are Athens(1896, 2004), London(1908, 1948), Los Angeles(1932, 1984) and Paris(1900, 1924).  \n"
   ]
  },
  {
   "cell_type": "markdown",
   "metadata": {
    "collapsed": true
   },
   "source": [
    "## Which NOC has the most medals in total? And by medal type?"
   ]
  },
  {
   "cell_type": "code",
   "execution_count": 23,
   "metadata": {
    "collapsed": false
   },
   "outputs": [
    {
     "data": {
      "text/plain": [
       "NOC\n",
       "USA    4335\n",
       "URS    2049\n",
       "GBR    1594\n",
       "FRA    1314\n",
       "ITA    1228\n",
       "GER    1211\n",
       "AUS    1075\n",
       "HUN    1053\n",
       "SWE    1021\n",
       "GDR     825\n",
       "Name: Medal, dtype: int64"
      ]
     },
     "execution_count": 23,
     "metadata": {},
     "output_type": "execute_result"
    }
   ],
   "source": [
    "medals.groupby('NOC')['Medal'].count().sort_values(ascending=False).head(10)"
   ]
  },
  {
   "cell_type": "code",
   "execution_count": 208,
   "metadata": {
    "collapsed": false
   },
   "outputs": [
    {
     "data": {
      "text/html": [
       "<div>\n",
       "<table border=\"1\" class=\"dataframe\">\n",
       "  <thead>\n",
       "    <tr style=\"text-align: right;\">\n",
       "      <th>Medal</th>\n",
       "      <th>Bronze</th>\n",
       "      <th>Gold</th>\n",
       "      <th>Silver</th>\n",
       "      <th>total</th>\n",
       "    </tr>\n",
       "    <tr>\n",
       "      <th>NOC</th>\n",
       "      <th></th>\n",
       "      <th></th>\n",
       "      <th></th>\n",
       "      <th></th>\n",
       "    </tr>\n",
       "  </thead>\n",
       "  <tbody>\n",
       "    <tr>\n",
       "      <th>USA</th>\n",
       "      <td>1052.0</td>\n",
       "      <td>2088.0</td>\n",
       "      <td>1195.0</td>\n",
       "      <td>4335.0</td>\n",
       "    </tr>\n",
       "    <tr>\n",
       "      <th>URS</th>\n",
       "      <td>584.0</td>\n",
       "      <td>838.0</td>\n",
       "      <td>627.0</td>\n",
       "      <td>2049.0</td>\n",
       "    </tr>\n",
       "    <tr>\n",
       "      <th>GBR</th>\n",
       "      <td>505.0</td>\n",
       "      <td>498.0</td>\n",
       "      <td>591.0</td>\n",
       "      <td>1594.0</td>\n",
       "    </tr>\n",
       "    <tr>\n",
       "      <th>FRA</th>\n",
       "      <td>475.0</td>\n",
       "      <td>378.0</td>\n",
       "      <td>461.0</td>\n",
       "      <td>1314.0</td>\n",
       "    </tr>\n",
       "    <tr>\n",
       "      <th>ITA</th>\n",
       "      <td>374.0</td>\n",
       "      <td>460.0</td>\n",
       "      <td>394.0</td>\n",
       "      <td>1228.0</td>\n",
       "    </tr>\n",
       "    <tr>\n",
       "      <th>GER</th>\n",
       "      <td>454.0</td>\n",
       "      <td>407.0</td>\n",
       "      <td>350.0</td>\n",
       "      <td>1211.0</td>\n",
       "    </tr>\n",
       "    <tr>\n",
       "      <th>AUS</th>\n",
       "      <td>413.0</td>\n",
       "      <td>293.0</td>\n",
       "      <td>369.0</td>\n",
       "      <td>1075.0</td>\n",
       "    </tr>\n",
       "    <tr>\n",
       "      <th>HUN</th>\n",
       "      <td>345.0</td>\n",
       "      <td>400.0</td>\n",
       "      <td>308.0</td>\n",
       "      <td>1053.0</td>\n",
       "    </tr>\n",
       "    <tr>\n",
       "      <th>SWE</th>\n",
       "      <td>325.0</td>\n",
       "      <td>347.0</td>\n",
       "      <td>349.0</td>\n",
       "      <td>1021.0</td>\n",
       "    </tr>\n",
       "    <tr>\n",
       "      <th>GDR</th>\n",
       "      <td>225.0</td>\n",
       "      <td>329.0</td>\n",
       "      <td>271.0</td>\n",
       "      <td>825.0</td>\n",
       "    </tr>\n",
       "  </tbody>\n",
       "</table>\n",
       "</div>"
      ],
      "text/plain": [
       "Medal  Bronze    Gold  Silver   total\n",
       "NOC                                  \n",
       "USA    1052.0  2088.0  1195.0  4335.0\n",
       "URS     584.0   838.0   627.0  2049.0\n",
       "GBR     505.0   498.0   591.0  1594.0\n",
       "FRA     475.0   378.0   461.0  1314.0\n",
       "ITA     374.0   460.0   394.0  1228.0\n",
       "GER     454.0   407.0   350.0  1211.0\n",
       "AUS     413.0   293.0   369.0  1075.0\n",
       "HUN     345.0   400.0   308.0  1053.0\n",
       "SWE     325.0   347.0   349.0  1021.0\n",
       "GDR     225.0   329.0   271.0   825.0"
      ]
     },
     "execution_count": 208,
     "metadata": {},
     "output_type": "execute_result"
    }
   ],
   "source": [
    "noc_by_mdtype = medals.pivot_table(index='NOC', \n",
    "                                   columns='Medal', \n",
    "                                   values='Athlete', \n",
    "                                   aggfunc='count'\n",
    "                                )\n",
    "\n",
    "noc_by_mdtype['total'] = noc_by_mdtype.sum(axis=1)\n",
    "\n",
    "noc_by_mdtype = noc_by_mdtype.sort_values('total', ascending=False)\n",
    "\n",
    "noc_by_mdtype.head(10)"
   ]
  },
  {
   "cell_type": "markdown",
   "metadata": {},
   "source": [
    "## How's the distribution of number of athletes who won different amounts of medals looks like?"
   ]
  },
  {
   "cell_type": "code",
   "execution_count": 25,
   "metadata": {
    "collapsed": false
   },
   "outputs": [],
   "source": [
    "md_by_ath = medals.groupby('Athlete')['Medal'].count()"
   ]
  },
  {
   "cell_type": "code",
   "execution_count": 209,
   "metadata": {
    "collapsed": false
   },
   "outputs": [
    {
     "data": {
      "text/plain": [
       "<matplotlib.axes._subplots.AxesSubplot at 0x119b40320>"
      ]
     },
     "execution_count": 209,
     "metadata": {},
     "output_type": "execute_result"
    },
    {
     "data": {
      "image/png": "[encoded data removed]",
      "text/plain": [
       "<matplotlib.figure.Figure at 0x119ada080>"
      ]
     },
     "metadata": {},
     "output_type": "display_data"
    }
   ],
   "source": [
    "md_by_ath.plot(kind='hist',\n",
    "               range=(0, 19),\n",
    "               bins=19, \n",
    "               alpha=0.5)"
   ]
  },
  {
   "cell_type": "markdown",
   "metadata": {},
   "source": [
    "## Event_gender has 3 different values, is the third kind a typo?   \n",
    "Or some case where event_gender cannot be represented in male or female?"
   ]
  },
  {
   "cell_type": "code",
   "execution_count": 39,
   "metadata": {
    "collapsed": false
   },
   "outputs": [
    {
     "data": {
      "text/plain": [
       "[M, X, W]\n",
       "Categories (3, object): [M, X, W]"
      ]
     },
     "execution_count": 39,
     "metadata": {},
     "output_type": "execute_result"
    }
   ],
   "source": [
    "medals.Event_gender.unique()"
   ]
  },
  {
   "cell_type": "code",
   "execution_count": 40,
   "metadata": {
    "collapsed": false
   },
   "outputs": [
    {
     "data": {
      "text/plain": [
       "M    20067\n",
       "W     7278\n",
       "X     1871\n",
       "Name: Event_gender, dtype: int64"
      ]
     },
     "execution_count": 40,
     "metadata": {},
     "output_type": "execute_result"
    }
   ],
   "source": [
    "medals.Event_gender.value_counts()"
   ]
  },
  {
   "cell_type": "code",
   "execution_count": 226,
   "metadata": {
    "collapsed": false
   },
   "outputs": [
    {
     "data": {
      "text/plain": [
       "Event_gender  Gender\n",
       "M             Men       20067\n",
       "W             Men           1\n",
       "              Women      7277\n",
       "X             Men        1653\n",
       "              Women       218\n",
       "Name: Medal, dtype: int64"
      ]
     },
     "execution_count": 226,
     "metadata": {},
     "output_type": "execute_result"
    }
   ],
   "source": [
    "md_by_gender = medals.groupby(['Event_gender', 'Gender'])['Medal'].count()\n",
    "md_by_gender"
   ]
  },
  {
   "cell_type": "markdown",
   "metadata": {},
   "source": [
    "There's only 1 observation where 'Event_gender' is 'W' and 'Gender' is 'Men'. Is this a typo?"
   ]
  },
  {
   "cell_type": "code",
   "execution_count": 227,
   "metadata": {
    "collapsed": false
   },
   "outputs": [
    {
     "data": {
      "text/html": [
       "<div>\n",
       "<table border=\"1\" class=\"dataframe\">\n",
       "  <thead>\n",
       "    <tr style=\"text-align: right;\">\n",
       "      <th></th>\n",
       "      <th>City</th>\n",
       "      <th>Edition</th>\n",
       "      <th>Sport</th>\n",
       "      <th>Discipline</th>\n",
       "      <th>Athlete</th>\n",
       "      <th>NOC</th>\n",
       "      <th>Gender</th>\n",
       "      <th>Event</th>\n",
       "      <th>Event_gender</th>\n",
       "      <th>Medal</th>\n",
       "    </tr>\n",
       "  </thead>\n",
       "  <tbody>\n",
       "    <tr>\n",
       "      <th>23675</th>\n",
       "      <td>Sydney</td>\n",
       "      <td>2000</td>\n",
       "      <td>Athletics</td>\n",
       "      <td>Athletics</td>\n",
       "      <td>CHEPCHUMBA, Joyce</td>\n",
       "      <td>KEN</td>\n",
       "      <td>Men</td>\n",
       "      <td>marathon</td>\n",
       "      <td>W</td>\n",
       "      <td>Bronze</td>\n",
       "    </tr>\n",
       "  </tbody>\n",
       "</table>\n",
       "</div>"
      ],
      "text/plain": [
       "         City Edition      Sport Discipline            Athlete  NOC Gender  \\\n",
       "23675  Sydney    2000  Athletics  Athletics  CHEPCHUMBA, Joyce  KEN    Men   \n",
       "\n",
       "          Event Event_gender   Medal  \n",
       "23675  marathon            W  Bronze  "
      ]
     },
     "execution_count": 227,
     "metadata": {},
     "output_type": "execute_result"
    }
   ],
   "source": [
    "medals[(medals['Gender']=='Men') & (medals['Event_gender']=='W')]"
   ]
  },
  {
   "cell_type": "markdown",
   "metadata": {
    "collapsed": true
   },
   "source": [
    "Do some google search we can find that \"CHEPCHUMBA, Joyce\" is a woman. The 'Gender' column for her is wrong.  \n",
    "As when 'Event_gender' is 'X', there are many observations of men and women, what are these event? Are they sports that requires mixed gender?"
   ]
  },
  {
   "cell_type": "code",
   "execution_count": 228,
   "metadata": {
    "collapsed": false
   },
   "outputs": [
    {
     "name": "stdout",
     "output_type": "stream",
     "text": [
      "[Equestrian, Sailing, Tennis, Skating, Shooting, Badminton]\n",
      "Categories (6, object): [Equestrian, Sailing, Tennis, Skating, Shooting, Badminton]\n",
      "\n",
      "\n",
      "[Jumping, Sailing, Tennis, Figure skating, Dressage, Eventing, Vaulting, Shooting, Badminton]\n",
      "Categories (9, object): [Jumping, Sailing, Tennis, Figure skating, ..., Eventing, Vaulting, Shooting, Badminton]\n",
      "\n",
      "\n",
      "['high jump' 'individual' 'long jump individual' '0.5-1t' '10-20t' '3-10t'\n",
      " 'open class' 'mixed doubles' '12m' '6m' '7m' '8m' 'pairs' 'team' '10m'\n",
      " 'mixed doubles indoor' 'figure riding individual' 'figure riding team'\n",
      " '10m (rating 1907)' '10m (rating 1919)' '12 foot dinghy'\n",
      " '12m (rating 1907)' '12m (rating 1919)' '18 foot dinghy' '30m sq' '40m sq'\n",
      " '6.5m (rating 1919)' '6m (rating 1907)' '8m (rating 1907)'\n",
      " 'olympic class monotype' '12 foot dinghy individual'\n",
      " 'two-person keelboat open (Star)' 'dragon' 'firefly class'\n",
      " 'swallow (golondrina)' '5.5m' 'sharpie 12m2' 'flying dutchman'\n",
      " 'fleet/match race keelboat open (Soling)' 'tempest'\n",
      " '25m rapid fire pistol (60 shots)'\n",
      " '300m free rifle 3 positions (3x40 shots)' '50m pistol (60 shots)'\n",
      " '50m rifle 3 positions (3x40 shots)' '50m rifle prone (60 shots)'\n",
      " '50m running target (30+30 shots)' 'skeet (125 targets)'\n",
      " 'trap (125 targets)' 'Tornado - Multihull' 'doubles'\n",
      " 'single-handed dinghy open (Laser)' '49er - Skiff'\n",
      " 'Finn - Heavyweight Dinghy']\n"
     ]
    }
   ],
   "source": [
    "eg_X = medals[medals['Event_gender']=='X']\n",
    "\n",
    "print(eg_X['Sport'].unique())\n",
    "print('\\n')\n",
    "print(eg_X['Discipline'].unique())\n",
    "print('\\n')\n",
    "print(eg_X['Event'].unique())"
   ]
  },
  {
   "cell_type": "markdown",
   "metadata": {
    "collapsed": false
   },
   "source": [
    "Unfortunately I cannot find a codebook specifying what each column means.  \n",
    "And I can't figure out why the 'Event_gender' column contains info of both male and female athletes"
   ]
  },
  {
   "cell_type": "markdown",
   "metadata": {},
   "source": [
    "## What are the countries that won medals in most sports?"
   ]
  },
  {
   "cell_type": "code",
   "execution_count": 232,
   "metadata": {
    "collapsed": false
   },
   "outputs": [
    {
     "data": {
      "text/plain": [
       "NOC\n",
       "USA    34\n",
       "GBR    31\n",
       "FRA    28\n",
       "GER    26\n",
       "CHN    24\n",
       "AUS    22\n",
       "ESP    22\n",
       "CAN    22\n",
       "SWE    21\n",
       "URS    21\n",
       "Name: Sport, dtype: int64"
      ]
     },
     "execution_count": 232,
     "metadata": {},
     "output_type": "execute_result"
    }
   ],
   "source": [
    "sp_by_noc = medals.groupby('NOC')['Sport'].nunique()\n",
    "\n",
    "sp_by_noc.sort_values(ascending=False).head(10)"
   ]
  },
  {
   "cell_type": "markdown",
   "metadata": {},
   "source": [
    "## During the Cold War(1952 - 1988), how did USA and USSR perform compared to each other?"
   ]
  },
  {
   "cell_type": "code",
   "execution_count": 244,
   "metadata": {
    "collapsed": false
   },
   "outputs": [],
   "source": [
    "cold_war = medals.loc[(medals['Edition']>=1952)&(medals['Edition']<=1988)]"
   ]
  },
  {
   "cell_type": "code",
   "execution_count": 245,
   "metadata": {
    "collapsed": false
   },
   "outputs": [],
   "source": [
    "cold_war = cold_war.loc[(cold_war['NOC']=='USA')|(cold_war['NOC']=='URS')]"
   ]
  },
  {
   "cell_type": "code",
   "execution_count": 247,
   "metadata": {
    "collapsed": false
   },
   "outputs": [
    {
     "data": {
      "text/plain": [
       "Edition  NOC\n",
       "1952     URS    117\n",
       "         USA    130\n",
       "1956     URS    169\n",
       "         USA    118\n",
       "1960     URS    169\n",
       "         USA    112\n",
       "1964     URS    174\n",
       "         USA    150\n",
       "1968     URS    188\n",
       "         USA    149\n",
       "1972     URS    211\n",
       "         USA    155\n",
       "1976     URS    285\n",
       "         USA    155\n",
       "1980     URS    442\n",
       "1984     USA    333\n",
       "1988     URS    294\n",
       "         USA    193\n",
       "Name: Medal, dtype: int64"
      ]
     },
     "execution_count": 247,
     "metadata": {},
     "output_type": "execute_result"
    }
   ],
   "source": [
    "cold_war.groupby(['Edition', 'NOC'])['Medal'].count()"
   ]
  },
  {
   "cell_type": "code",
   "execution_count": 250,
   "metadata": {
    "collapsed": false
   },
   "outputs": [
    {
     "data": {
      "text/plain": [
       "<matplotlib.axes._subplots.AxesSubplot at 0x119f71208>"
      ]
     },
     "execution_count": 250,
     "metadata": {},
     "output_type": "execute_result"
    },
    {
     "data": {
      "image/png": "[encoded data removed]",
      "text/plain": [
       "<matplotlib.figure.Figure at 0x113c91048>"
      ]
     },
     "metadata": {},
     "output_type": "display_data"
    }
   ],
   "source": [
    "# total medals\n",
    "cold_war.groupby(['Edition', 'NOC'])['Medal'].count().unstack('NOC').plot()"
   ]
  },
  {
   "cell_type": "code",
   "execution_count": 257,
   "metadata": {
    "collapsed": false
   },
   "outputs": [
    {
     "data": {
      "text/plain": [
       "<matplotlib.axes._subplots.AxesSubplot at 0x11a051278>"
      ]
     },
     "execution_count": 257,
     "metadata": {},
     "output_type": "execute_result"
    },
    {
     "data": {
      "image/png": "[encoded data removed]",
      "text/plain": [
       "<matplotlib.figure.Figure at 0x11a3eb080>"
      ]
     },
     "metadata": {},
     "output_type": "display_data"
    }
   ],
   "source": [
    "# unique sports that won medals\n",
    "cold_war.groupby(['Edition', 'NOC'])['Sport'].nunique().unstack('NOC').plot()"
   ]
  },
  {
   "cell_type": "markdown",
   "metadata": {},
   "source": [
    "In both total medals and medal-winning sports, the Soviet Union outperformed the United States during cold war.  Hard to imagine how the Soviet Union managed to do so under its poor economic condition."
   ]
  },
  {
   "cell_type": "code",
   "execution_count": null,
   "metadata": {
    "collapsed": true
   },
   "outputs": [],
   "source": []
  },
  {
   "cell_type": "markdown",
   "metadata": {},
   "source": [
    "## What is the general trend of number of medals each edition?"
   ]
  },
  {
   "cell_type": "code",
   "execution_count": 88,
   "metadata": {
    "collapsed": false
   },
   "outputs": [],
   "source": [
    "gr_edition = medals.groupby('Edition')"
   ]
  },
  {
   "cell_type": "code",
   "execution_count": 89,
   "metadata": {
    "collapsed": false
   },
   "outputs": [
    {
     "data": {
      "text/plain": [
       "Edition\n",
       "1896     151\n",
       "1900     512\n",
       "1904     470\n",
       "1908     804\n",
       "1912     885\n",
       "1920    1298\n",
       "1924     884\n",
       "1928     710\n",
       "1932     615\n",
       "1936     875\n",
       "Name: Medal, dtype: int64"
      ]
     },
     "execution_count": 89,
     "metadata": {},
     "output_type": "execute_result"
    }
   ],
   "source": [
    "md_by_year = gr_edition['Medal'].count().sort_index()\n",
    "md_by_year.head(10)"
   ]
  },
  {
   "cell_type": "code",
   "execution_count": 76,
   "metadata": {
    "collapsed": false
   },
   "outputs": [
    {
     "data": {
      "text/plain": [
       "<matplotlib.axes._subplots.AxesSubplot at 0x118684c50>"
      ]
     },
     "execution_count": 76,
     "metadata": {},
     "output_type": "execute_result"
    },
    {
     "data": {
      "image/png": "[encoded data removed]",
      "text/plain": [
       "<matplotlib.figure.Figure at 0x118be17f0>"
      ]
     },
     "metadata": {},
     "output_type": "display_data"
    }
   ],
   "source": [
    "md_by_year.plot()"
   ]
  },
  {
   "cell_type": "code",
   "execution_count": 106,
   "metadata": {
    "collapsed": false
   },
   "outputs": [
    {
     "data": {
      "text/plain": [
       "Edition\n",
       "1904    10\n",
       "1908    19\n",
       "1912    18\n",
       "1920    22\n",
       "1924    27\n",
       "1928    32\n",
       "1932    27\n",
       "Name: NOC, dtype: int64"
      ]
     },
     "execution_count": 106,
     "metadata": {},
     "output_type": "execute_result"
    }
   ],
   "source": [
    "# Wow, there's a sharp rise right before 1920, \n",
    "# and then it quickly falls down. What happened?\n",
    "    # one possible answer is that around 1920 there were many countries pop up to join the game \n",
    "    # therefore the total medals won increased; then after 1920 some countries some quitted.\n",
    "    # let's check this by counting number of countris that won medals around 1920\n",
    "gr_edition['NOC'].nunique().iloc[2:9]"
   ]
  },
  {
   "cell_type": "code",
   "execution_count": 194,
   "metadata": {
    "collapsed": false
   },
   "outputs": [],
   "source": [
    "# from above we know that the drastic change around 1920 is not due to num of countries who took part in \n",
    "# I want to find out which countries has the most drastic change before and after 1920\n",
    "md_pivot = medals.pivot_table(index = 'Edition', \n",
    "             columns = 'NOC', \n",
    "             values = 'Medal', \n",
    "             aggfunc = 'count')"
   ]
  },
  {
   "cell_type": "code",
   "execution_count": 195,
   "metadata": {
    "collapsed": false
   },
   "outputs": [],
   "source": [
    "md_pivot_1920 = md_pivot.iloc[2:9]"
   ]
  },
  {
   "cell_type": "code",
   "execution_count": 196,
   "metadata": {
    "collapsed": false
   },
   "outputs": [],
   "source": [
    "md_pivot_1920 = md_pivot_1920.dropna(how='all', axis=1, thresh=4)"
   ]
  },
  {
   "cell_type": "code",
   "execution_count": 197,
   "metadata": {
    "collapsed": false
   },
   "outputs": [
    {
     "data": {
      "text/html": [
       "<div>\n",
       "<table border=\"1\" class=\"dataframe\">\n",
       "  <thead>\n",
       "    <tr style=\"text-align: right;\">\n",
       "      <th>NOC</th>\n",
       "      <th>AUS</th>\n",
       "      <th>AUT</th>\n",
       "      <th>BEL</th>\n",
       "      <th>CAN</th>\n",
       "      <th>DEN</th>\n",
       "      <th>FIN</th>\n",
       "      <th>FRA</th>\n",
       "      <th>GBR</th>\n",
       "      <th>GER</th>\n",
       "      <th>GRE</th>\n",
       "      <th>...</th>\n",
       "      <th>ITA</th>\n",
       "      <th>JPN</th>\n",
       "      <th>NED</th>\n",
       "      <th>NOR</th>\n",
       "      <th>NZL</th>\n",
       "      <th>RSA</th>\n",
       "      <th>SUI</th>\n",
       "      <th>SWE</th>\n",
       "      <th>TCH</th>\n",
       "      <th>USA</th>\n",
       "    </tr>\n",
       "    <tr>\n",
       "      <th>Edition</th>\n",
       "      <th></th>\n",
       "      <th></th>\n",
       "      <th></th>\n",
       "      <th></th>\n",
       "      <th></th>\n",
       "      <th></th>\n",
       "      <th></th>\n",
       "      <th></th>\n",
       "      <th></th>\n",
       "      <th></th>\n",
       "      <th></th>\n",
       "      <th></th>\n",
       "      <th></th>\n",
       "      <th></th>\n",
       "      <th></th>\n",
       "      <th></th>\n",
       "      <th></th>\n",
       "      <th></th>\n",
       "      <th></th>\n",
       "      <th></th>\n",
       "      <th></th>\n",
       "    </tr>\n",
       "  </thead>\n",
       "  <tbody>\n",
       "    <tr>\n",
       "      <th>1904</th>\n",
       "      <td>NaN</td>\n",
       "      <td>1.0</td>\n",
       "      <td>NaN</td>\n",
       "      <td>35.0</td>\n",
       "      <td>NaN</td>\n",
       "      <td>NaN</td>\n",
       "      <td>NaN</td>\n",
       "      <td>2.0</td>\n",
       "      <td>13.0</td>\n",
       "      <td>2.0</td>\n",
       "      <td>...</td>\n",
       "      <td>NaN</td>\n",
       "      <td>NaN</td>\n",
       "      <td>NaN</td>\n",
       "      <td>NaN</td>\n",
       "      <td>NaN</td>\n",
       "      <td>NaN</td>\n",
       "      <td>2.0</td>\n",
       "      <td>NaN</td>\n",
       "      <td>NaN</td>\n",
       "      <td>394.0</td>\n",
       "    </tr>\n",
       "    <tr>\n",
       "      <th>1908</th>\n",
       "      <td>NaN</td>\n",
       "      <td>1.0</td>\n",
       "      <td>31.0</td>\n",
       "      <td>51.0</td>\n",
       "      <td>15.0</td>\n",
       "      <td>29.0</td>\n",
       "      <td>35.0</td>\n",
       "      <td>347.0</td>\n",
       "      <td>22.0</td>\n",
       "      <td>3.0</td>\n",
       "      <td>...</td>\n",
       "      <td>7.0</td>\n",
       "      <td>NaN</td>\n",
       "      <td>11.0</td>\n",
       "      <td>44.0</td>\n",
       "      <td>NaN</td>\n",
       "      <td>2.0</td>\n",
       "      <td>NaN</td>\n",
       "      <td>98.0</td>\n",
       "      <td>NaN</td>\n",
       "      <td>63.0</td>\n",
       "    </tr>\n",
       "    <tr>\n",
       "      <th>1912</th>\n",
       "      <td>NaN</td>\n",
       "      <td>14.0</td>\n",
       "      <td>19.0</td>\n",
       "      <td>8.0</td>\n",
       "      <td>84.0</td>\n",
       "      <td>67.0</td>\n",
       "      <td>25.0</td>\n",
       "      <td>160.0</td>\n",
       "      <td>52.0</td>\n",
       "      <td>2.0</td>\n",
       "      <td>...</td>\n",
       "      <td>21.0</td>\n",
       "      <td>NaN</td>\n",
       "      <td>22.0</td>\n",
       "      <td>76.0</td>\n",
       "      <td>NaN</td>\n",
       "      <td>7.0</td>\n",
       "      <td>NaN</td>\n",
       "      <td>173.0</td>\n",
       "      <td>NaN</td>\n",
       "      <td>101.0</td>\n",
       "    </tr>\n",
       "    <tr>\n",
       "      <th>1920</th>\n",
       "      <td>6.0</td>\n",
       "      <td>NaN</td>\n",
       "      <td>188.0</td>\n",
       "      <td>16.0</td>\n",
       "      <td>75.0</td>\n",
       "      <td>49.0</td>\n",
       "      <td>141.0</td>\n",
       "      <td>107.0</td>\n",
       "      <td>NaN</td>\n",
       "      <td>5.0</td>\n",
       "      <td>...</td>\n",
       "      <td>84.0</td>\n",
       "      <td>3.0</td>\n",
       "      <td>48.0</td>\n",
       "      <td>141.0</td>\n",
       "      <td>1.0</td>\n",
       "      <td>21.0</td>\n",
       "      <td>29.0</td>\n",
       "      <td>146.0</td>\n",
       "      <td>10.0</td>\n",
       "      <td>193.0</td>\n",
       "    </tr>\n",
       "    <tr>\n",
       "      <th>1924</th>\n",
       "      <td>10.0</td>\n",
       "      <td>4.0</td>\n",
       "      <td>38.0</td>\n",
       "      <td>20.0</td>\n",
       "      <td>12.0</td>\n",
       "      <td>52.0</td>\n",
       "      <td>122.0</td>\n",
       "      <td>66.0</td>\n",
       "      <td>NaN</td>\n",
       "      <td>NaN</td>\n",
       "      <td>...</td>\n",
       "      <td>51.0</td>\n",
       "      <td>1.0</td>\n",
       "      <td>26.0</td>\n",
       "      <td>26.0</td>\n",
       "      <td>1.0</td>\n",
       "      <td>3.0</td>\n",
       "      <td>65.0</td>\n",
       "      <td>80.0</td>\n",
       "      <td>10.0</td>\n",
       "      <td>198.0</td>\n",
       "    </tr>\n",
       "    <tr>\n",
       "      <th>1928</th>\n",
       "      <td>4.0</td>\n",
       "      <td>4.0</td>\n",
       "      <td>5.0</td>\n",
       "      <td>33.0</td>\n",
       "      <td>13.0</td>\n",
       "      <td>25.0</td>\n",
       "      <td>36.0</td>\n",
       "      <td>55.0</td>\n",
       "      <td>72.0</td>\n",
       "      <td>NaN</td>\n",
       "      <td>...</td>\n",
       "      <td>70.0</td>\n",
       "      <td>8.0</td>\n",
       "      <td>65.0</td>\n",
       "      <td>9.0</td>\n",
       "      <td>1.0</td>\n",
       "      <td>6.0</td>\n",
       "      <td>29.0</td>\n",
       "      <td>36.0</td>\n",
       "      <td>16.0</td>\n",
       "      <td>84.0</td>\n",
       "    </tr>\n",
       "    <tr>\n",
       "      <th>1932</th>\n",
       "      <td>5.0</td>\n",
       "      <td>5.0</td>\n",
       "      <td>NaN</td>\n",
       "      <td>38.0</td>\n",
       "      <td>9.0</td>\n",
       "      <td>29.0</td>\n",
       "      <td>37.0</td>\n",
       "      <td>34.0</td>\n",
       "      <td>38.0</td>\n",
       "      <td>NaN</td>\n",
       "      <td>...</td>\n",
       "      <td>77.0</td>\n",
       "      <td>31.0</td>\n",
       "      <td>12.0</td>\n",
       "      <td>NaN</td>\n",
       "      <td>2.0</td>\n",
       "      <td>5.0</td>\n",
       "      <td>1.0</td>\n",
       "      <td>31.0</td>\n",
       "      <td>4.0</td>\n",
       "      <td>181.0</td>\n",
       "    </tr>\n",
       "  </tbody>\n",
       "</table>\n",
       "<p>7 rows × 21 columns</p>\n",
       "</div>"
      ],
      "text/plain": [
       "NOC       AUS   AUT    BEL   CAN   DEN   FIN    FRA    GBR   GER  GRE  ...    \\\n",
       "Edition                                                                ...     \n",
       "1904      NaN   1.0    NaN  35.0   NaN   NaN    NaN    2.0  13.0  2.0  ...     \n",
       "1908      NaN   1.0   31.0  51.0  15.0  29.0   35.0  347.0  22.0  3.0  ...     \n",
       "1912      NaN  14.0   19.0   8.0  84.0  67.0   25.0  160.0  52.0  2.0  ...     \n",
       "1920      6.0   NaN  188.0  16.0  75.0  49.0  141.0  107.0   NaN  5.0  ...     \n",
       "1924     10.0   4.0   38.0  20.0  12.0  52.0  122.0   66.0   NaN  NaN  ...     \n",
       "1928      4.0   4.0    5.0  33.0  13.0  25.0   36.0   55.0  72.0  NaN  ...     \n",
       "1932      5.0   5.0    NaN  38.0   9.0  29.0   37.0   34.0  38.0  NaN  ...     \n",
       "\n",
       "NOC       ITA   JPN   NED    NOR  NZL   RSA   SUI    SWE   TCH    USA  \n",
       "Edition                                                                \n",
       "1904      NaN   NaN   NaN    NaN  NaN   NaN   2.0    NaN   NaN  394.0  \n",
       "1908      7.0   NaN  11.0   44.0  NaN   2.0   NaN   98.0   NaN   63.0  \n",
       "1912     21.0   NaN  22.0   76.0  NaN   7.0   NaN  173.0   NaN  101.0  \n",
       "1920     84.0   3.0  48.0  141.0  1.0  21.0  29.0  146.0  10.0  193.0  \n",
       "1924     51.0   1.0  26.0   26.0  1.0   3.0  65.0   80.0  10.0  198.0  \n",
       "1928     70.0   8.0  65.0    9.0  1.0   6.0  29.0   36.0  16.0   84.0  \n",
       "1932     77.0  31.0  12.0    NaN  2.0   5.0   1.0   31.0   4.0  181.0  \n",
       "\n",
       "[7 rows x 21 columns]"
      ]
     },
     "execution_count": 197,
     "metadata": {},
     "output_type": "execute_result"
    }
   ],
   "source": [
    "md_pivot_1920"
   ]
  },
  {
   "cell_type": "code",
   "execution_count": 198,
   "metadata": {
    "collapsed": false
   },
   "outputs": [],
   "source": [
    "md_pivot_pct = md_pivot_1920.pct_change()"
   ]
  },
  {
   "cell_type": "code",
   "execution_count": 161,
   "metadata": {
    "collapsed": false
   },
   "outputs": [
    {
     "data": {
      "text/html": [
       "<div>\n",
       "<table border=\"1\" class=\"dataframe\">\n",
       "  <thead>\n",
       "    <tr style=\"text-align: right;\">\n",
       "      <th>NOC</th>\n",
       "      <th>AUS</th>\n",
       "      <th>AUT</th>\n",
       "      <th>BEL</th>\n",
       "      <th>CAN</th>\n",
       "      <th>DEN</th>\n",
       "      <th>FIN</th>\n",
       "      <th>FRA</th>\n",
       "      <th>GBR</th>\n",
       "      <th>GER</th>\n",
       "      <th>GRE</th>\n",
       "      <th>...</th>\n",
       "      <th>ITA</th>\n",
       "      <th>JPN</th>\n",
       "      <th>NED</th>\n",
       "      <th>NOR</th>\n",
       "      <th>NZL</th>\n",
       "      <th>RSA</th>\n",
       "      <th>SUI</th>\n",
       "      <th>SWE</th>\n",
       "      <th>TCH</th>\n",
       "      <th>USA</th>\n",
       "    </tr>\n",
       "    <tr>\n",
       "      <th>Edition</th>\n",
       "      <th></th>\n",
       "      <th></th>\n",
       "      <th></th>\n",
       "      <th></th>\n",
       "      <th></th>\n",
       "      <th></th>\n",
       "      <th></th>\n",
       "      <th></th>\n",
       "      <th></th>\n",
       "      <th></th>\n",
       "      <th></th>\n",
       "      <th></th>\n",
       "      <th></th>\n",
       "      <th></th>\n",
       "      <th></th>\n",
       "      <th></th>\n",
       "      <th></th>\n",
       "      <th></th>\n",
       "      <th></th>\n",
       "      <th></th>\n",
       "      <th></th>\n",
       "    </tr>\n",
       "  </thead>\n",
       "  <tbody>\n",
       "    <tr>\n",
       "      <th>1904</th>\n",
       "      <td>0.000000</td>\n",
       "      <td>0.000000</td>\n",
       "      <td>0.000000</td>\n",
       "      <td>0.000000</td>\n",
       "      <td>0.000000</td>\n",
       "      <td>0.000000</td>\n",
       "      <td>0.000000</td>\n",
       "      <td>0.000000</td>\n",
       "      <td>0.000000</td>\n",
       "      <td>0.000000</td>\n",
       "      <td>...</td>\n",
       "      <td>0.000000</td>\n",
       "      <td>0.000000</td>\n",
       "      <td>0.000000</td>\n",
       "      <td>0.000000</td>\n",
       "      <td>0.0</td>\n",
       "      <td>0.000000</td>\n",
       "      <td>0.000000</td>\n",
       "      <td>0.000000</td>\n",
       "      <td>0.00</td>\n",
       "      <td>0.000000</td>\n",
       "    </tr>\n",
       "    <tr>\n",
       "      <th>1908</th>\n",
       "      <td>0.000000</td>\n",
       "      <td>0.000000</td>\n",
       "      <td>0.000000</td>\n",
       "      <td>0.457143</td>\n",
       "      <td>0.000000</td>\n",
       "      <td>0.000000</td>\n",
       "      <td>0.000000</td>\n",
       "      <td>172.500000</td>\n",
       "      <td>0.692308</td>\n",
       "      <td>0.500000</td>\n",
       "      <td>...</td>\n",
       "      <td>0.000000</td>\n",
       "      <td>0.000000</td>\n",
       "      <td>0.000000</td>\n",
       "      <td>0.000000</td>\n",
       "      <td>0.0</td>\n",
       "      <td>0.000000</td>\n",
       "      <td>0.000000</td>\n",
       "      <td>0.000000</td>\n",
       "      <td>0.00</td>\n",
       "      <td>-0.840102</td>\n",
       "    </tr>\n",
       "    <tr>\n",
       "      <th>1912</th>\n",
       "      <td>0.000000</td>\n",
       "      <td>13.000000</td>\n",
       "      <td>-0.387097</td>\n",
       "      <td>-0.843137</td>\n",
       "      <td>4.600000</td>\n",
       "      <td>1.310345</td>\n",
       "      <td>-0.285714</td>\n",
       "      <td>-0.538905</td>\n",
       "      <td>1.363636</td>\n",
       "      <td>-0.333333</td>\n",
       "      <td>...</td>\n",
       "      <td>2.000000</td>\n",
       "      <td>0.000000</td>\n",
       "      <td>1.000000</td>\n",
       "      <td>0.727273</td>\n",
       "      <td>0.0</td>\n",
       "      <td>2.500000</td>\n",
       "      <td>0.000000</td>\n",
       "      <td>0.765306</td>\n",
       "      <td>0.00</td>\n",
       "      <td>0.603175</td>\n",
       "    </tr>\n",
       "    <tr>\n",
       "      <th>1920</th>\n",
       "      <td>0.000000</td>\n",
       "      <td>0.000000</td>\n",
       "      <td>8.894737</td>\n",
       "      <td>1.000000</td>\n",
       "      <td>-0.107143</td>\n",
       "      <td>-0.268657</td>\n",
       "      <td>4.640000</td>\n",
       "      <td>-0.331250</td>\n",
       "      <td>0.000000</td>\n",
       "      <td>1.500000</td>\n",
       "      <td>...</td>\n",
       "      <td>3.000000</td>\n",
       "      <td>0.000000</td>\n",
       "      <td>1.181818</td>\n",
       "      <td>0.855263</td>\n",
       "      <td>0.0</td>\n",
       "      <td>2.000000</td>\n",
       "      <td>13.500000</td>\n",
       "      <td>-0.156069</td>\n",
       "      <td>0.00</td>\n",
       "      <td>0.910891</td>\n",
       "    </tr>\n",
       "    <tr>\n",
       "      <th>1924</th>\n",
       "      <td>0.666667</td>\n",
       "      <td>-0.714286</td>\n",
       "      <td>-0.797872</td>\n",
       "      <td>0.250000</td>\n",
       "      <td>-0.840000</td>\n",
       "      <td>0.061224</td>\n",
       "      <td>-0.134752</td>\n",
       "      <td>-0.383178</td>\n",
       "      <td>0.000000</td>\n",
       "      <td>0.000000</td>\n",
       "      <td>...</td>\n",
       "      <td>-0.392857</td>\n",
       "      <td>-0.666667</td>\n",
       "      <td>-0.458333</td>\n",
       "      <td>-0.815603</td>\n",
       "      <td>0.0</td>\n",
       "      <td>-0.857143</td>\n",
       "      <td>1.241379</td>\n",
       "      <td>-0.452055</td>\n",
       "      <td>0.00</td>\n",
       "      <td>0.025907</td>\n",
       "    </tr>\n",
       "    <tr>\n",
       "      <th>1928</th>\n",
       "      <td>-0.600000</td>\n",
       "      <td>0.000000</td>\n",
       "      <td>-0.868421</td>\n",
       "      <td>0.650000</td>\n",
       "      <td>0.083333</td>\n",
       "      <td>-0.519231</td>\n",
       "      <td>-0.704918</td>\n",
       "      <td>-0.166667</td>\n",
       "      <td>0.384615</td>\n",
       "      <td>0.000000</td>\n",
       "      <td>...</td>\n",
       "      <td>0.372549</td>\n",
       "      <td>7.000000</td>\n",
       "      <td>1.500000</td>\n",
       "      <td>-0.653846</td>\n",
       "      <td>0.0</td>\n",
       "      <td>1.000000</td>\n",
       "      <td>-0.553846</td>\n",
       "      <td>-0.550000</td>\n",
       "      <td>0.60</td>\n",
       "      <td>-0.575758</td>\n",
       "    </tr>\n",
       "    <tr>\n",
       "      <th>1932</th>\n",
       "      <td>0.250000</td>\n",
       "      <td>0.250000</td>\n",
       "      <td>0.000000</td>\n",
       "      <td>0.151515</td>\n",
       "      <td>-0.307692</td>\n",
       "      <td>0.160000</td>\n",
       "      <td>0.027778</td>\n",
       "      <td>-0.381818</td>\n",
       "      <td>-0.472222</td>\n",
       "      <td>0.000000</td>\n",
       "      <td>...</td>\n",
       "      <td>0.100000</td>\n",
       "      <td>2.875000</td>\n",
       "      <td>-0.815385</td>\n",
       "      <td>0.000000</td>\n",
       "      <td>1.0</td>\n",
       "      <td>-0.166667</td>\n",
       "      <td>-0.965517</td>\n",
       "      <td>-0.138889</td>\n",
       "      <td>-0.75</td>\n",
       "      <td>1.154762</td>\n",
       "    </tr>\n",
       "  </tbody>\n",
       "</table>\n",
       "<p>7 rows × 21 columns</p>\n",
       "</div>"
      ],
      "text/plain": [
       "NOC           AUS        AUT       BEL       CAN       DEN       FIN  \\\n",
       "Edition                                                                \n",
       "1904     0.000000   0.000000  0.000000  0.000000  0.000000  0.000000   \n",
       "1908     0.000000   0.000000  0.000000  0.457143  0.000000  0.000000   \n",
       "1912     0.000000  13.000000 -0.387097 -0.843137  4.600000  1.310345   \n",
       "1920     0.000000   0.000000  8.894737  1.000000 -0.107143 -0.268657   \n",
       "1924     0.666667  -0.714286 -0.797872  0.250000 -0.840000  0.061224   \n",
       "1928    -0.600000   0.000000 -0.868421  0.650000  0.083333 -0.519231   \n",
       "1932     0.250000   0.250000  0.000000  0.151515 -0.307692  0.160000   \n",
       "\n",
       "NOC           FRA         GBR       GER       GRE    ...          ITA  \\\n",
       "Edition                                              ...                \n",
       "1904     0.000000    0.000000  0.000000  0.000000    ...     0.000000   \n",
       "1908     0.000000  172.500000  0.692308  0.500000    ...     0.000000   \n",
       "1912    -0.285714   -0.538905  1.363636 -0.333333    ...     2.000000   \n",
       "1920     4.640000   -0.331250  0.000000  1.500000    ...     3.000000   \n",
       "1924    -0.134752   -0.383178  0.000000  0.000000    ...    -0.392857   \n",
       "1928    -0.704918   -0.166667  0.384615  0.000000    ...     0.372549   \n",
       "1932     0.027778   -0.381818 -0.472222  0.000000    ...     0.100000   \n",
       "\n",
       "NOC           JPN       NED       NOR  NZL       RSA        SUI       SWE  \\\n",
       "Edition                                                                     \n",
       "1904     0.000000  0.000000  0.000000  0.0  0.000000   0.000000  0.000000   \n",
       "1908     0.000000  0.000000  0.000000  0.0  0.000000   0.000000  0.000000   \n",
       "1912     0.000000  1.000000  0.727273  0.0  2.500000   0.000000  0.765306   \n",
       "1920     0.000000  1.181818  0.855263  0.0  2.000000  13.500000 -0.156069   \n",
       "1924    -0.666667 -0.458333 -0.815603  0.0 -0.857143   1.241379 -0.452055   \n",
       "1928     7.000000  1.500000 -0.653846  0.0  1.000000  -0.553846 -0.550000   \n",
       "1932     2.875000 -0.815385  0.000000  1.0 -0.166667  -0.965517 -0.138889   \n",
       "\n",
       "NOC       TCH       USA  \n",
       "Edition                  \n",
       "1904     0.00  0.000000  \n",
       "1908     0.00 -0.840102  \n",
       "1912     0.00  0.603175  \n",
       "1920     0.00  0.910891  \n",
       "1924     0.00  0.025907  \n",
       "1928     0.60 -0.575758  \n",
       "1932    -0.75  1.154762  \n",
       "\n",
       "[7 rows x 21 columns]"
      ]
     },
     "execution_count": 161,
     "metadata": {},
     "output_type": "execute_result"
    }
   ],
   "source": [
    "md_pivot_pct = md_pivot_pct.fillna(0)\n",
    "md_pivot_pct"
   ]
  },
  {
   "cell_type": "code",
   "execution_count": 162,
   "metadata": {
    "collapsed": false
   },
   "outputs": [
    {
     "data": {
      "text/plain": [
       "<matplotlib.axes._subplots.AxesSubplot at 0x119171080>"
      ]
     },
     "execution_count": 162,
     "metadata": {},
     "output_type": "execute_result"
    },
    {
     "data": {
      "image/png": "[encoded data removed]",
      "text/plain": [
       "<matplotlib.figure.Figure at 0x118f4f7f0>"
      ]
     },
     "metadata": {},
     "output_type": "display_data"
    }
   ],
   "source": [
    "md_pivot_pct.plot()"
   ]
  },
  {
   "cell_type": "code",
   "execution_count": 164,
   "metadata": {
    "collapsed": false
   },
   "outputs": [],
   "source": [
    "# from above, GBR increases nearly 200 times from 1904 to 1908, outlier\n",
    "md_pivot_pct2 = md_pivot_pct.drop('GBR', axis=1)"
   ]
  },
  {
   "cell_type": "code",
   "execution_count": 166,
   "metadata": {
    "collapsed": false
   },
   "outputs": [
    {
     "data": {
      "text/plain": [
       "<matplotlib.axes._subplots.AxesSubplot at 0x119669b00>"
      ]
     },
     "execution_count": 166,
     "metadata": {},
     "output_type": "execute_result"
    },
    {
     "data": {
      "image/png": "[encoded data removed]",
      "text/plain": [
       "<matplotlib.figure.Figure at 0x1196706d8>"
      ]
     },
     "metadata": {},
     "output_type": "display_data"
    }
   ],
   "source": [
    "md_pivot_pct2.plot(legend=False)"
   ]
  },
  {
   "cell_type": "code",
   "execution_count": 179,
   "metadata": {
    "collapsed": false
   },
   "outputs": [
    {
     "data": {
      "text/plain": [
       "NOC\n",
       "AUS    0\n",
       "AUT    1\n",
       "BEL    1\n",
       "CAN    0\n",
       "DEN    1\n",
       "FIN    0\n",
       "FRA    1\n",
       "GER    0\n",
       "GRE    0\n",
       "HUN    0\n",
       "ITA    0\n",
       "JPN    1\n",
       "NED    0\n",
       "NOR    0\n",
       "NZL    0\n",
       "RSA    0\n",
       "SUI    1\n",
       "SWE    0\n",
       "TCH    0\n",
       "USA    0\n",
       "dtype: int64"
      ]
     },
     "execution_count": 179,
     "metadata": {},
     "output_type": "execute_result"
    }
   ],
   "source": [
    "# from above, 看来不止一个风口。如果定义风口增速为上一年的四倍，看看有哪些国家在那些年份实现风口上的猪，增长超4倍\n",
    "(md_pivot_pct2 > 4).sum()"
   ]
  },
  {
   "cell_type": "code",
   "execution_count": 180,
   "metadata": {
    "collapsed": false
   },
   "outputs": [
    {
     "data": {
      "text/html": [
       "<div>\n",
       "<table border=\"1\" class=\"dataframe\">\n",
       "  <thead>\n",
       "    <tr style=\"text-align: right;\">\n",
       "      <th>NOC</th>\n",
       "      <th>GBR</th>\n",
       "      <th>AUT</th>\n",
       "      <th>BEL</th>\n",
       "      <th>DEN</th>\n",
       "      <th>FRA</th>\n",
       "      <th>JPN</th>\n",
       "      <th>SUI</th>\n",
       "    </tr>\n",
       "    <tr>\n",
       "      <th>Edition</th>\n",
       "      <th></th>\n",
       "      <th></th>\n",
       "      <th></th>\n",
       "      <th></th>\n",
       "      <th></th>\n",
       "      <th></th>\n",
       "      <th></th>\n",
       "    </tr>\n",
       "  </thead>\n",
       "  <tbody>\n",
       "    <tr>\n",
       "      <th>1904</th>\n",
       "      <td>0.000000</td>\n",
       "      <td>0.000000</td>\n",
       "      <td>0.000000</td>\n",
       "      <td>0.000000</td>\n",
       "      <td>0.000000</td>\n",
       "      <td>0.000000</td>\n",
       "      <td>0.000000</td>\n",
       "    </tr>\n",
       "    <tr>\n",
       "      <th>1908</th>\n",
       "      <td>172.500000</td>\n",
       "      <td>0.000000</td>\n",
       "      <td>0.000000</td>\n",
       "      <td>0.000000</td>\n",
       "      <td>0.000000</td>\n",
       "      <td>0.000000</td>\n",
       "      <td>0.000000</td>\n",
       "    </tr>\n",
       "    <tr>\n",
       "      <th>1912</th>\n",
       "      <td>-0.538905</td>\n",
       "      <td>13.000000</td>\n",
       "      <td>-0.387097</td>\n",
       "      <td>4.600000</td>\n",
       "      <td>-0.285714</td>\n",
       "      <td>0.000000</td>\n",
       "      <td>0.000000</td>\n",
       "    </tr>\n",
       "    <tr>\n",
       "      <th>1920</th>\n",
       "      <td>-0.331250</td>\n",
       "      <td>0.000000</td>\n",
       "      <td>8.894737</td>\n",
       "      <td>-0.107143</td>\n",
       "      <td>4.640000</td>\n",
       "      <td>0.000000</td>\n",
       "      <td>13.500000</td>\n",
       "    </tr>\n",
       "    <tr>\n",
       "      <th>1924</th>\n",
       "      <td>-0.383178</td>\n",
       "      <td>-0.714286</td>\n",
       "      <td>-0.797872</td>\n",
       "      <td>-0.840000</td>\n",
       "      <td>-0.134752</td>\n",
       "      <td>-0.666667</td>\n",
       "      <td>1.241379</td>\n",
       "    </tr>\n",
       "    <tr>\n",
       "      <th>1928</th>\n",
       "      <td>-0.166667</td>\n",
       "      <td>0.000000</td>\n",
       "      <td>-0.868421</td>\n",
       "      <td>0.083333</td>\n",
       "      <td>-0.704918</td>\n",
       "      <td>7.000000</td>\n",
       "      <td>-0.553846</td>\n",
       "    </tr>\n",
       "    <tr>\n",
       "      <th>1932</th>\n",
       "      <td>-0.381818</td>\n",
       "      <td>0.250000</td>\n",
       "      <td>0.000000</td>\n",
       "      <td>-0.307692</td>\n",
       "      <td>0.027778</td>\n",
       "      <td>2.875000</td>\n",
       "      <td>-0.965517</td>\n",
       "    </tr>\n",
       "  </tbody>\n",
       "</table>\n",
       "</div>"
      ],
      "text/plain": [
       "NOC             GBR        AUT       BEL       DEN       FRA       JPN  \\\n",
       "Edition                                                                  \n",
       "1904       0.000000   0.000000  0.000000  0.000000  0.000000  0.000000   \n",
       "1908     172.500000   0.000000  0.000000  0.000000  0.000000  0.000000   \n",
       "1912      -0.538905  13.000000 -0.387097  4.600000 -0.285714  0.000000   \n",
       "1920      -0.331250   0.000000  8.894737 -0.107143  4.640000  0.000000   \n",
       "1924      -0.383178  -0.714286 -0.797872 -0.840000 -0.134752 -0.666667   \n",
       "1928      -0.166667   0.000000 -0.868421  0.083333 -0.704918  7.000000   \n",
       "1932      -0.381818   0.250000  0.000000 -0.307692  0.027778  2.875000   \n",
       "\n",
       "NOC            SUI  \n",
       "Edition             \n",
       "1904      0.000000  \n",
       "1908      0.000000  \n",
       "1912      0.000000  \n",
       "1920     13.500000  \n",
       "1924      1.241379  \n",
       "1928     -0.553846  \n",
       "1932     -0.965517  "
      ]
     },
     "execution_count": 180,
     "metadata": {},
     "output_type": "execute_result"
    }
   ],
   "source": [
    "md_pivot_pct[['GBR', 'AUT', 'BEL', 'DEN', 'FRA', 'JPN', 'SUI']]"
   ]
  },
  {
   "cell_type": "code",
   "execution_count": 181,
   "metadata": {
    "collapsed": false
   },
   "outputs": [
    {
     "data": {
      "text/html": [
       "<div>\n",
       "<table border=\"1\" class=\"dataframe\">\n",
       "  <thead>\n",
       "    <tr style=\"text-align: right;\">\n",
       "      <th>NOC</th>\n",
       "      <th>GBR</th>\n",
       "      <th>AUT</th>\n",
       "      <th>BEL</th>\n",
       "      <th>DEN</th>\n",
       "      <th>FRA</th>\n",
       "      <th>JPN</th>\n",
       "      <th>SUI</th>\n",
       "    </tr>\n",
       "    <tr>\n",
       "      <th>Edition</th>\n",
       "      <th></th>\n",
       "      <th></th>\n",
       "      <th></th>\n",
       "      <th></th>\n",
       "      <th></th>\n",
       "      <th></th>\n",
       "      <th></th>\n",
       "    </tr>\n",
       "  </thead>\n",
       "  <tbody>\n",
       "    <tr>\n",
       "      <th>1904</th>\n",
       "      <td>2.0</td>\n",
       "      <td>1.0</td>\n",
       "      <td>NaN</td>\n",
       "      <td>NaN</td>\n",
       "      <td>NaN</td>\n",
       "      <td>NaN</td>\n",
       "      <td>2.0</td>\n",
       "    </tr>\n",
       "    <tr>\n",
       "      <th>1908</th>\n",
       "      <td>347.0</td>\n",
       "      <td>1.0</td>\n",
       "      <td>31.0</td>\n",
       "      <td>15.0</td>\n",
       "      <td>35.0</td>\n",
       "      <td>NaN</td>\n",
       "      <td>NaN</td>\n",
       "    </tr>\n",
       "    <tr>\n",
       "      <th>1912</th>\n",
       "      <td>160.0</td>\n",
       "      <td>14.0</td>\n",
       "      <td>19.0</td>\n",
       "      <td>84.0</td>\n",
       "      <td>25.0</td>\n",
       "      <td>NaN</td>\n",
       "      <td>NaN</td>\n",
       "    </tr>\n",
       "    <tr>\n",
       "      <th>1920</th>\n",
       "      <td>107.0</td>\n",
       "      <td>NaN</td>\n",
       "      <td>188.0</td>\n",
       "      <td>75.0</td>\n",
       "      <td>141.0</td>\n",
       "      <td>3.0</td>\n",
       "      <td>29.0</td>\n",
       "    </tr>\n",
       "    <tr>\n",
       "      <th>1924</th>\n",
       "      <td>66.0</td>\n",
       "      <td>4.0</td>\n",
       "      <td>38.0</td>\n",
       "      <td>12.0</td>\n",
       "      <td>122.0</td>\n",
       "      <td>1.0</td>\n",
       "      <td>65.0</td>\n",
       "    </tr>\n",
       "    <tr>\n",
       "      <th>1928</th>\n",
       "      <td>55.0</td>\n",
       "      <td>4.0</td>\n",
       "      <td>5.0</td>\n",
       "      <td>13.0</td>\n",
       "      <td>36.0</td>\n",
       "      <td>8.0</td>\n",
       "      <td>29.0</td>\n",
       "    </tr>\n",
       "    <tr>\n",
       "      <th>1932</th>\n",
       "      <td>34.0</td>\n",
       "      <td>5.0</td>\n",
       "      <td>NaN</td>\n",
       "      <td>9.0</td>\n",
       "      <td>37.0</td>\n",
       "      <td>31.0</td>\n",
       "      <td>1.0</td>\n",
       "    </tr>\n",
       "  </tbody>\n",
       "</table>\n",
       "</div>"
      ],
      "text/plain": [
       "NOC        GBR   AUT    BEL   DEN    FRA   JPN   SUI\n",
       "Edition                                             \n",
       "1904       2.0   1.0    NaN   NaN    NaN   NaN   2.0\n",
       "1908     347.0   1.0   31.0  15.0   35.0   NaN   NaN\n",
       "1912     160.0  14.0   19.0  84.0   25.0   NaN   NaN\n",
       "1920     107.0   NaN  188.0  75.0  141.0   3.0  29.0\n",
       "1924      66.0   4.0   38.0  12.0  122.0   1.0  65.0\n",
       "1928      55.0   4.0    5.0  13.0   36.0   8.0  29.0\n",
       "1932      34.0   5.0    NaN   9.0   37.0  31.0   1.0"
      ]
     },
     "execution_count": 181,
     "metadata": {},
     "output_type": "execute_result"
    }
   ],
   "source": [
    "md_pivot[['GBR', 'AUT', 'BEL', 'DEN', 'FRA', 'JPN', 'SUI']]"
   ]
  },
  {
   "cell_type": "code",
   "execution_count": null,
   "metadata": {
    "collapsed": true
   },
   "outputs": [],
   "source": [
    "# 尼玛遍布下去了"
   ]
  },
  {
   "cell_type": "markdown",
   "metadata": {},
   "source": [
    "## 累计最多奖牌的国家，这26年中每年奖牌的趋势"
   ]
  },
  {
   "cell_type": "code",
   "execution_count": 186,
   "metadata": {
    "collapsed": false
   },
   "outputs": [],
   "source": [
    "md_by_noc = medals.groupby('NOC')['Medal'].count().sort_values(ascending=False)"
   ]
  },
  {
   "cell_type": "code",
   "execution_count": 202,
   "metadata": {
    "collapsed": false
   },
   "outputs": [
    {
     "data": {
      "text/plain": [
       "NOC\n",
       "USA    4335\n",
       "URS    2049\n",
       "GBR    1594\n",
       "FRA    1314\n",
       "ITA    1228\n",
       "GER    1211\n",
       "Name: Medal, dtype: int64"
      ]
     },
     "execution_count": 202,
     "metadata": {},
     "output_type": "execute_result"
    }
   ],
   "source": [
    "md_by_noc.iloc[0:6]"
   ]
  },
  {
   "cell_type": "code",
   "execution_count": 203,
   "metadata": {
    "collapsed": true
   },
   "outputs": [],
   "source": [
    "ctr_lst = ['USA', 'URS', 'GBR', 'FRA', 'ITA', 'GER']"
   ]
  },
  {
   "cell_type": "code",
   "execution_count": 204,
   "metadata": {
    "collapsed": false
   },
   "outputs": [
    {
     "data": {
      "text/plain": [
       "<matplotlib.axes._subplots.AxesSubplot at 0x1198d57b8>"
      ]
     },
     "execution_count": 204,
     "metadata": {},
     "output_type": "execute_result"
    },
    {
     "data": {
      "image/png": "[encoded data removed]",
      "text/plain": [
       "<matplotlib.figure.Figure at 0x11983ccc0>"
      ]
     },
     "metadata": {},
     "output_type": "display_data"
    }
   ],
   "source": [
    "md_pivot[['USA', 'URS', 'GBR', 'FRA', 'ITA', 'GER']].plot()"
   ]
  },
  {
   "cell_type": "code",
   "execution_count": null,
   "metadata": {
    "collapsed": true
   },
   "outputs": [],
   "source": []
  }
 ],
 "metadata": {
  "anaconda-cloud": {},
  "kernelspec": {
   "display_name": "Python [default]",
   "language": "python",
   "name": "python3"
  },
  "language_info": {
   "codemirror_mode": {
    "name": "ipython",
    "version": 3
   },
   "file_extension": ".py",
   "mimetype": "text/x-python",
   "name": "python",
   "nbconvert_exporter": "python",
   "pygments_lexer": "ipython3",
   "version": "3.5.2"
  }
 },
 "nbformat": 4,
 "nbformat_minor": 1
}
