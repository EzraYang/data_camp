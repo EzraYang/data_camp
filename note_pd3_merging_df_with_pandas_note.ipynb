{
 "cells": [
  {
   "cell_type": "markdown",
   "metadata": {
    "toc": "true"
   },
   "source": [
    "# Table of Contents\n",
    " <p><div class=\"lev1 toc-item\"><a href=\"#1-preparing-data\" data-toc-modified-id=\"1-preparing-data-1\"><span class=\"toc-item-num\">1&nbsp;&nbsp;</span>1 preparing data</a></div><div class=\"lev2 toc-item\"><a href=\"#1.1-reading-multiple-data-files\" data-toc-modified-id=\"1.1-reading-multiple-data-files-11\"><span class=\"toc-item-num\">1.1&nbsp;&nbsp;</span>1.1 reading multiple data files</a></div><div class=\"lev2 toc-item\"><a href=\"#1.2-reindex-dataframes\" data-toc-modified-id=\"1.2-reindex-dataframes-12\"><span class=\"toc-item-num\">1.2&nbsp;&nbsp;</span>1.2 reindex dataframes</a></div><div class=\"lev2 toc-item\"><a href=\"#1.3-arithmetic-between-series-&amp;-dataframes\" data-toc-modified-id=\"1.3-arithmetic-between-series-&amp;-dataframes-13\"><span class=\"toc-item-num\">1.3&nbsp;&nbsp;</span>1.3 arithmetic between series &amp; dataframes</a></div><div class=\"lev1 toc-item\"><a href=\"#2-Concatenating-data\" data-toc-modified-id=\"2-Concatenating-data-2\"><span class=\"toc-item-num\">2&nbsp;&nbsp;</span>2 Concatenating data</a></div><div class=\"lev2 toc-item\"><a href=\"#2.1-appending--&amp;concatenating-series\" data-toc-modified-id=\"2.1-appending--&amp;concatenating-series-21\"><span class=\"toc-item-num\">2.1&nbsp;&nbsp;</span>2.1 appending  &amp;concatenating series</a></div><div class=\"lev2 toc-item\"><a href=\"#2.2-appending-&amp;-concatenating-dataframes\" data-toc-modified-id=\"2.2-appending-&amp;-concatenating-dataframes-22\"><span class=\"toc-item-num\">2.2&nbsp;&nbsp;</span>2.2 appending &amp; concatenating dataframes</a></div><div class=\"lev2 toc-item\"><a href=\"#2.3-concatenation,-keys,-multiIndexes\" data-toc-modified-id=\"2.3-concatenation,-keys,-multiIndexes-23\"><span class=\"toc-item-num\">2.3&nbsp;&nbsp;</span>2.3 concatenation, keys, multiIndexes</a></div><div class=\"lev2 toc-item\"><a href=\"#2.4-outer-&amp;-inner-joins\" data-toc-modified-id=\"2.4-outer-&amp;-inner-joins-24\"><span class=\"toc-item-num\">2.4&nbsp;&nbsp;</span>2.4 outer &amp; inner joins</a></div><div class=\"lev1 toc-item\"><a href=\"#3-joining-and-merging-dataframes\" data-toc-modified-id=\"3-joining-and-merging-dataframes-3\"><span class=\"toc-item-num\">3&nbsp;&nbsp;</span>3 joining and merging dataframes</a></div>"
   ]
  },
  {
   "cell_type": "markdown",
   "metadata": {
    "nbpresent": {
     "id": "b0c5ea1c-4649-4294-943c-bbc680da0e6f"
    }
   },
   "source": [
    "# 1 preparing data"
   ]
  },
  {
   "cell_type": "markdown",
   "metadata": {
    "nbpresent": {
     "id": "8cee6ac3-31cb-4c7c-a909-827a45034d22"
    }
   },
   "source": [
    "## 1.1 reading multiple data files"
   ]
  },
  {
   "cell_type": "code",
   "execution_count": null,
   "metadata": {
    "collapsed": true,
    "nbpresent": {
     "id": "6e9fe56c-47b1-43a2-9404-e01e0d566d74"
    }
   },
   "outputs": [],
   "source": [
    "# pd.read_系列\n",
    "pd.read_csv(filepath)\n",
    "pd.read_excel(filepath)\n",
    "pd.read_html(filepath)\n",
    "pd.read_json(filepath)"
   ]
  },
  {
   "cell_type": "code",
   "execution_count": null,
   "metadata": {
    "collapsed": true,
    "nbpresent": {
     "id": "3feb1b93-f65b-41a2-bfb7-cb251e9b8bfc"
    }
   },
   "outputs": [],
   "source": [
    "# load files seperatly\n",
    "df0 = pd.read_csv(filepath0)\n",
    "df1 = pd.read_csv(filepath1)\n",
    "\n",
    "# use a loop (1)\n",
    "files = [filepath0, filepath1]\n",
    "\n",
    "dataframes = []\n",
    "\n",
    "for f in files:\n",
    "    dataframes.append(pd.read_csv(f))\n",
    "    \n",
    "pd.concat(dataframes)\n",
    "    \n",
    "# use a loop (2)\n",
    "files = [filepath0, filepath1]\n",
    "\n",
    "dataframes = [pd.read_csv(f) for f in files]  # get a list of df\n",
    "\n",
    "pd.concat(dataframes)  # merge them into one df\n",
    "\n",
    "# import glob to use wildcard\n",
    "from glob import glob\n",
    "\n",
    "filenames = glob('sales*.csv')\n",
    "dataframes = [pd.read_csv(f) for f in filenames]\n",
    "\n",
    "pd.concat(dataframes)"
   ]
  },
  {
   "cell_type": "markdown",
   "metadata": {
    "nbpresent": {
     "id": "ebce51da-cb26-4bd4-8439-8201ad14f2cc"
    }
   },
   "source": [
    "## 1.2 reindex dataframes"
   ]
  },
  {
   "cell_type": "code",
   "execution_count": 120,
   "metadata": {
    "nbpresent": {
     "id": "014ea4fb-4bc2-452b-adbb-1e4b1a8e218b"
    }
   },
   "outputs": [
    {
     "data": {
      "text/plain": [
       "Index(['Apr', 'Jan', 'Jul', 'Oct'], dtype='object', name='Month')"
      ]
     },
     "execution_count": 120,
     "metadata": {},
     "output_type": "execute_result"
    }
   ],
   "source": [
    "# two dataframes\n",
    "w_mean = pd.DataFrame({'Mean TemperatureF':[61.956044, \n",
    "                                            32.133333, \n",
    "                                            68.934783, \n",
    "                                            43.434783],\n",
    "                       'Month':['Apr', 'Jan', 'Jul', 'Oct']}).set_index('Month')\n",
    "\n",
    "w_mean.index    # index is in alphabetical order"
   ]
  },
  {
   "cell_type": "code",
   "execution_count": 121,
   "metadata": {
    "nbpresent": {
     "id": "728424dd-5ebb-4b61-8b95-58f4e0029c76"
    }
   },
   "outputs": [
    {
     "data": {
      "text/plain": [
       "Index(['Jan', 'Apr', 'Jul', 'Oct'], dtype='object', name='Month')"
      ]
     },
     "execution_count": 121,
     "metadata": {},
     "output_type": "execute_result"
    }
   ],
   "source": [
    "# two dataframes\n",
    "w_max = pd.DataFrame({'Max TemperatureF':[68, \n",
    "                                            89, \n",
    "                                            91, \n",
    "                                            84],\n",
    "                       'Month':['Jan', 'Apr',  'Jul', 'Oct']}).set_index('Month')\n",
    "\n",
    "w_max.index    # index is in chronological order"
   ]
  },
  {
   "cell_type": "code",
   "execution_count": null,
   "metadata": {
    "collapsed": true,
    "nbpresent": {
     "id": "f7997285-d5a7-4c66-917a-1bad79fe5a33"
    }
   },
   "outputs": [],
   "source": [
    "# using .reindex() to change order into one you desire\n",
    "ordered = ['Jan', 'Apr', 'Jul', 'Oct']\n",
    "\n",
    "w_mean.reindex(ordered) == w_mean.reindex(w_max.index)  # get element-wise true\n",
    "                                                        # both chronological order\n",
    "    \n",
    "w_mean2 = w_mean.reindex(ordered)    # get chronological order\n",
    "\n",
    "w_mean2.sort_index()    # .sort_index() sorts back in alphabetical order"
   ]
  },
  {
   "cell_type": "code",
   "execution_count": 123,
   "metadata": {
    "nbpresent": {
     "id": "4cec4d2c-9103-46b3-9215-e9ed8fa56c3e"
    }
   },
   "outputs": [
    {
     "data": {
      "text/html": [
       "<div>\n",
       "<table border=\"1\" class=\"dataframe\">\n",
       "  <thead>\n",
       "    <tr style=\"text-align: right;\">\n",
       "      <th></th>\n",
       "      <th>Mean TemperatureF</th>\n",
       "    </tr>\n",
       "    <tr>\n",
       "      <th>Month</th>\n",
       "      <th></th>\n",
       "    </tr>\n",
       "  </thead>\n",
       "  <tbody>\n",
       "    <tr>\n",
       "      <th>Jan</th>\n",
       "      <td>32.133333</td>\n",
       "    </tr>\n",
       "    <tr>\n",
       "      <th>Apr</th>\n",
       "      <td>61.956044</td>\n",
       "    </tr>\n",
       "    <tr>\n",
       "      <th>Dec</th>\n",
       "      <td>NaN</td>\n",
       "    </tr>\n",
       "  </tbody>\n",
       "</table>\n",
       "</div>"
      ],
      "text/plain": [
       "       Mean TemperatureF\n",
       "Month                   \n",
       "Jan            32.133333\n",
       "Apr            61.956044\n",
       "Dec                  NaN"
      ]
     },
     "execution_count": 123,
     "metadata": {},
     "output_type": "execute_result"
    }
   ],
   "source": [
    "# reindex with missing labels\n",
    "w_mean3 = w_mean.reindex(['Jan', 'Apr', 'Dec'])\n",
    "w_mean3\n",
    "\n",
    "w_mean3.dropna()    # then can call .dropna() to drop the NaN row\n",
    "# or\n",
    "w_mean3.ffill()     # fill missing vals forward or backward\n",
    "w_mean3.bfill()"
   ]
  },
  {
   "cell_type": "markdown",
   "metadata": {
    "nbpresent": {
     "id": "91669fa0-9719-4073-8789-85dee1a3b4fd"
    }
   },
   "source": [
    "## 1.3 arithmetic between series & dataframes"
   ]
  },
  {
   "cell_type": "markdown",
   "metadata": {
    "nbpresent": {
     "id": "1c074771-9254-43f2-b71e-e255cd9cac29"
    }
   },
   "source": [
    "* .divide offers more flexibility   \n",
    "虽然不是很能理解 .divide(..., axis='row')\n",
    "\n",
    "![](http://upload-images.jianshu.io/upload_images/1526845-40446af0ce993464.png?imageMogr2/auto-orient/strip%7CimageView2/2/w/1240)"
   ]
  },
  {
   "cell_type": "markdown",
   "metadata": {
    "nbpresent": {
     "id": "938f4224-49f0-491d-a918-1fef045eea02"
    }
   },
   "source": [
    "* .add() offers more flexibility\n",
    "\n",
    "![](http://upload-images.jianshu.io/upload_images/1526845-a7959182a6161f80.png?imageMogr2/auto-orient/strip%7CimageView2/2/w/1240)"
   ]
  },
  {
   "cell_type": "markdown",
   "metadata": {
    "collapsed": true,
    "nbpresent": {
     "id": "931dc70a-9178-48f5-aa00-40c25c3e3bc5"
    }
   },
   "source": [
    "# 2 Concatenating data"
   ]
  },
  {
   "cell_type": "markdown",
   "metadata": {
    "collapsed": true,
    "nbpresent": {
     "id": "1882c951-9333-4643-b52f-5356604285d5"
    }
   },
   "source": [
    "## 2.1 appending  &concatenating series"
   ]
  },
  {
   "cell_type": "code",
   "execution_count": null,
   "metadata": {
    "collapsed": true,
    "nbpresent": {
     "id": "1d4fa58f-1244-40d0-bff9-14179c889291"
    }
   },
   "outputs": [],
   "source": [
    "# .append()  stacking rows vertically\n",
    "s1.append(s2)\n",
    "\n",
    "# pd.concat()  can stack vertically or horizontally\n",
    "pd.concat([s1, s2, s3])\n",
    "\n",
    "# by default, these two method keep index of all original series\n",
    "# so there will be occasions where the same one index responding to two vals\n",
    "# to drop index when appending & concatenating\n",
    "s1.append(s2).reset_index(drop=True)\n",
    "\n",
    "pd.concat([s1, s2], ignore_index=True)"
   ]
  },
  {
   "cell_type": "markdown",
   "metadata": {
    "nbpresent": {
     "id": "9b86cf6f-ed37-44b1-81fb-0a1d163164e2"
    }
   },
   "source": [
    "## 2.2 appending & concatenating dataframes"
   ]
  },
  {
   "cell_type": "code",
   "execution_count": null,
   "metadata": {
    "collapsed": true,
    "nbpresent": {
     "id": "3bf3ddae-3df7-48e2-a93c-0d06c1a1b8d7"
    }
   },
   "outputs": [],
   "source": [
    "# .append()  stack vertically\n",
    "df1.append(df2)  # when diff cols, fill missing val with NaN\n",
    "\n",
    "# pd.concat()  can stack both direction, fill missing val with NaN \n",
    "# by default concat on cols with same name (as many as possible)\n",
    "pd.concat([s1, s2], axis=0)  # stack horizontally/concat by rows\n",
    "pd.concat([s1, s2], axis=1)  # stack vertically/concat by columns"
   ]
  },
  {
   "cell_type": "markdown",
   "metadata": {
    "nbpresent": {
     "id": "9b281cda-bb76-4c58-83d7-7e2b082a7776"
    }
   },
   "source": [
    "## 2.3 concatenation, keys, multiIndexes"
   ]
  },
  {
   "cell_type": "code",
   "execution_count": null,
   "metadata": {
    "collapsed": true,
    "nbpresent": {
     "id": "34c39885-eaf8-42ad-87c4-2aeeee62f130"
    }
   },
   "outputs": [],
   "source": [
    "# keys=[] specifying the source df, \n",
    "# causing multi level indx\n",
    "rain1314 = pd.concat([rain2013, rain2014], keys=[2013, 2014], axis=0)\n",
    "\n",
    "# causing multi level columns\n",
    "rain1314 = pd.concat([rain2013, rain2014], keys=[2013, 2014], axis='columns')\n",
    "\n",
    "# source-df pairs as key-value pais\n",
    "rain_dict = {2013: rain2013, 2014: rain2014}\n",
    "rain1314 = pd.concat(rain_dict, axis='columns')\n"
   ]
  },
  {
   "cell_type": "code",
   "execution_count": null,
   "metadata": {
    "collapsed": true,
    "nbpresent": {
     "id": "c40a2f4b-4fd6-421e-a556-f453fcf5f1aa"
    }
   },
   "outputs": [],
   "source": [
    "# slicing with multi index df\n",
    "\n",
    "    # one way, use slice()\n",
    "df.loc[ (slice(None), slice(indxB1, indxB2)),\n",
    "       : ]  # all outer index level\n",
    "            # and some of the inner index level\n",
    "    \n",
    "    # another, use pd.IndexSlice\n",
    "idx = pd.IndexSlice\n",
    "df.loc[ idx[:， indxB], idx[colA] ] # all outer index levels\n",
    "                                    # one inner index level (indxB)"
   ]
  },
  {
   "cell_type": "markdown",
   "metadata": {
    "nbpresent": {
     "id": "90d89f37-e1c9-4a2e-8348-34318b3eb3db"
    }
   },
   "source": [
    "## 2.4 outer & inner joins"
   ]
  },
  {
   "cell_type": "code",
   "execution_count": null,
   "metadata": {
    "collapsed": true,
    "nbpresent": {
     "id": "b8e6c87d-7aa6-4acc-93b3-dc138a8b7a4e"
    }
   },
   "outputs": [],
   "source": [
    "# pd.concat() by default do an outer join\n",
    "pd.concat([df1, df2], axis=1, join='inner')\n",
    "\n",
    "pd.concat([df1, df2], axis=1, join='outer')"
   ]
  },
  {
   "cell_type": "markdown",
   "metadata": {
    "nbpresent": {
     "id": "b481f14c-4756-4c37-81c8-7f7452e1a5c8"
    }
   },
   "source": [
    "# 3 joining and merging dataframes"
   ]
  },
  {
   "cell_type": "code",
   "execution_count": null,
   "metadata": {
    "collapsed": true,
    "nbpresent": {
     "id": "82b863cf-00ed-4567-aef7-fc5af94ba193"
    }
   },
   "outputs": [],
   "source": [
    "# .join and pd.merge() both concat by columns/stack horiontally\n",
    "\n",
    "# .join\n",
    "df1.join(df2)    # by default left join (how='left')\n",
    "                 # **join on index**\n",
    "    \n",
    "df1.join(df2, how='right')\n",
    "df1.join(df2, how='outer')\n",
    "df1.join(df2, how='inner')\n",
    "\n",
    "\n",
    "# pd.merge()\n",
    "pd.merge(df1, df2)   # by default an inner join\n",
    "                     # by default merge on same-name-cols as many as possible\n",
    "\n",
    "pd.merge(bronze, gold, on='NOC')\n",
    "\n",
    "pd.merge(bronze, gold, \n",
    "         on=['NOC', 'Country'])  # vals of the cols have to be \n",
    "                                 # the same to join other cols\n",
    "\n",
    "pd.merge(bronze, gold, \n",
    "         on=['NOC', 'Country'], \n",
    "         suffixes=['_bronze', '_gold'])  # specify the source\n",
    "\n",
    "pd.merge(cities, counties, \n",
    "         left_on='City', right_on='CITY NAME') # diff colname with same content\n",
    "\n",
    "pd.merge(bronze, gold, on=['NOC', 'Country'],\n",
    "         suffixes=['_bronze', '_gold'], \n",
    "         how='inner')"
   ]
  },
  {
   "cell_type": "markdown",
   "metadata": {
    "nbpresent": {
     "id": "99808924-fd54-4e84-bf83-f250297684c1"
    }
   },
   "source": [
    "\n",
    "![](http://upload-images.jianshu.io/upload_images/1526845-b752d7372a7dcb0f.png?imageMogr2/auto-orient/strip%7CimageView2/2/w/1240)"
   ]
  },
  {
   "cell_type": "code",
   "execution_count": null,
   "metadata": {
    "collapsed": true,
    "nbpresent": {
     "id": "f5b3cedf-381b-4064-aa63-c53540d8ecee"
    }
   },
   "outputs": [],
   "source": []
  },
  {
   "cell_type": "code",
   "execution_count": null,
   "metadata": {
    "collapsed": true,
    "nbpresent": {
     "id": "9958808f-0e10-40dd-a362-f547b160d4d9"
    }
   },
   "outputs": [],
   "source": []
  },
  {
   "cell_type": "code",
   "execution_count": null,
   "metadata": {
    "collapsed": true,
    "nbpresent": {
     "id": "b0ff8751-265c-40cf-ad5c-d8b61eca02c7"
    }
   },
   "outputs": [],
   "source": []
  },
  {
   "cell_type": "code",
   "execution_count": null,
   "metadata": {
    "collapsed": true,
    "nbpresent": {
     "id": "24881e52-bf41-47b3-b742-26338a13e3c4"
    }
   },
   "outputs": [],
   "source": []
  },
  {
   "cell_type": "code",
   "execution_count": null,
   "metadata": {
    "collapsed": true,
    "nbpresent": {
     "id": "f9f46abb-c3c9-49f9-9a94-d58029bc9e77"
    }
   },
   "outputs": [],
   "source": []
  },
  {
   "cell_type": "code",
   "execution_count": null,
   "metadata": {
    "collapsed": true,
    "nbpresent": {
     "id": "650e9766-9500-414d-bbea-4b6ce17df491"
    }
   },
   "outputs": [],
   "source": []
  },
  {
   "cell_type": "code",
   "execution_count": null,
   "metadata": {
    "collapsed": true,
    "nbpresent": {
     "id": "0fd62aaf-2b68-47b9-ab55-3cb52be97766"
    }
   },
   "outputs": [],
   "source": []
  },
  {
   "cell_type": "code",
   "execution_count": null,
   "metadata": {
    "collapsed": true,
    "nbpresent": {
     "id": "c921f502-4e06-407b-a62c-e67953b9a784"
    }
   },
   "outputs": [],
   "source": []
  },
  {
   "cell_type": "code",
   "execution_count": null,
   "metadata": {
    "collapsed": true,
    "nbpresent": {
     "id": "7c0d5fb0-2671-44ab-a6f4-0192724a20fd"
    }
   },
   "outputs": [],
   "source": []
  },
  {
   "cell_type": "code",
   "execution_count": null,
   "metadata": {
    "collapsed": true,
    "nbpresent": {
     "id": "60a17385-aac5-42cd-9d76-1747050a4308"
    }
   },
   "outputs": [],
   "source": []
  },
  {
   "cell_type": "code",
   "execution_count": null,
   "metadata": {
    "collapsed": true,
    "nbpresent": {
     "id": "dd6dc166-472a-4d6a-8eff-d109173f6faf"
    }
   },
   "outputs": [],
   "source": []
  },
  {
   "cell_type": "code",
   "execution_count": null,
   "metadata": {
    "collapsed": true,
    "nbpresent": {
     "id": "51267694-1140-473d-9b12-94f711801349"
    }
   },
   "outputs": [],
   "source": []
  },
  {
   "cell_type": "code",
   "execution_count": null,
   "metadata": {
    "collapsed": true,
    "nbpresent": {
     "id": "242513a0-9ba6-4ca3-b75d-f892e4f2753b"
    }
   },
   "outputs": [],
   "source": []
  }
 ],
 "metadata": {
  "anaconda-cloud": {},
  "kernelspec": {
   "display_name": "Python [default]",
   "language": "python",
   "name": "python3"
  },
  "language_info": {
   "codemirror_mode": {
    "name": "ipython",
    "version": 3
   },
   "file_extension": ".py",
   "mimetype": "text/x-python",
   "name": "python",
   "nbconvert_exporter": "python",
   "pygments_lexer": "ipython3",
   "version": "3.5.2"
  },
  "nbpresent": {
   "slides": {
    "00105bf4-e949-4f58-b1d4-0e5a18a92bf7": {
     "id": "00105bf4-e949-4f58-b1d4-0e5a18a92bf7",
     "prev": "daae3be5-d953-4e1f-ad62-8a5bc2dac7b9",
     "regions": {
      "2bca4147-72cf-4d00-9342-4440311b192c": {
       "attrs": {
        "height": 0.8,
        "width": 0.8,
        "x": 0.1,
        "y": 0.1
       },
       "content": {
        "cell": "728424dd-5ebb-4b61-8b95-58f4e0029c76",
        "part": "whole"
       },
       "id": "2bca4147-72cf-4d00-9342-4440311b192c"
      }
     }
    },
    "14e45644-ac14-499f-905f-11af0f5e2ec2": {
     "id": "14e45644-ac14-499f-905f-11af0f5e2ec2",
     "prev": "370a34fa-1edc-4b98-b623-67021b42e513",
     "regions": {
      "4308f628-86fe-4385-81ed-4d2aa525ef14": {
       "attrs": {
        "height": 0.8,
        "width": 0.8,
        "x": 0.1,
        "y": 0.1
       },
       "content": {
        "cell": "51267694-1140-473d-9b12-94f711801349",
        "part": "whole"
       },
       "id": "4308f628-86fe-4385-81ed-4d2aa525ef14"
      }
     }
    },
    "156debf6-bd3f-4369-a246-85e5910ef865": {
     "id": "156debf6-bd3f-4369-a246-85e5910ef865",
     "prev": "991f791c-ee96-4471-83bb-71924ac14906",
     "regions": {
      "bd0137f0-ce2d-4be5-a0be-b73885410bca": {
       "attrs": {
        "height": 0.8,
        "width": 0.8,
        "x": 0.1,
        "y": 0.1
       },
       "content": {
        "cell": "0fd62aaf-2b68-47b9-ab55-3cb52be97766",
        "part": "whole"
       },
       "id": "bd0137f0-ce2d-4be5-a0be-b73885410bca"
      }
     }
    },
    "1e4eb514-4ff9-4cf8-adbe-6cab03dcda41": {
     "id": "1e4eb514-4ff9-4cf8-adbe-6cab03dcda41",
     "prev": "9c0d106e-3d44-49f9-bdac-00d6ebea003b",
     "regions": {
      "83724fcb-26e2-4f25-b966-4aea8347760e": {
       "attrs": {
        "height": 0.8,
        "width": 0.8,
        "x": 0.1,
        "y": 0.1
       },
       "content": {
        "cell": "8cee6ac3-31cb-4c7c-a909-827a45034d22",
        "part": "whole"
       },
       "id": "83724fcb-26e2-4f25-b966-4aea8347760e"
      }
     }
    },
    "20b70687-5300-4e8f-8f9f-269b90007c93": {
     "id": "20b70687-5300-4e8f-8f9f-269b90007c93",
     "prev": "970904cd-11aa-4a21-bc40-e6b6cb945151",
     "regions": {
      "5b8e9cff-dedd-40de-847e-23650ce6db9d": {
       "attrs": {
        "height": 0.8,
        "width": 0.8,
        "x": 0.1,
        "y": 0.1
       },
       "content": {
        "cell": "99808924-fd54-4e84-bf83-f250297684c1",
        "part": "whole"
       },
       "id": "5b8e9cff-dedd-40de-847e-23650ce6db9d"
      }
     }
    },
    "370a34fa-1edc-4b98-b623-67021b42e513": {
     "id": "370a34fa-1edc-4b98-b623-67021b42e513",
     "prev": "6433645c-5322-4539-96c4-9b5952bae248",
     "regions": {
      "d4aa106a-be7f-4621-ac6a-2faae99da5c9": {
       "attrs": {
        "height": 0.8,
        "width": 0.8,
        "x": 0.1,
        "y": 0.1
       },
       "content": {
        "cell": "dd6dc166-472a-4d6a-8eff-d109173f6faf",
        "part": "whole"
       },
       "id": "d4aa106a-be7f-4621-ac6a-2faae99da5c9"
      }
     }
    },
    "446cd1ec-3d52-46e5-a389-b4d90cb704e9": {
     "id": "446cd1ec-3d52-46e5-a389-b4d90cb704e9",
     "prev": "9cca7681-284e-4163-8e73-6e79b83807b3",
     "regions": {
      "9278e01a-761d-4e69-ad03-777b84262977": {
       "attrs": {
        "height": 0.8,
        "width": 0.8,
        "x": 0.1,
        "y": 0.1
       },
       "content": {
        "cell": "9958808f-0e10-40dd-a362-f547b160d4d9",
        "part": "whole"
       },
       "id": "9278e01a-761d-4e69-ad03-777b84262977"
      }
     }
    },
    "5099052b-0285-416e-a944-949a9826c871": {
     "id": "5099052b-0285-416e-a944-949a9826c871",
     "prev": "52ef15dd-520f-4175-a1eb-2a800de501a5",
     "regions": {
      "72c0eb3b-3406-4497-9bb1-c8593bcd8d33": {
       "attrs": {
        "height": 0.8,
        "width": 0.8,
        "x": 0.1,
        "y": 0.1
       },
       "content": {
        "cell": "1d4fa58f-1244-40d0-bff9-14179c889291",
        "part": "whole"
       },
       "id": "72c0eb3b-3406-4497-9bb1-c8593bcd8d33"
      }
     }
    },
    "52ef15dd-520f-4175-a1eb-2a800de501a5": {
     "id": "52ef15dd-520f-4175-a1eb-2a800de501a5",
     "prev": "6afc5851-8001-41da-9a5f-174927d906ab",
     "regions": {
      "0b958db1-a9f9-4bcd-acf6-7d3a6d82f6c5": {
       "attrs": {
        "height": 0.8,
        "width": 0.8,
        "x": 0.1,
        "y": 0.1
       },
       "content": {
        "cell": "1882c951-9333-4643-b52f-5356604285d5",
        "part": "whole"
       },
       "id": "0b958db1-a9f9-4bcd-acf6-7d3a6d82f6c5"
      }
     }
    },
    "5f759967-3d71-4f9b-8c12-2e3c219523df": {
     "id": "5f759967-3d71-4f9b-8c12-2e3c219523df",
     "prev": "1e4eb514-4ff9-4cf8-adbe-6cab03dcda41",
     "regions": {
      "4b945899-262a-49a4-baa6-ea90d8958bb8": {
       "attrs": {
        "height": 0.8,
        "width": 0.8,
        "x": 0.1,
        "y": 0.1
       },
       "content": {
        "cell": "6e9fe56c-47b1-43a2-9404-e01e0d566d74",
        "part": "whole"
       },
       "id": "4b945899-262a-49a4-baa6-ea90d8958bb8"
      }
     }
    },
    "5fe675d1-766d-4e8d-a4a7-f1a88c447b2c": {
     "id": "5fe675d1-766d-4e8d-a4a7-f1a88c447b2c",
     "prev": "befbcd30-f51a-4efa-a8f6-e42d88844113",
     "regions": {
      "ea03a898-2891-47cd-9099-13274de2367d": {
       "attrs": {
        "height": 0.8,
        "width": 0.8,
        "x": 0.1,
        "y": 0.1
       },
       "content": {
        "cell": "b481f14c-4756-4c37-81c8-7f7452e1a5c8",
        "part": "whole"
       },
       "id": "ea03a898-2891-47cd-9099-13274de2367d"
      }
     }
    },
    "6433645c-5322-4539-96c4-9b5952bae248": {
     "id": "6433645c-5322-4539-96c4-9b5952bae248",
     "prev": "80ca0cd5-25a8-4e27-861b-f4de094008e9",
     "regions": {
      "495a4dcc-f48f-4b63-b77f-7f1dba0e467b": {
       "attrs": {
        "height": 0.8,
        "width": 0.8,
        "x": 0.1,
        "y": 0.1
       },
       "content": {
        "cell": "60a17385-aac5-42cd-9d76-1747050a4308",
        "part": "whole"
       },
       "id": "495a4dcc-f48f-4b63-b77f-7f1dba0e467b"
      }
     }
    },
    "6afc5851-8001-41da-9a5f-174927d906ab": {
     "id": "6afc5851-8001-41da-9a5f-174927d906ab",
     "prev": "d8159bb3-ad78-49e5-b1f8-f8a82a810c0c",
     "regions": {
      "2afb2efb-4d97-49d0-8509-a7ed0a3556bf": {
       "attrs": {
        "height": 0.8,
        "width": 0.8,
        "x": 0.1,
        "y": 0.1
       },
       "content": {
        "cell": "931dc70a-9178-48f5-aa00-40c25c3e3bc5",
        "part": "whole"
       },
       "id": "2afb2efb-4d97-49d0-8509-a7ed0a3556bf"
      }
     }
    },
    "764177f1-25b2-4966-9556-fce60f796fc0": {
     "id": "764177f1-25b2-4966-9556-fce60f796fc0",
     "prev": "14e45644-ac14-499f-905f-11af0f5e2ec2",
     "regions": {
      "ad0b9250-57a9-4e2d-a59f-fc150bc8d684": {
       "attrs": {
        "height": 0.8,
        "width": 0.8,
        "x": 0.1,
        "y": 0.1
       },
       "content": {
        "cell": "242513a0-9ba6-4ca3-b75d-f892e4f2753b",
        "part": "whole"
       },
       "id": "ad0b9250-57a9-4e2d-a59f-fc150bc8d684"
      }
     }
    },
    "7c33a05d-7ee1-49d9-a8a7-5de110a97cf6": {
     "id": "7c33a05d-7ee1-49d9-a8a7-5de110a97cf6",
     "prev": "e2230825-87ef-4c19-a5a1-3042af7728e1",
     "regions": {
      "32600508-9591-4832-b953-0e487dda93bd": {
       "attrs": {
        "height": 0.8,
        "width": 0.8,
        "x": 0.1,
        "y": 0.1
       },
       "content": {
        "cell": "90d89f37-e1c9-4a2e-8348-34318b3eb3db",
        "part": "whole"
       },
       "id": "32600508-9591-4832-b953-0e487dda93bd"
      }
     }
    },
    "80ca0cd5-25a8-4e27-861b-f4de094008e9": {
     "id": "80ca0cd5-25a8-4e27-861b-f4de094008e9",
     "prev": "a8d16623-d989-4d39-8ab5-c8892c809e79",
     "regions": {
      "4f40b7d9-16c0-437c-8007-a8255eb11bb1": {
       "attrs": {
        "height": 0.8,
        "width": 0.8,
        "x": 0.1,
        "y": 0.1
       },
       "content": {
        "cell": "7c0d5fb0-2671-44ab-a6f4-0192724a20fd",
        "part": "whole"
       },
       "id": "4f40b7d9-16c0-437c-8007-a8255eb11bb1"
      }
     }
    },
    "87ec2923-0d45-4860-afbc-aaf698365df6": {
     "id": "87ec2923-0d45-4860-afbc-aaf698365df6",
     "prev": "8ee397ab-6654-49f8-b615-cc40b0a479f4",
     "regions": {
      "6fa3ae66-4660-4537-8189-49a784611ec2": {
       "attrs": {
        "height": 0.8,
        "width": 0.8,
        "x": 0.1,
        "y": 0.1
       },
       "content": {
        "cell": "1c074771-9254-43f2-b71e-e255cd9cac29",
        "part": "whole"
       },
       "id": "6fa3ae66-4660-4537-8189-49a784611ec2"
      }
     }
    },
    "89171ab5-afff-4493-a9d2-187f801b5f3d": {
     "id": "89171ab5-afff-4493-a9d2-187f801b5f3d",
     "prev": "b079243b-08bc-490a-a724-1ac08b1899ec",
     "regions": {
      "4788d969-5adf-4a2d-81fe-fc8c4ef2bb52": {
       "attrs": {
        "height": 0.8,
        "width": 0.8,
        "x": 0.1,
        "y": 0.1
       },
       "content": {
        "cell": "9b281cda-bb76-4c58-83d7-7e2b082a7776",
        "part": "whole"
       },
       "id": "4788d969-5adf-4a2d-81fe-fc8c4ef2bb52"
      }
     }
    },
    "8ee397ab-6654-49f8-b615-cc40b0a479f4": {
     "id": "8ee397ab-6654-49f8-b615-cc40b0a479f4",
     "prev": "a6cfe005-f8a5-4358-9a31-df5af2317a59",
     "regions": {
      "183d8445-e8dc-474b-9383-0bd37b84962a": {
       "attrs": {
        "height": 0.8,
        "width": 0.8,
        "x": 0.1,
        "y": 0.1
       },
       "content": {
        "cell": "91669fa0-9719-4073-8789-85dee1a3b4fd",
        "part": "whole"
       },
       "id": "183d8445-e8dc-474b-9383-0bd37b84962a"
      }
     }
    },
    "970904cd-11aa-4a21-bc40-e6b6cb945151": {
     "id": "970904cd-11aa-4a21-bc40-e6b6cb945151",
     "prev": "5fe675d1-766d-4e8d-a4a7-f1a88c447b2c",
     "regions": {
      "a40d4f94-a0a3-4a92-bb8e-2307db2640f9": {
       "attrs": {
        "height": 0.8,
        "width": 0.8,
        "x": 0.1,
        "y": 0.1
       },
       "content": {
        "cell": "82b863cf-00ed-4567-aef7-fc5af94ba193",
        "part": "whole"
       },
       "id": "a40d4f94-a0a3-4a92-bb8e-2307db2640f9"
      }
     }
    },
    "991f791c-ee96-4471-83bb-71924ac14906": {
     "id": "991f791c-ee96-4471-83bb-71924ac14906",
     "prev": "f43d20f3-d750-45fa-b2cd-5c02faa36ca2",
     "regions": {
      "d0295d96-51f0-42f2-85f2-74d9f7e7dace": {
       "attrs": {
        "height": 0.8,
        "width": 0.8,
        "x": 0.1,
        "y": 0.1
       },
       "content": {
        "cell": "650e9766-9500-414d-bbea-4b6ce17df491",
        "part": "whole"
       },
       "id": "d0295d96-51f0-42f2-85f2-74d9f7e7dace"
      }
     }
    },
    "9c02d753-410b-4fd2-bab1-06f695e03c6f": {
     "id": "9c02d753-410b-4fd2-bab1-06f695e03c6f",
     "prev": "5099052b-0285-416e-a944-949a9826c871",
     "regions": {
      "91b4f9a5-3c22-4bfa-b438-3b449d343634": {
       "attrs": {
        "height": 0.8,
        "width": 0.8,
        "x": 0.1,
        "y": 0.1
       },
       "content": {
        "cell": "9b86cf6f-ed37-44b1-81fb-0a1d163164e2",
        "part": "whole"
       },
       "id": "91b4f9a5-3c22-4bfa-b438-3b449d343634"
      }
     }
    },
    "9c0d106e-3d44-49f9-bdac-00d6ebea003b": {
     "id": "9c0d106e-3d44-49f9-bdac-00d6ebea003b",
     "prev": "bdb56296-3414-470f-b70d-23d8335aa3da",
     "regions": {
      "a9c451e3-ca37-4e6e-a0fe-9522a976e0a3": {
       "attrs": {
        "height": 0.8,
        "width": 0.8,
        "x": 0.1,
        "y": 0.1
       },
       "content": {
        "cell": "b0c5ea1c-4649-4294-943c-bbc680da0e6f",
        "part": "whole"
       },
       "id": "a9c451e3-ca37-4e6e-a0fe-9522a976e0a3"
      }
     }
    },
    "9cca7681-284e-4163-8e73-6e79b83807b3": {
     "id": "9cca7681-284e-4163-8e73-6e79b83807b3",
     "prev": "20b70687-5300-4e8f-8f9f-269b90007c93",
     "regions": {
      "b467c92c-cec5-4caf-981c-63275312e46c": {
       "attrs": {
        "height": 0.8,
        "width": 0.8,
        "x": 0.1,
        "y": 0.1
       },
       "content": {
        "cell": "f5b3cedf-381b-4064-aa63-c53540d8ecee",
        "part": "whole"
       },
       "id": "b467c92c-cec5-4caf-981c-63275312e46c"
      }
     }
    },
    "a6cfe005-f8a5-4358-9a31-df5af2317a59": {
     "id": "a6cfe005-f8a5-4358-9a31-df5af2317a59",
     "prev": "fb414174-0fd3-4d9f-99c5-d3b3272f6c42",
     "regions": {
      "ef758ebf-2719-4680-aa7d-b72722e09a59": {
       "attrs": {
        "height": 0.8,
        "width": 0.8,
        "x": 0.1,
        "y": 0.1
       },
       "content": {
        "cell": "4cec4d2c-9103-46b3-9215-e9ed8fa56c3e",
        "part": "whole"
       },
       "id": "ef758ebf-2719-4680-aa7d-b72722e09a59"
      }
     }
    },
    "a8d16623-d989-4d39-8ab5-c8892c809e79": {
     "id": "a8d16623-d989-4d39-8ab5-c8892c809e79",
     "prev": "156debf6-bd3f-4369-a246-85e5910ef865",
     "regions": {
      "172477d6-6793-4343-983f-d8582856f973": {
       "attrs": {
        "height": 0.8,
        "width": 0.8,
        "x": 0.1,
        "y": 0.1
       },
       "content": {
        "cell": "c921f502-4e06-407b-a62c-e67953b9a784",
        "part": "whole"
       },
       "id": "172477d6-6793-4343-983f-d8582856f973"
      }
     }
    },
    "b079243b-08bc-490a-a724-1ac08b1899ec": {
     "id": "b079243b-08bc-490a-a724-1ac08b1899ec",
     "prev": "9c02d753-410b-4fd2-bab1-06f695e03c6f",
     "regions": {
      "9385ef36-a460-4c94-9ac4-6119e1e082cf": {
       "attrs": {
        "height": 0.8,
        "width": 0.8,
        "x": 0.1,
        "y": 0.1
       },
       "content": {
        "cell": "3bf3ddae-3df7-48e2-a93c-0d06c1a1b8d7",
        "part": "whole"
       },
       "id": "9385ef36-a460-4c94-9ac4-6119e1e082cf"
      }
     }
    },
    "ba0f8b20-0e07-4fd3-a5b0-34464573b72f": {
     "id": "ba0f8b20-0e07-4fd3-a5b0-34464573b72f",
     "prev": "f772899b-16e3-4811-a0f5-a99a1070a0d1",
     "regions": {
      "65f199f0-d7ad-4d71-afb1-99b8620a9153": {
       "attrs": {
        "height": 0.8,
        "width": 0.8,
        "x": 0.1,
        "y": 0.1
       },
       "content": {
        "cell": "ebce51da-cb26-4bd4-8439-8201ad14f2cc",
        "part": "whole"
       },
       "id": "65f199f0-d7ad-4d71-afb1-99b8620a9153"
      }
     }
    },
    "badf3fcd-bad2-4d2f-8daa-2a1047e5510c": {
     "id": "badf3fcd-bad2-4d2f-8daa-2a1047e5510c",
     "prev": "f4c9f724-45ad-494f-bbad-1d60c09a0749",
     "regions": {
      "fd9ffd0d-a648-430b-ae50-01ebb66e808b": {
       "attrs": {
        "height": 0.8,
        "width": 0.8,
        "x": 0.1,
        "y": 0.1
       },
       "content": {
        "cell": "24881e52-bf41-47b3-b742-26338a13e3c4",
        "part": "whole"
       },
       "id": "fd9ffd0d-a648-430b-ae50-01ebb66e808b"
      }
     }
    },
    "bdb56296-3414-470f-b70d-23d8335aa3da": {
     "id": "bdb56296-3414-470f-b70d-23d8335aa3da",
     "prev": null,
     "regions": {
      "2523249a-fe85-45ab-9688-106e78780300": {
       "attrs": {
        "height": 0.8,
        "width": 0.8,
        "x": 0.1,
        "y": 0.1
       },
       "content": {
        "cell": "c8b82b2f-23cc-4b83-b700-2f5b7e2716df",
        "part": "whole"
       },
       "id": "2523249a-fe85-45ab-9688-106e78780300"
      }
     }
    },
    "befbcd30-f51a-4efa-a8f6-e42d88844113": {
     "id": "befbcd30-f51a-4efa-a8f6-e42d88844113",
     "prev": "7c33a05d-7ee1-49d9-a8a7-5de110a97cf6",
     "regions": {
      "b4206b61-6be9-4de5-9f14-4bbe658b3f30": {
       "attrs": {
        "height": 0.8,
        "width": 0.8,
        "x": 0.1,
        "y": 0.1
       },
       "content": {
        "cell": "b8e6c87d-7aa6-4acc-93b3-dc138a8b7a4e",
        "part": "whole"
       },
       "id": "b4206b61-6be9-4de5-9f14-4bbe658b3f30"
      }
     }
    },
    "d8159bb3-ad78-49e5-b1f8-f8a82a810c0c": {
     "id": "d8159bb3-ad78-49e5-b1f8-f8a82a810c0c",
     "prev": "87ec2923-0d45-4860-afbc-aaf698365df6",
     "regions": {
      "e6bdcdce-0285-49df-ab93-a1590efc306f": {
       "attrs": {
        "height": 0.8,
        "width": 0.8,
        "x": 0.1,
        "y": 0.1
       },
       "content": {
        "cell": "938f4224-49f0-491d-a918-1fef045eea02",
        "part": "whole"
       },
       "id": "e6bdcdce-0285-49df-ab93-a1590efc306f"
      }
     }
    },
    "daae3be5-d953-4e1f-ad62-8a5bc2dac7b9": {
     "id": "daae3be5-d953-4e1f-ad62-8a5bc2dac7b9",
     "prev": "ba0f8b20-0e07-4fd3-a5b0-34464573b72f",
     "regions": {
      "723799dd-a0c9-4d3e-b118-20014bba2bc2": {
       "attrs": {
        "height": 0.8,
        "width": 0.8,
        "x": 0.1,
        "y": 0.1
       },
       "content": {
        "cell": "014ea4fb-4bc2-452b-adbb-1e4b1a8e218b",
        "part": "whole"
       },
       "id": "723799dd-a0c9-4d3e-b118-20014bba2bc2"
      }
     }
    },
    "e2230825-87ef-4c19-a5a1-3042af7728e1": {
     "id": "e2230825-87ef-4c19-a5a1-3042af7728e1",
     "prev": "e3cf6c2d-1ee4-4915-97d4-6b8c23929dc8",
     "regions": {
      "adaba3ba-93b0-488f-949f-98805f6595e8": {
       "attrs": {
        "height": 0.8,
        "width": 0.8,
        "x": 0.1,
        "y": 0.1
       },
       "content": {
        "cell": "c40a2f4b-4fd6-421e-a556-f453fcf5f1aa",
        "part": "whole"
       },
       "id": "adaba3ba-93b0-488f-949f-98805f6595e8"
      }
     }
    },
    "e3cf6c2d-1ee4-4915-97d4-6b8c23929dc8": {
     "id": "e3cf6c2d-1ee4-4915-97d4-6b8c23929dc8",
     "prev": "89171ab5-afff-4493-a9d2-187f801b5f3d",
     "regions": {
      "d6bcc6dc-ab4d-494c-98b1-efe7bab9b185": {
       "attrs": {
        "height": 0.8,
        "width": 0.8,
        "x": 0.1,
        "y": 0.1
       },
       "content": {
        "cell": "34c39885-eaf8-42ad-87c4-2aeeee62f130",
        "part": "whole"
       },
       "id": "d6bcc6dc-ab4d-494c-98b1-efe7bab9b185"
      }
     }
    },
    "f43d20f3-d750-45fa-b2cd-5c02faa36ca2": {
     "id": "f43d20f3-d750-45fa-b2cd-5c02faa36ca2",
     "prev": "badf3fcd-bad2-4d2f-8daa-2a1047e5510c",
     "regions": {
      "33100811-7059-40bc-b483-21310794998e": {
       "attrs": {
        "height": 0.8,
        "width": 0.8,
        "x": 0.1,
        "y": 0.1
       },
       "content": {
        "cell": "f9f46abb-c3c9-49f9-9a94-d58029bc9e77",
        "part": "whole"
       },
       "id": "33100811-7059-40bc-b483-21310794998e"
      }
     }
    },
    "f4c9f724-45ad-494f-bbad-1d60c09a0749": {
     "id": "f4c9f724-45ad-494f-bbad-1d60c09a0749",
     "prev": "446cd1ec-3d52-46e5-a389-b4d90cb704e9",
     "regions": {
      "9f8a26d8-6a19-4fc5-b99f-3ac7767daf50": {
       "attrs": {
        "height": 0.8,
        "width": 0.8,
        "x": 0.1,
        "y": 0.1
       },
       "content": {
        "cell": "b0ff8751-265c-40cf-ad5c-d8b61eca02c7",
        "part": "whole"
       },
       "id": "9f8a26d8-6a19-4fc5-b99f-3ac7767daf50"
      }
     }
    },
    "f772899b-16e3-4811-a0f5-a99a1070a0d1": {
     "id": "f772899b-16e3-4811-a0f5-a99a1070a0d1",
     "prev": "5f759967-3d71-4f9b-8c12-2e3c219523df",
     "regions": {
      "ffc7207d-b807-4028-a0b8-af1bd70aa186": {
       "attrs": {
        "height": 0.8,
        "width": 0.8,
        "x": 0.1,
        "y": 0.1
       },
       "content": {
        "cell": "3feb1b93-f65b-41a2-bfb7-cb251e9b8bfc",
        "part": "whole"
       },
       "id": "ffc7207d-b807-4028-a0b8-af1bd70aa186"
      }
     }
    },
    "fb414174-0fd3-4d9f-99c5-d3b3272f6c42": {
     "id": "fb414174-0fd3-4d9f-99c5-d3b3272f6c42",
     "prev": "00105bf4-e949-4f58-b1d4-0e5a18a92bf7",
     "regions": {
      "72b79326-ba4a-44b1-b66d-4f5f1eb1606e": {
       "attrs": {
        "height": 0.8,
        "width": 0.8,
        "x": 0.1,
        "y": 0.1
       },
       "content": {
        "cell": "f7997285-d5a7-4c66-917a-1bad79fe5a33",
        "part": "whole"
       },
       "id": "72b79326-ba4a-44b1-b66d-4f5f1eb1606e"
      }
     }
    }
   },
   "themes": {}
  },
  "toc": {
   "colors": {
    "hover_highlight": "#DAA520",
    "navigate_num": "#000000",
    "navigate_text": "#333333",
    "running_highlight": "#FF0000",
    "selected_highlight": "#FFD700",
    "sidebar_border": "#EEEEEE",
    "wrapper_background": "#FFFFFF"
   },
   "moveMenuLeft": true,
   "nav_menu": {
    "height": "207px",
    "width": "252px"
   },
   "navigate_menu": true,
   "number_sections": false,
   "sideBar": true,
   "threshold": 4,
   "toc_cell": true,
   "toc_section_display": "block",
   "toc_window_display": true,
   "widenNotebook": false
  }
 },
 "nbformat": 4,
 "nbformat_minor": 1
}
