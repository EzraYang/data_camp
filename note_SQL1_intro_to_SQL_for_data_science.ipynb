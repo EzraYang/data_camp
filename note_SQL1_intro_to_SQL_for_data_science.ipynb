{
 "cells": [
  {
   "cell_type": "markdown",
   "metadata": {
    "toc": "true"
   },
   "source": [
    " # Table of Contents\n",
    "<div class=\"toc\" style=\"margin-top: 1em;\"><ul class=\"toc-item\" id=\"toc-level0\"><li><span><a href=\"http://localhost:8888/notebooks/note_SQL1_intro_to_SQL_for_data_science.ipynb#Selecting-columns\" data-toc-modified-id=\"Selecting-columns-1\"><span class=\"toc-item-num\">1&nbsp;&nbsp;</span>Selecting columns</a></span></li><li><span><a href=\"http://localhost:8888/notebooks/note_SQL1_intro_to_SQL_for_data_science.ipynb#Filtering-rows\" data-toc-modified-id=\"Filtering-rows-2\"><span class=\"toc-item-num\">2&nbsp;&nbsp;</span>Filtering rows</a></span><ul class=\"toc-item\"><li><span><a href=\"http://localhost:8888/notebooks/note_SQL1_intro_to_SQL_for_data_science.ipynb#WHERE,-AND,-OR,-BETWEEN,-IN\" data-toc-modified-id=\"WHERE,-AND,-OR,-BETWEEN,-IN-2.1\"><span class=\"toc-item-num\">2.1&nbsp;&nbsp;</span>WHERE, AND, OR, BETWEEN, IN</a></span></li><li><span><a href=\"http://localhost:8888/notebooks/note_SQL1_intro_to_SQL_for_data_science.ipynb#NULL,-IS-NULL\" data-toc-modified-id=\"NULL,-IS-NULL-2.2\"><span class=\"toc-item-num\">2.2&nbsp;&nbsp;</span>NULL, IS NULL</a></span></li><li><span><a href=\"http://localhost:8888/notebooks/note_SQL1_intro_to_SQL_for_data_science.ipynb#LIKE,-NOT-LIKE\" data-toc-modified-id=\"LIKE,-NOT-LIKE-2.3\"><span class=\"toc-item-num\">2.3&nbsp;&nbsp;</span>LIKE, NOT LIKE</a></span></li></ul></li><li><span><a href=\"http://localhost:8888/notebooks/note_SQL1_intro_to_SQL_for_data_science.ipynb#Aggregate-Functions\" data-toc-modified-id=\"Aggregate-Functions-3\"><span class=\"toc-item-num\">3&nbsp;&nbsp;</span>Aggregate Functions</a></span><ul class=\"toc-item\"><li><span><a href=\"http://localhost:8888/notebooks/note_SQL1_intro_to_SQL_for_data_science.ipynb#select-and-aggregate-result\" data-toc-modified-id=\"select-and-aggregate-result-3.1\"><span class=\"toc-item-num\">3.1&nbsp;&nbsp;</span>select and aggregate result</a></span></li><li><span><a href=\"http://localhost:8888/notebooks/note_SQL1_intro_to_SQL_for_data_science.ipynb#pure-arithmetic\" data-toc-modified-id=\"pure-arithmetic-3.2\"><span class=\"toc-item-num\">3.2&nbsp;&nbsp;</span>pure arithmetic</a></span></li><li><span><a href=\"http://localhost:8888/notebooks/note_SQL1_intro_to_SQL_for_data_science.ipynb#use-alias\" data-toc-modified-id=\"use-alias-3.3\"><span class=\"toc-item-num\">3.3&nbsp;&nbsp;</span>use alias</a></span></li></ul></li><li><span><a href=\"http://localhost:8888/notebooks/note_SQL1_intro_to_SQL_for_data_science.ipynb#Sorting,-grouping-and-joins\" data-toc-modified-id=\"Sorting,-grouping-and-joins-4\"><span class=\"toc-item-num\">4&nbsp;&nbsp;</span>Sorting, grouping and joins</a></span><ul class=\"toc-item\"><li><span><a href=\"http://localhost:8888/notebooks/note_SQL1_intro_to_SQL_for_data_science.ipynb#ORDER-BY,-(opt-DESC)\" data-toc-modified-id=\"ORDER-BY,-(opt-DESC)-4.1\"><span class=\"toc-item-num\">4.1&nbsp;&nbsp;</span>ORDER BY, (opt DESC)</a></span></li><li><span><a href=\"http://localhost:8888/notebooks/note_SQL1_intro_to_SQL_for_data_science.ipynb#GROUP-BY\" data-toc-modified-id=\"GROUP-BY-4.2\"><span class=\"toc-item-num\">4.2&nbsp;&nbsp;</span>GROUP BY</a></span></li><li><span><a href=\"http://localhost:8888/notebooks/note_SQL1_intro_to_SQL_for_data_science.ipynb#HAVING\" data-toc-modified-id=\"HAVING-4.3\"><span class=\"toc-item-num\">4.3&nbsp;&nbsp;</span>HAVING</a></span></li></ul></li></ul></div>"
   ]
  },
  {
   "cell_type": "markdown",
   "metadata": {},
   "source": [
    "# Selecting columns"
   ]
  },
  {
   "cell_type": "code",
   "execution_count": null,
   "metadata": {
    "collapsed": true
   },
   "outputs": [],
   "source": [
    "# basic select\n",
    "\n",
    "SELECT name \n",
    "FROM people;\n",
    "\n",
    "SELECT name, birthdate\n",
    "FROM people;\n",
    "    # select multiple columns\n",
    "\n",
    "SELECT *\n",
    "FROM people;\n",
    "    # select all columns from a table\n",
    "\n",
    "SELECT *\n",
    "FROM people\n",
    "LIMIT 10;  \n",
    "    # limit the number of rows returned"
   ]
  },
  {
   "cell_type": "code",
   "execution_count": null,
   "metadata": {
    "collapsed": true
   },
   "outputs": [],
   "source": [
    "# select, distinct, and count\n",
    "\n",
    "SELECT DISTINCT language\n",
    "FROM films;\n",
    "    # select all the unique values from a column\n",
    "    \n",
    "SELECT COUNT(*)\n",
    "FROM people;\n",
    "    # count the number of rows in your employees table\n",
    "    \n",
    "SELECT COUNT(birthdate)\n",
    "FROM people;\n",
    "    # count the num. of non-missing values \n",
    "    # in a particular column\n",
    "    \n",
    "SELECT COUNT(DISTINCT birthdate)\n",
    "FROM people;\n",
    "    # It's also common to combine COUNT with DISTINCT \n",
    "    # to count the number of distinct values in a column."
   ]
  },
  {
   "cell_type": "markdown",
   "metadata": {},
   "source": [
    "# Filtering rows"
   ]
  },
  {
   "cell_type": "markdown",
   "metadata": {},
   "source": [
    "In SQL, the WHERE keyword allows you to filter based on both text and numeric values in a table. There are a few different comparison operators you can use:\n",
    "\n",
    "* = equal\n",
    "* <> not equal\n",
    "* < less than\n",
    "* \\> greater than\n",
    "* <= less than or equal to\n",
    "* \\>= greater than or equal to"
   ]
  },
  {
   "cell_type": "markdown",
   "metadata": {},
   "source": [
    "## WHERE, AND, OR, BETWEEN, IN"
   ]
  },
  {
   "cell_type": "code",
   "execution_count": null,
   "metadata": {
    "collapsed": true
   },
   "outputs": [],
   "source": [
    "# filter data based on single condition\n",
    "    # WHERE \n",
    "\n",
    "SELECT *\n",
    "FROM films\n",
    "WHERE budget > 10000;\n",
    "    # Simple filtering of numeric values\n",
    "    \n",
    "SELECT title\n",
    "FROM films\n",
    "WHERE country = 'China';\n",
    "    # Simple filtering of text"
   ]
  },
  {
   "cell_type": "code",
   "execution_count": null,
   "metadata": {
    "collapsed": true
   },
   "outputs": [],
   "source": [
    "# select data based on multiple conditions\n",
    "    # WHERE\n",
    "    # AND, OR \n",
    "    # (for numeric) BETWEEN\n",
    "\n",
    "SELECT title\n",
    "FROM films\n",
    "WHERE release_year > 1994\n",
    "AND release_year < 2000;\n",
    "    # or\n",
    "SELECT title\n",
    "FROM films\n",
    "WHERE release_year > 1994 AND < 2000;\n",
    "\n",
    "SELECT title\n",
    "FROM films\n",
    "WHERE release_year\n",
    "BETWEEN 1994 AND 2000;  #  inclusive\n",
    "\n",
    "SELECT title\n",
    "FROM films\n",
    "WHERE release_year = 1994\n",
    "OR release_year = 2000;\n",
    "    # or\n",
    "SELECT title\n",
    "FROM films\n",
    "WHERE release_year = 1994 OR 2000;\n",
    "\n",
    "SELECT title\n",
    "FROM films\n",
    "WHERE (release_year = 1994 OR release_year = 1995)\n",
    "AND (certification = 'PG' OR certification = 'R');\n",
    "    # adding parentheses"
   ]
  },
  {
   "cell_type": "code",
   "execution_count": null,
   "metadata": {
    "collapsed": true
   },
   "outputs": [],
   "source": [
    "# filter a column on multiple conditions \n",
    "    # WHERE IN\n",
    "    \n",
    "SELECT name\n",
    "FROM kids\n",
    "WHERE age = 2\n",
    "OR age = 4\n",
    "OR age = 6\n",
    "OR age = 8\n",
    "OR age = 10;\n",
    "    # or\n",
    "SELECT name\n",
    "FROM kids\n",
    "WHERE age IN (2, 4, 6, 8, 10);"
   ]
  },
  {
   "cell_type": "markdown",
   "metadata": {
    "collapsed": true
   },
   "source": [
    "## NULL, IS NULL"
   ]
  },
  {
   "cell_type": "code",
   "execution_count": null,
   "metadata": {
    "collapsed": true
   },
   "outputs": [],
   "source": [
    "SELECT COUNT(*)\n",
    "FROM people\n",
    "WHERE birthdate IS NULL;\n",
    "    # count null values\n",
    "\n",
    "SELECT name\n",
    "FROM people\n",
    "WHERE birthdate IS NOT NULL;\n",
    "    # select non_null values"
   ]
  },
  {
   "cell_type": "markdown",
   "metadata": {
    "collapsed": true
   },
   "source": [
    "## LIKE, NOT LIKE"
   ]
  },
  {
   "cell_type": "markdown",
   "metadata": {},
   "source": [
    "so far you've only been able to filter by specifying the exact text you're interested in. In the real world, often you'll want to search for a pattern rather than a specific text string.  \n",
    "\n",
    "In SQL, the $LIKE$ operator can be used in a WHERE clause to search for a pattern in a column. To accomplish this, you use something called a wildcard as a placeholder for some other values.   \n",
    "\n",
    "$\\%$ : zero or more characters  \n",
    "$\\_$ : a single character  \n",
    "\n",
    "You can also use the $NOT\\ LIKE$ operator to find records that don't match the pattern you specify."
   ]
  },
  {
   "cell_type": "code",
   "execution_count": null,
   "metadata": {
    "collapsed": true
   },
   "outputs": [],
   "source": [
    "SELECT name FROM people\n",
    "WHERE name LIKE 'B%';  # name starts with 'B'\n",
    "\n",
    "SELECT name FROM people\n",
    "WHERE name LIKE '_r%';  # second char is 'r'\n",
    "\n",
    "SELECT name FROM people\n",
    "WHERE name NOT LIKE 'A%'; # don't start with 'A'"
   ]
  },
  {
   "cell_type": "markdown",
   "metadata": {
    "collapsed": true
   },
   "source": [
    "# Aggregate Functions"
   ]
  },
  {
   "cell_type": "markdown",
   "metadata": {},
   "source": [
    "Often, you will want to perform some calculation on the data in a database. SQL provides a few functions, called aggregate functions, to help you out with this."
   ]
  },
  {
   "cell_type": "markdown",
   "metadata": {},
   "source": [
    "## select and aggregate result"
   ]
  },
  {
   "cell_type": "code",
   "execution_count": null,
   "metadata": {
    "collapsed": true
   },
   "outputs": [],
   "source": [
    "# simple aggregate \n",
    "\n",
    "SELECT AVG(budget)\n",
    "FROM films;\n",
    "\n",
    "SELECT MAX(budget)\n",
    "FROM films;\n",
    "\n",
    "SELECT SUM(budget)\n",
    "FROM films;"
   ]
  },
  {
   "cell_type": "code",
   "execution_count": null,
   "metadata": {
    "collapsed": true
   },
   "outputs": [],
   "source": [
    "# aggregate on filtered rows\n",
    "SELECT SUM(budget)\n",
    "FROM films\n",
    "WHERE release_year >= 2010;"
   ]
  },
  {
   "cell_type": "markdown",
   "metadata": {},
   "source": [
    "## pure arithmetic"
   ]
  },
  {
   "cell_type": "code",
   "execution_count": null,
   "metadata": {
    "collapsed": true
   },
   "outputs": [],
   "source": [
    "# pure arithmetic \n",
    "SELECT (4 * 3);\n",
    "SELECT (4 / 3);       # get integer result\n",
    "SELECT (4.0 / 3.0);   # get float result"
   ]
  },
  {
   "cell_type": "markdown",
   "metadata": {
    "collapsed": true
   },
   "source": [
    "## use alias"
   ]
  },
  {
   "cell_type": "code",
   "execution_count": null,
   "metadata": {
    "collapsed": true
   },
   "outputs": [],
   "source": [
    "SELECT MAX(budget), MAX(duration)\n",
    "FROM films;\n",
    "    # return column names is ['max', 'max']\n",
    "    \n",
    "SELECT MAX(budget) AS max_budget,\n",
    "       MAX(duration) AS max_duration\n",
    "FROM films;\n",
    "    # specify return column names"
   ]
  },
  {
   "cell_type": "code",
   "execution_count": null,
   "metadata": {
    "collapsed": true
   },
   "outputs": [],
   "source": [
    "SELECT (COUNT(deathdate)*100.0 /COUNT(*)) AS percentage_dead \n",
    "FROM people;\n",
    "    # get percentage of death"
   ]
  },
  {
   "cell_type": "markdown",
   "metadata": {},
   "source": [
    "# Sorting, grouping and joins"
   ]
  },
  {
   "cell_type": "markdown",
   "metadata": {},
   "source": [
    "## ORDER BY, (opt DESC)"
   ]
  },
  {
   "cell_type": "code",
   "execution_count": null,
   "metadata": {
    "collapsed": true
   },
   "outputs": [],
   "source": [
    "    # sort by single column\n",
    "SELECT title\n",
    "FROM films\n",
    "ORDER BY release_year DESC;\n",
    "\n",
    "    # sort by multiple columns\n",
    "SELECT birthdate, name\n",
    "FROM people\n",
    "ORDER BY birthdate, name;"
   ]
  },
  {
   "cell_type": "markdown",
   "metadata": {},
   "source": [
    "## GROUP BY"
   ]
  },
  {
   "cell_type": "markdown",
   "metadata": {},
   "source": [
    "Commonly, GROUP BY is used with aggregate functions like COUNT() or MAX().   \n",
    "Note that GROUP BY always goes after the FROM clause!  \n",
    "\n",
    "  \n",
    "warning: SQL will return an error if you try to SELECT a field that is not in your GROUP BY clause without using it to calculate some kind of value about the entire group."
   ]
  },
  {
   "cell_type": "code",
   "execution_count": null,
   "metadata": {
    "collapsed": true
   },
   "outputs": [],
   "source": [
    "SELECT sex, count(*)\n",
    "FROM employees\n",
    "GROUP BY sex;"
   ]
  },
  {
   "cell_type": "markdown",
   "metadata": {},
   "source": [
    "`GROUP BY, ORDER BY, and more aggregations`\n",
    "\n",
    "Make sure to always put the ORDER BY clause at the end of your query. \n",
    "You can't sort values that you haven't calculated yet!"
   ]
  },
  {
   "cell_type": "code",
   "execution_count": null,
   "metadata": {
    "collapsed": true
   },
   "outputs": [],
   "source": [
    "SELECT release_year, country, MAX(budget)\n",
    "FROM films\n",
    "GROUP BY release_year,country\n",
    "ORDER BY release_year, country;"
   ]
  },
  {
   "cell_type": "markdown",
   "metadata": {},
   "source": [
    "## HAVING"
   ]
  },
  {
   "cell_type": "markdown",
   "metadata": {},
   "source": [
    "In SQL, aggregate functions can't be used in WHERE clauses. For example, the following query is invalid:\n",
    "\n",
    "```\n",
    "SELECT release_year\n",
    "FROM films\n",
    "GROUP BY release_year\n",
    "WHERE COUNT(title) > 10;\n",
    "```\n",
    "\n",
    "This means that if you want to filter based on the result of an aggregate function, you need another way! That's where the HAVING clause comes in. For example,\n",
    "```\n",
    "SELECT release_year\n",
    "FROM films\n",
    "GROUP BY release_year\n",
    "HAVING COUNT(title) > 10;\n",
    "```"
   ]
  },
  {
   "cell_type": "code",
   "execution_count": null,
   "metadata": {
    "collapsed": true
   },
   "outputs": [],
   "source": [
    "SELECT release_year, count(*)\n",
    "FROM films\n",
    "GROUP BY release_year\n",
    "HAVING COUNT(*) > 200\n",
    "ORDER BY count DESC;"
   ]
  },
  {
   "cell_type": "code",
   "execution_count": null,
   "metadata": {
    "collapsed": true
   },
   "outputs": [],
   "source": [
    "SELECT country, AVG(budget) AS avg_budget, AVG(gross) AS avg_gross\n",
    "FROM films\n",
    "GROUP BY country\n",
    "HAVING COUNT(country) > 10\n",
    "ORDER BY country\n",
    "limit 5;"
   ]
  },
  {
   "cell_type": "markdown",
   "metadata": {},
   "source": [
    "Get the country, average budget, and average gross take of countries that have made more than 10 films."
   ]
  }
 ],
 "metadata": {
  "kernelspec": {
   "display_name": "Python 3",
   "language": "python",
   "name": "python3"
  },
  "language_info": {
   "codemirror_mode": {
    "name": "ipython",
    "version": 3
   },
   "file_extension": ".py",
   "mimetype": "text/x-python",
   "name": "python",
   "nbconvert_exporter": "python",
   "pygments_lexer": "ipython3",
   "version": "3.6.1"
  },
  "toc": {
   "nav_menu": {
    "height": "48px",
    "width": "252px"
   },
   "number_sections": true,
   "sideBar": false,
   "skip_h1_title": false,
   "toc_cell": true,
   "toc_position": {
    "height": "314px",
    "left": "26px",
    "right": "20px",
    "top": "157px",
    "width": "140px"
   },
   "toc_section_display": "block",
   "toc_window_display": true
  }
 },
 "nbformat": 4,
 "nbformat_minor": 2
}
