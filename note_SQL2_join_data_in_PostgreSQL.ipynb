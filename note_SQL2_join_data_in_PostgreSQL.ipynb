{
 "cells": [
  {
   "cell_type": "markdown",
   "metadata": {
    "collapsed": true
   },
   "source": [
    "# Introduction to joins"
   ]
  },
  {
   "cell_type": "markdown",
   "metadata": {},
   "source": [
    "## Introduction to INNER JOIN"
   ]
  },
  {
   "cell_type": "code",
   "execution_count": null,
   "metadata": {
    "collapsed": true
   },
   "outputs": [],
   "source": [
    "SELECT *\n",
    "FROM left_table\n",
    "INNER JOIN right_table\n",
    "ON left_table.id = right_table.id;\n",
    "    # basic inner join\n",
    "\n",
    "SELECT c1.name AS city, c2.name AS country\n",
    "FROM cities AS c1\n",
    "INNER JOIN countries AS c2\n",
    "ON c1.country_code = c2.code;\n",
    "    # inner join and alias\n",
    "    \n",
    "SELECT *\n",
    "FROM left_table\n",
    "INNER JOIN right_table\n",
    "ON left_table.id = right_table.id\n",
    "INNER JOIN table1\n",
    "ON left_table.id = table1.id;\n",
    "    # chaining inner join"
   ]
  },
  {
   "cell_type": "markdown",
   "metadata": {},
   "source": [
    "## INNER JOIN via USING"
   ]
  },
  {
   "cell_type": "code",
   "execution_count": null,
   "metadata": {
    "collapsed": true
   },
   "outputs": [],
   "source": [
    "SELECT left_table.id AS L_id, \n",
    "        left_table.val AS L_val, \n",
    "        right_table.val AS R_val\n",
    "FROM left_table\n",
    "INNER JOIN right_table\n",
    "ON left_table.id = right_table.id;\n",
    "    # same as \n",
    "SELECT left_table.id AS L_id, \n",
    "        left_table.val AS L_val, \n",
    "        right_table.val AS R_val\n",
    "FROM left_table\n",
    "INNER JOIN right_table \n",
    "USING (id);"
   ]
  },
  {
   "cell_type": "markdown",
   "metadata": {},
   "source": [
    "## Self-ish joins, just in CASE"
   ]
  },
  {
   "cell_type": "code",
   "execution_count": null,
   "metadata": {
    "collapsed": true
   },
   "outputs": [],
   "source": [
    "SELECT p1.country AS country1, \n",
    "        p2.country AS country2, \n",
    "        p1.continent \n",
    "FROM prime_ministers AS p1\n",
    "INNER JOIN prime_ministers AS p2\n",
    "ON p1.continent = p2.continent\n",
    "LIMIT 14;\n",
    "\n",
    "SELECT p1.country AS country1, \n",
    "        p2.country AS country2, \n",
    "        p1.continent \n",
    "FROM prime_ministers AS p1\n",
    "INNER JOIN prime_ministers AS p2\n",
    "ON p1.continent = p2.continent AND p1.country <> p2.country\n",
    "    # exclude rows where p1.country = p2.country\n",
    "LIMIT 13;\n",
    "\n",
    "\n",
    "SELECT p1.country_code,\n",
    "       p1.size AS size2010,\n",
    "       p2.size AS size2015,\n",
    "       ((p2.size-p1.size)/p1.size)*100 AS growth_perc\n",
    "FROM populations AS p1\n",
    "INNER JOIN populations AS p2\n",
    "ON (p1.country_code = p2.country_code) AND (p1.year = p2.year-5);\n",
    "    # use self-join to calculate a new column"
   ]
  },
  {
   "cell_type": "markdown",
   "metadata": {},
   "source": [
    "Often it's useful to look at a numerical field not as raw data, but instead as being in different categories or groups.\n",
    "\n",
    "You can use CASE with WHEN, THEN, ELSE, and END to define a new grouping field.\n",
    "\n"
   ]
  },
  {
   "cell_type": "code",
   "execution_count": null,
   "metadata": {
    "collapsed": true
   },
   "outputs": [],
   "source": [
    "SELECT name, continent, indep_year,\n",
    "    CASE WHEN indep_year < 1900 THEN 'before 1900'\n",
    "        WHEN indep_year <= 1930 THEN 'between 1900 and 1930'\n",
    "        ELSE 'after 1930' END \n",
    "    AS indep_year_group FROM states\n",
    "ORDER BY indep_year_group;\n",
    "\n",
    "\n",
    "SELECT name, continent, code, surface_area,\n",
    "    CASE WHEN surface_area > 2000000\n",
    "            THEN 'large'\n",
    "       WHEN surface_area > 350000\n",
    "            THEN 'medium'\n",
    "       ELSE 'small' END\n",
    "       AS geosize_group\n",
    "INTO countries_plus  # (opt) save results in a new table\n",
    "FROM countries;\n",
    "    # use case to create binning"
   ]
  },
  {
   "cell_type": "markdown",
   "metadata": {},
   "source": [
    "# Outer joins and cross joins"
   ]
  },
  {
   "cell_type": "markdown",
   "metadata": {},
   "source": [
    "## LEFT and RIGHT JOINs"
   ]
  },
  {
   "cell_type": "code",
   "execution_count": null,
   "metadata": {
    "collapsed": true
   },
   "outputs": [],
   "source": [
    "SELECT c1.name AS city, code, \n",
    "        c2.name AS country,\n",
    "        region, city_proper_pop\n",
    "FROM cities AS c1\n",
    "LEFT JOIN countries AS c2\n",
    "ON c1.country_code = c2.code\n",
    "ORDER BY code DESC;\n",
    "    # left join only"
   ]
  },
  {
   "cell_type": "code",
   "execution_count": null,
   "metadata": {
    "collapsed": true
   },
   "outputs": [],
   "source": [
    "SELECT region, AVG(gdp_percapita) AS avg_gdp\n",
    "FROM countries AS c\n",
    "LEFT JOIN economies AS e\n",
    "ON c.code = e.code\n",
    "WHERE e.year = 2010\n",
    "GROUP BY region\n",
    "ORDER BY avg_gdp DESC;\n",
    "    # left join and group by"
   ]
  },
  {
   "cell_type": "markdown",
   "metadata": {},
   "source": [
    "## FULL JOINs"
   ]
  },
  {
   "cell_type": "code",
   "execution_count": null,
   "metadata": {
    "collapsed": true
   },
   "outputs": [],
   "source": [
    "SELECT name AS country, code, region, basic_unit\n",
    "FROM countries\n",
    "FULL JOIN currencies\n",
    "USING (code)\n",
    "WHERE region = 'North America' OR region IS NULL \n",
    "ORDER BY region;"
   ]
  },
  {
   "cell_type": "code",
   "execution_count": null,
   "metadata": {
    "collapsed": true
   },
   "outputs": [],
   "source": [
    "SELECT c1.name AS country, region, l.name AS language,\n",
    "       c2.basic_unit, c2.frac_unit\n",
    "FROM countries AS c1\n",
    "FULL JOIN languages AS l\n",
    "USING (code)\n",
    "FULL JOIN currencies AS c2\n",
    "USING (code)\n",
    "WHERE region LIKE 'M%esia';"
   ]
  },
  {
   "cell_type": "markdown",
   "metadata": {},
   "source": [
    "## CROSSing the rubicon"
   ]
  },
  {
   "cell_type": "code",
   "execution_count": null,
   "metadata": {
    "collapsed": true
   },
   "outputs": [],
   "source": [
    "SELECT c.name AS city, l.name AS language\n",
    "FROM cities AS c\n",
    "CROSS JOIN languages AS l\n",
    "WHERE c.name LIKE 'Hyder%';"
   ]
  },
  {
   "cell_type": "markdown",
   "metadata": {},
   "source": [
    "# Set theory clauses"
   ]
  },
  {
   "cell_type": "markdown",
   "metadata": {},
   "source": [
    "* img \n",
    "![Screen Shot 2017-09-13 at 14.19.33.png](http://upload-images.jianshu.io/upload_images/1526845-2cd64c41b2088f87.png?imageMogr2/auto-orient/strip%7CimageView2/2/w/1240)"
   ]
  },
  {
   "cell_type": "markdown",
   "metadata": {},
   "source": [
    "## State of the UNION"
   ]
  },
  {
   "cell_type": "code",
   "execution_count": null,
   "metadata": {
    "collapsed": true
   },
   "outputs": [],
   "source": [
    "SELECT * \n",
    "FROM economies2010\n",
    "UNION\n",
    "SELECT * \n",
    "FROM economies2015\n",
    "ORDER BY code, year;"
   ]
  },
  {
   "cell_type": "markdown",
   "metadata": {},
   "source": [
    "## INTERSECTional data science"
   ]
  },
  {
   "cell_type": "code",
   "execution_count": null,
   "metadata": {
    "collapsed": true
   },
   "outputs": [],
   "source": [
    "SELECT code, year \n",
    "FROM economies\n",
    "INTERSECT\n",
    "SELECT country_code, year\n",
    "FROM populations;"
   ]
  },
  {
   "cell_type": "markdown",
   "metadata": {},
   "source": [
    "## EXCEPTional"
   ]
  },
  {
   "cell_type": "code",
   "execution_count": null,
   "metadata": {
    "collapsed": true
   },
   "outputs": [],
   "source": [
    "SELECT capital\n",
    "FROM countries\n",
    "EXCEPT\n",
    "SELECT name\n",
    "FROM cities\n",
    "ORDER BY capital;"
   ]
  },
  {
   "cell_type": "markdown",
   "metadata": {},
   "source": [
    "## Semi-joins and Anti-joins"
   ]
  },
  {
   "cell_type": "code",
   "execution_count": null,
   "metadata": {
    "collapsed": true
   },
   "outputs": [],
   "source": [
    "# semi-join, no built-in code in SQL\n",
    "SELECT DISTINCT name\n",
    "FROM languages\n",
    "WHERE code IN\n",
    "    (\n",
    "    SELECT code\n",
    "    FROM countries\n",
    "    WHERE region = 'Middle East'\n",
    "    )\n",
    "ORDER BY name;\n",
    "    # select cols of left table \n",
    "    # based on vals of the right table"
   ]
  },
  {
   "cell_type": "code",
   "execution_count": null,
   "metadata": {
    "collapsed": true
   },
   "outputs": [],
   "source": []
  },
  {
   "cell_type": "markdown",
   "metadata": {},
   "source": [
    "# Subqueries"
   ]
  },
  {
   "cell_type": "markdown",
   "metadata": {},
   "source": [
    "## Subqueries inside WHERE and SELECT clauses"
   ]
  },
  {
   "cell_type": "markdown",
   "metadata": {},
   "source": [
    "## Subquery inside FROM clause"
   ]
  },
  {
   "cell_type": "markdown",
   "metadata": {},
   "source": [
    "## Course review"
   ]
  },
  {
   "cell_type": "code",
   "execution_count": null,
   "metadata": {
    "collapsed": true
   },
   "outputs": [],
   "source": []
  }
 ],
 "metadata": {
  "kernelspec": {
   "display_name": "Python 3",
   "language": "python",
   "name": "python3"
  },
  "language_info": {
   "codemirror_mode": {
    "name": "ipython",
    "version": 3
   },
   "file_extension": ".py",
   "mimetype": "text/x-python",
   "name": "python",
   "nbconvert_exporter": "python",
   "pygments_lexer": "ipython3",
   "version": "3.6.1"
  },
  "toc": {
   "nav_menu": {
    "height": "12px",
    "width": "252px"
   },
   "number_sections": true,
   "sideBar": false,
   "skip_h1_title": false,
   "toc_cell": false,
   "toc_position": {
    "height": "490px",
    "left": "19px",
    "right": "20px",
    "top": "130px",
    "width": "109px"
   },
   "toc_section_display": "block",
   "toc_window_display": true
  }
 },
 "nbformat": 4,
 "nbformat_minor": 2
}
